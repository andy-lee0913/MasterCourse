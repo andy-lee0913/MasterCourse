{
 "cells": [
  {
   "cell_type": "markdown",
   "metadata": {},
   "source": [
    "### Q1:  \n",
    "\n",
    "1.  You are required  to make a user-agent that will crawl the WWW (your familiar domain)  to produce dataset of a particular website. \n",
    "    -\t the web site can be as simple as a list of webpages and what other pages they\n",
    "link to\n",
    "    -\tthe output does not need to be in XHTML (or HTML) form a multi-stage approach (e.g. produce the xhtml or html  in csv format  )        \n",
    "\n",
    "\n",
    "\n"
   ]
  },
  {
   "cell_type": "code",
   "execution_count": 224,
   "metadata": {},
   "outputs": [],
   "source": [
    "#import libraries\n",
    "import pandas as pd\n",
    "transaction=pd.read_csv(\"Transactions.csv\")\n",
    "product=pd.read_csv(\"prod_cat_info.csv\")\n",
    "customer=pd.read_csv(\"Customer.csv\")"
   ]
  },
  {
   "cell_type": "code",
   "execution_count": 225,
   "metadata": {},
   "outputs": [
    {
     "data": {
      "text/html": [
       "<div>\n",
       "<style scoped>\n",
       "    .dataframe tbody tr th:only-of-type {\n",
       "        vertical-align: middle;\n",
       "    }\n",
       "\n",
       "    .dataframe tbody tr th {\n",
       "        vertical-align: top;\n",
       "    }\n",
       "\n",
       "    .dataframe thead th {\n",
       "        text-align: right;\n",
       "    }\n",
       "</style>\n",
       "<table border=\"1\" class=\"dataframe\">\n",
       "  <thead>\n",
       "    <tr style=\"text-align: right;\">\n",
       "      <th></th>\n",
       "      <th>transaction_id</th>\n",
       "      <th>cust_id</th>\n",
       "      <th>tran_date</th>\n",
       "      <th>prod_subcat_code</th>\n",
       "      <th>prod_cat_code</th>\n",
       "      <th>Qty</th>\n",
       "      <th>Rate</th>\n",
       "      <th>Tax</th>\n",
       "      <th>total_amt</th>\n",
       "      <th>Store_type</th>\n",
       "    </tr>\n",
       "  </thead>\n",
       "  <tbody>\n",
       "    <tr>\n",
       "      <th>0</th>\n",
       "      <td>80712190438</td>\n",
       "      <td>270351</td>\n",
       "      <td>28-02-2014</td>\n",
       "      <td>1</td>\n",
       "      <td>1</td>\n",
       "      <td>-5</td>\n",
       "      <td>-772</td>\n",
       "      <td>405.300</td>\n",
       "      <td>-4265.300</td>\n",
       "      <td>e-Shop</td>\n",
       "    </tr>\n",
       "    <tr>\n",
       "      <th>1</th>\n",
       "      <td>29258453508</td>\n",
       "      <td>270384</td>\n",
       "      <td>27-02-2014</td>\n",
       "      <td>5</td>\n",
       "      <td>3</td>\n",
       "      <td>-5</td>\n",
       "      <td>-1497</td>\n",
       "      <td>785.925</td>\n",
       "      <td>-8270.925</td>\n",
       "      <td>e-Shop</td>\n",
       "    </tr>\n",
       "    <tr>\n",
       "      <th>2</th>\n",
       "      <td>51750724947</td>\n",
       "      <td>273420</td>\n",
       "      <td>24-02-2014</td>\n",
       "      <td>6</td>\n",
       "      <td>5</td>\n",
       "      <td>-2</td>\n",
       "      <td>-791</td>\n",
       "      <td>166.110</td>\n",
       "      <td>-1748.110</td>\n",
       "      <td>TeleShop</td>\n",
       "    </tr>\n",
       "    <tr>\n",
       "      <th>3</th>\n",
       "      <td>93274880719</td>\n",
       "      <td>271509</td>\n",
       "      <td>24-02-2014</td>\n",
       "      <td>11</td>\n",
       "      <td>6</td>\n",
       "      <td>-3</td>\n",
       "      <td>-1363</td>\n",
       "      <td>429.345</td>\n",
       "      <td>-4518.345</td>\n",
       "      <td>e-Shop</td>\n",
       "    </tr>\n",
       "    <tr>\n",
       "      <th>4</th>\n",
       "      <td>51750724947</td>\n",
       "      <td>273420</td>\n",
       "      <td>23-02-2014</td>\n",
       "      <td>6</td>\n",
       "      <td>5</td>\n",
       "      <td>-2</td>\n",
       "      <td>-791</td>\n",
       "      <td>166.110</td>\n",
       "      <td>-1748.110</td>\n",
       "      <td>TeleShop</td>\n",
       "    </tr>\n",
       "  </tbody>\n",
       "</table>\n",
       "</div>"
      ],
      "text/plain": [
       "   transaction_id  cust_id   tran_date  prod_subcat_code  prod_cat_code  Qty  \\\n",
       "0     80712190438   270351  28-02-2014                 1              1   -5   \n",
       "1     29258453508   270384  27-02-2014                 5              3   -5   \n",
       "2     51750724947   273420  24-02-2014                 6              5   -2   \n",
       "3     93274880719   271509  24-02-2014                11              6   -3   \n",
       "4     51750724947   273420  23-02-2014                 6              5   -2   \n",
       "\n",
       "   Rate      Tax  total_amt Store_type  \n",
       "0  -772  405.300  -4265.300     e-Shop  \n",
       "1 -1497  785.925  -8270.925     e-Shop  \n",
       "2  -791  166.110  -1748.110   TeleShop  \n",
       "3 -1363  429.345  -4518.345     e-Shop  \n",
       "4  -791  166.110  -1748.110   TeleShop  "
      ]
     },
     "execution_count": 225,
     "metadata": {},
     "output_type": "execute_result"
    }
   ],
   "source": [
    "#data preprossing\n",
    "transaction.head()"
   ]
  },
  {
   "cell_type": "code",
   "execution_count": 226,
   "metadata": {},
   "outputs": [
    {
     "data": {
      "text/html": [
       "<div>\n",
       "<style scoped>\n",
       "    .dataframe tbody tr th:only-of-type {\n",
       "        vertical-align: middle;\n",
       "    }\n",
       "\n",
       "    .dataframe tbody tr th {\n",
       "        vertical-align: top;\n",
       "    }\n",
       "\n",
       "    .dataframe thead th {\n",
       "        text-align: right;\n",
       "    }\n",
       "</style>\n",
       "<table border=\"1\" class=\"dataframe\">\n",
       "  <thead>\n",
       "    <tr style=\"text-align: right;\">\n",
       "      <th></th>\n",
       "      <th>prod_cat_code</th>\n",
       "      <th>prod_cat</th>\n",
       "      <th>prod_sub_cat_code</th>\n",
       "      <th>prod_subcat</th>\n",
       "    </tr>\n",
       "  </thead>\n",
       "  <tbody>\n",
       "    <tr>\n",
       "      <th>0</th>\n",
       "      <td>1</td>\n",
       "      <td>Clothing</td>\n",
       "      <td>4</td>\n",
       "      <td>Mens</td>\n",
       "    </tr>\n",
       "    <tr>\n",
       "      <th>1</th>\n",
       "      <td>1</td>\n",
       "      <td>Clothing</td>\n",
       "      <td>1</td>\n",
       "      <td>Women</td>\n",
       "    </tr>\n",
       "    <tr>\n",
       "      <th>2</th>\n",
       "      <td>1</td>\n",
       "      <td>Clothing</td>\n",
       "      <td>3</td>\n",
       "      <td>Kids</td>\n",
       "    </tr>\n",
       "    <tr>\n",
       "      <th>3</th>\n",
       "      <td>2</td>\n",
       "      <td>Footwear</td>\n",
       "      <td>1</td>\n",
       "      <td>Mens</td>\n",
       "    </tr>\n",
       "    <tr>\n",
       "      <th>4</th>\n",
       "      <td>2</td>\n",
       "      <td>Footwear</td>\n",
       "      <td>3</td>\n",
       "      <td>Women</td>\n",
       "    </tr>\n",
       "    <tr>\n",
       "      <th>5</th>\n",
       "      <td>2</td>\n",
       "      <td>Footwear</td>\n",
       "      <td>4</td>\n",
       "      <td>Kids</td>\n",
       "    </tr>\n",
       "    <tr>\n",
       "      <th>6</th>\n",
       "      <td>3</td>\n",
       "      <td>Electronics</td>\n",
       "      <td>4</td>\n",
       "      <td>Mobiles</td>\n",
       "    </tr>\n",
       "    <tr>\n",
       "      <th>7</th>\n",
       "      <td>3</td>\n",
       "      <td>Electronics</td>\n",
       "      <td>5</td>\n",
       "      <td>Computers</td>\n",
       "    </tr>\n",
       "    <tr>\n",
       "      <th>8</th>\n",
       "      <td>3</td>\n",
       "      <td>Electronics</td>\n",
       "      <td>8</td>\n",
       "      <td>Personal Appliances</td>\n",
       "    </tr>\n",
       "    <tr>\n",
       "      <th>9</th>\n",
       "      <td>3</td>\n",
       "      <td>Electronics</td>\n",
       "      <td>9</td>\n",
       "      <td>Cameras</td>\n",
       "    </tr>\n",
       "    <tr>\n",
       "      <th>10</th>\n",
       "      <td>3</td>\n",
       "      <td>Electronics</td>\n",
       "      <td>10</td>\n",
       "      <td>Audio and video</td>\n",
       "    </tr>\n",
       "    <tr>\n",
       "      <th>11</th>\n",
       "      <td>4</td>\n",
       "      <td>Bags</td>\n",
       "      <td>1</td>\n",
       "      <td>Mens</td>\n",
       "    </tr>\n",
       "    <tr>\n",
       "      <th>12</th>\n",
       "      <td>4</td>\n",
       "      <td>Bags</td>\n",
       "      <td>4</td>\n",
       "      <td>Women</td>\n",
       "    </tr>\n",
       "    <tr>\n",
       "      <th>13</th>\n",
       "      <td>5</td>\n",
       "      <td>Books</td>\n",
       "      <td>7</td>\n",
       "      <td>Fiction</td>\n",
       "    </tr>\n",
       "    <tr>\n",
       "      <th>14</th>\n",
       "      <td>5</td>\n",
       "      <td>Books</td>\n",
       "      <td>12</td>\n",
       "      <td>Academic</td>\n",
       "    </tr>\n",
       "    <tr>\n",
       "      <th>15</th>\n",
       "      <td>5</td>\n",
       "      <td>Books</td>\n",
       "      <td>10</td>\n",
       "      <td>Non-Fiction</td>\n",
       "    </tr>\n",
       "    <tr>\n",
       "      <th>16</th>\n",
       "      <td>5</td>\n",
       "      <td>Books</td>\n",
       "      <td>11</td>\n",
       "      <td>Children</td>\n",
       "    </tr>\n",
       "    <tr>\n",
       "      <th>17</th>\n",
       "      <td>5</td>\n",
       "      <td>Books</td>\n",
       "      <td>3</td>\n",
       "      <td>Comics</td>\n",
       "    </tr>\n",
       "    <tr>\n",
       "      <th>18</th>\n",
       "      <td>5</td>\n",
       "      <td>Books</td>\n",
       "      <td>6</td>\n",
       "      <td>DIY</td>\n",
       "    </tr>\n",
       "    <tr>\n",
       "      <th>19</th>\n",
       "      <td>6</td>\n",
       "      <td>Home and kitchen</td>\n",
       "      <td>2</td>\n",
       "      <td>Furnishing</td>\n",
       "    </tr>\n",
       "    <tr>\n",
       "      <th>20</th>\n",
       "      <td>6</td>\n",
       "      <td>Home and kitchen</td>\n",
       "      <td>10</td>\n",
       "      <td>Kitchen</td>\n",
       "    </tr>\n",
       "    <tr>\n",
       "      <th>21</th>\n",
       "      <td>6</td>\n",
       "      <td>Home and kitchen</td>\n",
       "      <td>11</td>\n",
       "      <td>Bath</td>\n",
       "    </tr>\n",
       "    <tr>\n",
       "      <th>22</th>\n",
       "      <td>6</td>\n",
       "      <td>Home and kitchen</td>\n",
       "      <td>12</td>\n",
       "      <td>Tools</td>\n",
       "    </tr>\n",
       "  </tbody>\n",
       "</table>\n",
       "</div>"
      ],
      "text/plain": [
       "    prod_cat_code          prod_cat  prod_sub_cat_code          prod_subcat\n",
       "0               1          Clothing                  4                 Mens\n",
       "1               1          Clothing                  1                Women\n",
       "2               1          Clothing                  3                 Kids\n",
       "3               2          Footwear                  1                 Mens\n",
       "4               2          Footwear                  3                Women\n",
       "5               2          Footwear                  4                 Kids\n",
       "6               3       Electronics                  4              Mobiles\n",
       "7               3       Electronics                  5            Computers\n",
       "8               3       Electronics                  8  Personal Appliances\n",
       "9               3       Electronics                  9              Cameras\n",
       "10              3       Electronics                 10      Audio and video\n",
       "11              4              Bags                  1                 Mens\n",
       "12              4              Bags                  4                Women\n",
       "13              5             Books                  7              Fiction\n",
       "14              5             Books                 12             Academic\n",
       "15              5             Books                 10          Non-Fiction\n",
       "16              5             Books                 11             Children\n",
       "17              5             Books                  3               Comics\n",
       "18              5             Books                  6                  DIY\n",
       "19              6  Home and kitchen                  2           Furnishing\n",
       "20              6  Home and kitchen                 10              Kitchen\n",
       "21              6  Home and kitchen                 11                 Bath\n",
       "22              6  Home and kitchen                 12                Tools"
      ]
     },
     "execution_count": 226,
     "metadata": {},
     "output_type": "execute_result"
    }
   ],
   "source": [
    "product.head(100)"
   ]
  },
  {
   "cell_type": "code",
   "execution_count": 227,
   "metadata": {},
   "outputs": [
    {
     "data": {
      "text/html": [
       "<div>\n",
       "<style scoped>\n",
       "    .dataframe tbody tr th:only-of-type {\n",
       "        vertical-align: middle;\n",
       "    }\n",
       "\n",
       "    .dataframe tbody tr th {\n",
       "        vertical-align: top;\n",
       "    }\n",
       "\n",
       "    .dataframe thead th {\n",
       "        text-align: right;\n",
       "    }\n",
       "</style>\n",
       "<table border=\"1\" class=\"dataframe\">\n",
       "  <thead>\n",
       "    <tr style=\"text-align: right;\">\n",
       "      <th></th>\n",
       "      <th>customer_Id</th>\n",
       "      <th>DOB</th>\n",
       "      <th>Gender</th>\n",
       "      <th>city_code</th>\n",
       "    </tr>\n",
       "  </thead>\n",
       "  <tbody>\n",
       "    <tr>\n",
       "      <th>0</th>\n",
       "      <td>268408</td>\n",
       "      <td>02-01-1970</td>\n",
       "      <td>M</td>\n",
       "      <td>4.0</td>\n",
       "    </tr>\n",
       "    <tr>\n",
       "      <th>1</th>\n",
       "      <td>269696</td>\n",
       "      <td>07-01-1970</td>\n",
       "      <td>F</td>\n",
       "      <td>8.0</td>\n",
       "    </tr>\n",
       "    <tr>\n",
       "      <th>2</th>\n",
       "      <td>268159</td>\n",
       "      <td>08-01-1970</td>\n",
       "      <td>F</td>\n",
       "      <td>8.0</td>\n",
       "    </tr>\n",
       "    <tr>\n",
       "      <th>3</th>\n",
       "      <td>270181</td>\n",
       "      <td>10-01-1970</td>\n",
       "      <td>F</td>\n",
       "      <td>2.0</td>\n",
       "    </tr>\n",
       "    <tr>\n",
       "      <th>4</th>\n",
       "      <td>268073</td>\n",
       "      <td>11-01-1970</td>\n",
       "      <td>M</td>\n",
       "      <td>1.0</td>\n",
       "    </tr>\n",
       "  </tbody>\n",
       "</table>\n",
       "</div>"
      ],
      "text/plain": [
       "   customer_Id         DOB Gender  city_code\n",
       "0       268408  02-01-1970      M        4.0\n",
       "1       269696  07-01-1970      F        8.0\n",
       "2       268159  08-01-1970      F        8.0\n",
       "3       270181  10-01-1970      F        2.0\n",
       "4       268073  11-01-1970      M        1.0"
      ]
     },
     "execution_count": 227,
     "metadata": {},
     "output_type": "execute_result"
    }
   ],
   "source": [
    "customer.head()"
   ]
  },
  {
   "cell_type": "markdown",
   "metadata": {},
   "source": [
    "### Q2:  \n",
    "\n",
    "2.  Draw snowflake schema diagram for the above dataset. Justify your attributes to be selected in the respective dimensions."
   ]
  },
  {
   "cell_type": "markdown",
   "metadata": {},
   "source": [
    "The snowflake schema should meet the three requirements\n",
    "\n",
    "\n",
    "- 1 build fact table surrended by dimension  tables\n",
    "\n",
    "- 2 reduce data redundancy\n",
    "\n",
    "- 3 Normalized data sturcture\n",
    "\n",
    "We will draw the the entity relationship diagram to represent the snowflake schema"
   ]
  },
  {
   "cell_type": "code",
   "execution_count": 228,
   "metadata": {},
   "outputs": [
    {
     "data": {
      "text/plain": [
       "Index(['transaction_id', 'cust_id', 'tran_date', 'prod_subcat_code',\n",
       "       'prod_cat_code', 'Qty', 'Rate', 'Tax', 'total_amt', 'Store_type'],\n",
       "      dtype='object')"
      ]
     },
     "execution_count": 228,
     "metadata": {},
     "output_type": "execute_result"
    }
   ],
   "source": [
    "transaction.columns"
   ]
  },
  {
   "cell_type": "code",
   "execution_count": 229,
   "metadata": {},
   "outputs": [
    {
     "data": {
      "text/plain": [
       "Index(['customer_Id', 'DOB', 'Gender', 'city_code'], dtype='object')"
      ]
     },
     "execution_count": 229,
     "metadata": {},
     "output_type": "execute_result"
    }
   ],
   "source": [
    "customer.columns"
   ]
  },
  {
   "cell_type": "code",
   "execution_count": 230,
   "metadata": {},
   "outputs": [
    {
     "data": {
      "text/plain": [
       "Index(['prod_cat_code', 'prod_cat', 'prod_sub_cat_code', 'prod_subcat'], dtype='object')"
      ]
     },
     "execution_count": 230,
     "metadata": {},
     "output_type": "execute_result"
    }
   ],
   "source": [
    "product.columns"
   ]
  },
  {
   "cell_type": "code",
   "execution_count": 231,
   "metadata": {},
   "outputs": [
    {
     "data": {
      "text/html": [
       "<div>\n",
       "<style scoped>\n",
       "    .dataframe tbody tr th:only-of-type {\n",
       "        vertical-align: middle;\n",
       "    }\n",
       "\n",
       "    .dataframe tbody tr th {\n",
       "        vertical-align: top;\n",
       "    }\n",
       "\n",
       "    .dataframe thead th {\n",
       "        text-align: right;\n",
       "    }\n",
       "</style>\n",
       "<table border=\"1\" class=\"dataframe\">\n",
       "  <thead>\n",
       "    <tr style=\"text-align: right;\">\n",
       "      <th></th>\n",
       "      <th>transaction_id</th>\n",
       "      <th>cust_id</th>\n",
       "      <th>tran_date</th>\n",
       "    </tr>\n",
       "  </thead>\n",
       "  <tbody>\n",
       "    <tr>\n",
       "      <th>0</th>\n",
       "      <td>80712190438</td>\n",
       "      <td>270351</td>\n",
       "      <td>28-02-2014</td>\n",
       "    </tr>\n",
       "    <tr>\n",
       "      <th>1</th>\n",
       "      <td>29258453508</td>\n",
       "      <td>270384</td>\n",
       "      <td>27-02-2014</td>\n",
       "    </tr>\n",
       "    <tr>\n",
       "      <th>2</th>\n",
       "      <td>51750724947</td>\n",
       "      <td>273420</td>\n",
       "      <td>24-02-2014</td>\n",
       "    </tr>\n",
       "  </tbody>\n",
       "</table>\n",
       "</div>"
      ],
      "text/plain": [
       "   transaction_id  cust_id   tran_date\n",
       "0     80712190438   270351  28-02-2014\n",
       "1     29258453508   270384  27-02-2014\n",
       "2     51750724947   273420  24-02-2014"
      ]
     },
     "execution_count": 231,
     "metadata": {},
     "output_type": "execute_result"
    }
   ],
   "source": [
    "#draw the fact table\n",
    "Fact_Transaction=transaction[[\"transaction_id\",\"cust_id\",\"tran_date\"]]\n",
    "Fact_Transaction.head(3)"
   ]
  },
  {
   "cell_type": "markdown",
   "metadata": {},
   "source": [
    "<img src=\"https://tva1.sinaimg.cn/large/007S8ZIlgy1gg4e50cbv8j30jo096403.jpg\" width=\"300\" height=\"500\" align=\"bottom\" />"
   ]
  },
  {
   "cell_type": "code",
   "execution_count": 232,
   "metadata": {},
   "outputs": [
    {
     "data": {
      "text/html": [
       "<div>\n",
       "<style scoped>\n",
       "    .dataframe tbody tr th:only-of-type {\n",
       "        vertical-align: middle;\n",
       "    }\n",
       "\n",
       "    .dataframe tbody tr th {\n",
       "        vertical-align: top;\n",
       "    }\n",
       "\n",
       "    .dataframe thead th {\n",
       "        text-align: right;\n",
       "    }\n",
       "</style>\n",
       "<table border=\"1\" class=\"dataframe\">\n",
       "  <thead>\n",
       "    <tr style=\"text-align: right;\">\n",
       "      <th></th>\n",
       "      <th>customer_Id</th>\n",
       "      <th>DOB</th>\n",
       "      <th>Gender</th>\n",
       "      <th>city_code</th>\n",
       "    </tr>\n",
       "  </thead>\n",
       "  <tbody>\n",
       "    <tr>\n",
       "      <th>0</th>\n",
       "      <td>268408</td>\n",
       "      <td>02-01-1970</td>\n",
       "      <td>M</td>\n",
       "      <td>4.0</td>\n",
       "    </tr>\n",
       "    <tr>\n",
       "      <th>1</th>\n",
       "      <td>269696</td>\n",
       "      <td>07-01-1970</td>\n",
       "      <td>F</td>\n",
       "      <td>8.0</td>\n",
       "    </tr>\n",
       "    <tr>\n",
       "      <th>2</th>\n",
       "      <td>268159</td>\n",
       "      <td>08-01-1970</td>\n",
       "      <td>F</td>\n",
       "      <td>8.0</td>\n",
       "    </tr>\n",
       "  </tbody>\n",
       "</table>\n",
       "</div>"
      ],
      "text/plain": [
       "   customer_Id         DOB Gender  city_code\n",
       "0       268408  02-01-1970      M        4.0\n",
       "1       269696  07-01-1970      F        8.0\n",
       "2       268159  08-01-1970      F        8.0"
      ]
     },
     "execution_count": 232,
     "metadata": {},
     "output_type": "execute_result"
    }
   ],
   "source": [
    "#draw customer dim table\n",
    "\n",
    "Dim_Customer=customer[[\"customer_Id\",\"DOB\",\"Gender\",\"city_code\"]]\n",
    "Dim_Customer.head(3)"
   ]
  },
  {
   "cell_type": "markdown",
   "metadata": {},
   "source": [
    "<img src=\"https://tva1.sinaimg.cn/large/007S8ZIlgy1gg4eefh7btj30bo06eq3c.jpg\" width=\"300\" height=\"500\" align=\"bottom\" />"
   ]
  },
  {
   "cell_type": "code",
   "execution_count": 233,
   "metadata": {},
   "outputs": [
    {
     "data": {
      "text/html": [
       "<div>\n",
       "<style scoped>\n",
       "    .dataframe tbody tr th:only-of-type {\n",
       "        vertical-align: middle;\n",
       "    }\n",
       "\n",
       "    .dataframe tbody tr th {\n",
       "        vertical-align: top;\n",
       "    }\n",
       "\n",
       "    .dataframe thead th {\n",
       "        text-align: right;\n",
       "    }\n",
       "</style>\n",
       "<table border=\"1\" class=\"dataframe\">\n",
       "  <thead>\n",
       "    <tr style=\"text-align: right;\">\n",
       "      <th></th>\n",
       "      <th>city_code</th>\n",
       "    </tr>\n",
       "  </thead>\n",
       "  <tbody>\n",
       "    <tr>\n",
       "      <th>0</th>\n",
       "      <td>4.0</td>\n",
       "    </tr>\n",
       "    <tr>\n",
       "      <th>1</th>\n",
       "      <td>8.0</td>\n",
       "    </tr>\n",
       "    <tr>\n",
       "      <th>2</th>\n",
       "      <td>8.0</td>\n",
       "    </tr>\n",
       "  </tbody>\n",
       "</table>\n",
       "</div>"
      ],
      "text/plain": [
       "   city_code\n",
       "0        4.0\n",
       "1        8.0\n",
       "2        8.0"
      ]
     },
     "execution_count": 233,
     "metadata": {},
     "output_type": "execute_result"
    }
   ],
   "source": [
    "#draw city dim table\n",
    "\n",
    "Dim_City=customer[[\"city_code\"]]\n",
    "Dim_City.head(3)"
   ]
  },
  {
   "cell_type": "markdown",
   "metadata": {},
   "source": [
    "<img src=\"https://tva1.sinaimg.cn/large/007S8ZIlgy1gg4egxzwqaj30b604uaa9.jpg\" width=\"300\" height=\"500\" align=\"bottom\" />"
   ]
  },
  {
   "cell_type": "markdown",
   "metadata": {},
   "source": [
    "### Q3:  \n",
    "\n",
    "3.   You are required to write code to  create a decision tree (DT) model using the above dataset (Question 1). In order to achieve the task, you are going to cover the following steps:\n",
    "\n",
    "    - Importing required libraries\n",
    "    - Loading Data\n",
    "    - Feature Selection\n",
    "    - Splitting Data\n",
    "    - Building Decision Tree Model\n",
    "    - Evaluating Model\n",
    "    - Visualizing Decision Trees\n"
   ]
  },
  {
   "cell_type": "code",
   "execution_count": 263,
   "metadata": {},
   "outputs": [],
   "source": [
    "# before we do that, we need merge the there data sets \n",
    "# first step we will merge Transactions and Customer datasets and drop the duplicated value\n",
    "\n",
    "df = pd.merge(left = customer, right = transaction, left_on = 'customer_Id', right_on = 'cust_id').drop('cust_id', axis =1)\n",
    "\n"
   ]
  },
  {
   "cell_type": "code",
   "execution_count": 264,
   "metadata": {},
   "outputs": [],
   "source": [
    "\n",
    "df.duplicated().sum()\n",
    "df.drop_duplicates(inplace = True)"
   ]
  },
  {
   "cell_type": "code",
   "execution_count": 265,
   "metadata": {},
   "outputs": [],
   "source": [
    "# seond step we will merge the df and products datasets\n",
    "\n",
    "df_new = pd.merge(df,product,\n",
    "                  left_on = ('prod_subcat_code', \"prod_cat_code\"),\n",
    "                  right_on = ('prod_sub_cat_code', \"prod_cat_code\")).drop('prod_sub_cat_code', axis =1)"
   ]
  },
  {
   "cell_type": "code",
   "execution_count": null,
   "metadata": {},
   "outputs": [],
   "source": []
  },
  {
   "cell_type": "code",
   "execution_count": 266,
   "metadata": {},
   "outputs": [
    {
     "data": {
      "text/html": [
       "<div>\n",
       "<style scoped>\n",
       "    .dataframe tbody tr th:only-of-type {\n",
       "        vertical-align: middle;\n",
       "    }\n",
       "\n",
       "    .dataframe tbody tr th {\n",
       "        vertical-align: top;\n",
       "    }\n",
       "\n",
       "    .dataframe thead th {\n",
       "        text-align: right;\n",
       "    }\n",
       "</style>\n",
       "<table border=\"1\" class=\"dataframe\">\n",
       "  <thead>\n",
       "    <tr style=\"text-align: right;\">\n",
       "      <th></th>\n",
       "      <th>customer_Id</th>\n",
       "      <th>DOB</th>\n",
       "      <th>Gender</th>\n",
       "      <th>city_code</th>\n",
       "      <th>transaction_id</th>\n",
       "      <th>tran_date</th>\n",
       "      <th>prod_subcat_code</th>\n",
       "      <th>prod_cat_code</th>\n",
       "      <th>Qty</th>\n",
       "      <th>Rate</th>\n",
       "      <th>Tax</th>\n",
       "      <th>total_amt</th>\n",
       "      <th>Store_type</th>\n",
       "      <th>prod_cat</th>\n",
       "      <th>prod_subcat</th>\n",
       "    </tr>\n",
       "  </thead>\n",
       "  <tbody>\n",
       "    <tr>\n",
       "      <th>0</th>\n",
       "      <td>268408</td>\n",
       "      <td>02-01-1970</td>\n",
       "      <td>M</td>\n",
       "      <td>4.0</td>\n",
       "      <td>87243835584</td>\n",
       "      <td>13-01-2014</td>\n",
       "      <td>7</td>\n",
       "      <td>5</td>\n",
       "      <td>5</td>\n",
       "      <td>187</td>\n",
       "      <td>98.175</td>\n",
       "      <td>1033.175</td>\n",
       "      <td>TeleShop</td>\n",
       "      <td>Books</td>\n",
       "      <td>Fiction</td>\n",
       "    </tr>\n",
       "    <tr>\n",
       "      <th>1</th>\n",
       "      <td>275152</td>\n",
       "      <td>16-01-1970</td>\n",
       "      <td>M</td>\n",
       "      <td>4.0</td>\n",
       "      <td>73109425404</td>\n",
       "      <td>25-03-2011</td>\n",
       "      <td>7</td>\n",
       "      <td>5</td>\n",
       "      <td>2</td>\n",
       "      <td>464</td>\n",
       "      <td>97.440</td>\n",
       "      <td>1025.440</td>\n",
       "      <td>e-Shop</td>\n",
       "      <td>Books</td>\n",
       "      <td>Fiction</td>\n",
       "    </tr>\n",
       "    <tr>\n",
       "      <th>2</th>\n",
       "      <td>275034</td>\n",
       "      <td>18-01-1970</td>\n",
       "      <td>F</td>\n",
       "      <td>4.0</td>\n",
       "      <td>64777271023</td>\n",
       "      <td>23-05-2011</td>\n",
       "      <td>7</td>\n",
       "      <td>5</td>\n",
       "      <td>2</td>\n",
       "      <td>197</td>\n",
       "      <td>41.370</td>\n",
       "      <td>435.370</td>\n",
       "      <td>Flagship store</td>\n",
       "      <td>Books</td>\n",
       "      <td>Fiction</td>\n",
       "    </tr>\n",
       "    <tr>\n",
       "      <th>3</th>\n",
       "      <td>270829</td>\n",
       "      <td>22-01-1970</td>\n",
       "      <td>F</td>\n",
       "      <td>8.0</td>\n",
       "      <td>87174343938</td>\n",
       "      <td>9/12/2013</td>\n",
       "      <td>7</td>\n",
       "      <td>5</td>\n",
       "      <td>4</td>\n",
       "      <td>1141</td>\n",
       "      <td>479.220</td>\n",
       "      <td>5043.220</td>\n",
       "      <td>e-Shop</td>\n",
       "      <td>Books</td>\n",
       "      <td>Fiction</td>\n",
       "    </tr>\n",
       "    <tr>\n",
       "      <th>4</th>\n",
       "      <td>267657</td>\n",
       "      <td>29-01-1970</td>\n",
       "      <td>F</td>\n",
       "      <td>7.0</td>\n",
       "      <td>76242744953</td>\n",
       "      <td>23-05-2013</td>\n",
       "      <td>7</td>\n",
       "      <td>5</td>\n",
       "      <td>4</td>\n",
       "      <td>1020</td>\n",
       "      <td>428.400</td>\n",
       "      <td>4508.400</td>\n",
       "      <td>e-Shop</td>\n",
       "      <td>Books</td>\n",
       "      <td>Fiction</td>\n",
       "    </tr>\n",
       "  </tbody>\n",
       "</table>\n",
       "</div>"
      ],
      "text/plain": [
       "   customer_Id         DOB Gender  city_code  transaction_id   tran_date  \\\n",
       "0       268408  02-01-1970      M        4.0     87243835584  13-01-2014   \n",
       "1       275152  16-01-1970      M        4.0     73109425404  25-03-2011   \n",
       "2       275034  18-01-1970      F        4.0     64777271023  23-05-2011   \n",
       "3       270829  22-01-1970      F        8.0     87174343938   9/12/2013   \n",
       "4       267657  29-01-1970      F        7.0     76242744953  23-05-2013   \n",
       "\n",
       "   prod_subcat_code  prod_cat_code  Qty  Rate      Tax  total_amt  \\\n",
       "0                 7              5    5   187   98.175   1033.175   \n",
       "1                 7              5    2   464   97.440   1025.440   \n",
       "2                 7              5    2   197   41.370    435.370   \n",
       "3                 7              5    4  1141  479.220   5043.220   \n",
       "4                 7              5    4  1020  428.400   4508.400   \n",
       "\n",
       "       Store_type prod_cat prod_subcat  \n",
       "0        TeleShop    Books     Fiction  \n",
       "1          e-Shop    Books     Fiction  \n",
       "2  Flagship store    Books     Fiction  \n",
       "3          e-Shop    Books     Fiction  \n",
       "4          e-Shop    Books     Fiction  "
      ]
     },
     "execution_count": 266,
     "metadata": {},
     "output_type": "execute_result"
    }
   ],
   "source": [
    "df_new.head()"
   ]
  },
  {
   "cell_type": "code",
   "execution_count": 267,
   "metadata": {},
   "outputs": [],
   "source": [
    "# df_new.Gender=df_new.Gender.replace({\"M\":0,\"F\":1})"
   ]
  },
  {
   "cell_type": "code",
   "execution_count": 268,
   "metadata": {},
   "outputs": [],
   "source": [
    "#calculate age through tran_date and DOB\n",
    "\n",
    "df_new['tran_date'] = pd.to_datetime(df_new['tran_date'], errors='coerce')\n",
    "df_new.insert(loc=3, column='Tran_year', value= df_new.tran_date.dt.year)\n",
    "\n",
    "\n",
    "df_new['DOB'] = pd.to_datetime(df_new['DOB'], errors='coerce')\n",
    "df_new.insert(loc=4, column='Birth_year', value= df_new.DOB.dt.year)"
   ]
  },
  {
   "cell_type": "code",
   "execution_count": null,
   "metadata": {},
   "outputs": [],
   "source": []
  },
  {
   "cell_type": "code",
   "execution_count": 269,
   "metadata": {},
   "outputs": [],
   "source": [
    "df_new['Tran_year']=df_new['Tran_year'].astype(int)\n",
    "df_new['Birth_year']=df_new['Birth_year'].astype(int)"
   ]
  },
  {
   "cell_type": "code",
   "execution_count": 270,
   "metadata": {},
   "outputs": [],
   "source": [
    "df_new[\"age\"]=df_new['Tran_year'] -df_new['Birth_year']"
   ]
  },
  {
   "cell_type": "code",
   "execution_count": 271,
   "metadata": {},
   "outputs": [
    {
     "data": {
      "text/html": [
       "<div>\n",
       "<style scoped>\n",
       "    .dataframe tbody tr th:only-of-type {\n",
       "        vertical-align: middle;\n",
       "    }\n",
       "\n",
       "    .dataframe tbody tr th {\n",
       "        vertical-align: top;\n",
       "    }\n",
       "\n",
       "    .dataframe thead th {\n",
       "        text-align: right;\n",
       "    }\n",
       "</style>\n",
       "<table border=\"1\" class=\"dataframe\">\n",
       "  <thead>\n",
       "    <tr style=\"text-align: right;\">\n",
       "      <th></th>\n",
       "      <th>customer_Id</th>\n",
       "      <th>DOB</th>\n",
       "      <th>Gender</th>\n",
       "      <th>Tran_year</th>\n",
       "      <th>Birth_year</th>\n",
       "      <th>city_code</th>\n",
       "      <th>transaction_id</th>\n",
       "      <th>tran_date</th>\n",
       "      <th>prod_subcat_code</th>\n",
       "      <th>prod_cat_code</th>\n",
       "      <th>Qty</th>\n",
       "      <th>Rate</th>\n",
       "      <th>Tax</th>\n",
       "      <th>total_amt</th>\n",
       "      <th>Store_type</th>\n",
       "      <th>prod_cat</th>\n",
       "      <th>prod_subcat</th>\n",
       "      <th>age</th>\n",
       "    </tr>\n",
       "  </thead>\n",
       "  <tbody>\n",
       "    <tr>\n",
       "      <th>0</th>\n",
       "      <td>268408</td>\n",
       "      <td>1970-02-01</td>\n",
       "      <td>0.0</td>\n",
       "      <td>2014</td>\n",
       "      <td>1970</td>\n",
       "      <td>4.0</td>\n",
       "      <td>87243835584</td>\n",
       "      <td>2014-01-13</td>\n",
       "      <td>7</td>\n",
       "      <td>5</td>\n",
       "      <td>5</td>\n",
       "      <td>187</td>\n",
       "      <td>98.175</td>\n",
       "      <td>1033.175</td>\n",
       "      <td>TeleShop</td>\n",
       "      <td>Books</td>\n",
       "      <td>Fiction</td>\n",
       "      <td>44</td>\n",
       "    </tr>\n",
       "    <tr>\n",
       "      <th>1</th>\n",
       "      <td>275152</td>\n",
       "      <td>1970-01-16</td>\n",
       "      <td>0.0</td>\n",
       "      <td>2011</td>\n",
       "      <td>1970</td>\n",
       "      <td>4.0</td>\n",
       "      <td>73109425404</td>\n",
       "      <td>2011-03-25</td>\n",
       "      <td>7</td>\n",
       "      <td>5</td>\n",
       "      <td>2</td>\n",
       "      <td>464</td>\n",
       "      <td>97.440</td>\n",
       "      <td>1025.440</td>\n",
       "      <td>e-Shop</td>\n",
       "      <td>Books</td>\n",
       "      <td>Fiction</td>\n",
       "      <td>41</td>\n",
       "    </tr>\n",
       "    <tr>\n",
       "      <th>2</th>\n",
       "      <td>275034</td>\n",
       "      <td>1970-01-18</td>\n",
       "      <td>1.0</td>\n",
       "      <td>2011</td>\n",
       "      <td>1970</td>\n",
       "      <td>4.0</td>\n",
       "      <td>64777271023</td>\n",
       "      <td>2011-05-23</td>\n",
       "      <td>7</td>\n",
       "      <td>5</td>\n",
       "      <td>2</td>\n",
       "      <td>197</td>\n",
       "      <td>41.370</td>\n",
       "      <td>435.370</td>\n",
       "      <td>Flagship store</td>\n",
       "      <td>Books</td>\n",
       "      <td>Fiction</td>\n",
       "      <td>41</td>\n",
       "    </tr>\n",
       "    <tr>\n",
       "      <th>3</th>\n",
       "      <td>270829</td>\n",
       "      <td>1970-01-22</td>\n",
       "      <td>1.0</td>\n",
       "      <td>2013</td>\n",
       "      <td>1970</td>\n",
       "      <td>8.0</td>\n",
       "      <td>87174343938</td>\n",
       "      <td>2013-09-12</td>\n",
       "      <td>7</td>\n",
       "      <td>5</td>\n",
       "      <td>4</td>\n",
       "      <td>1141</td>\n",
       "      <td>479.220</td>\n",
       "      <td>5043.220</td>\n",
       "      <td>e-Shop</td>\n",
       "      <td>Books</td>\n",
       "      <td>Fiction</td>\n",
       "      <td>43</td>\n",
       "    </tr>\n",
       "    <tr>\n",
       "      <th>4</th>\n",
       "      <td>267657</td>\n",
       "      <td>1970-01-29</td>\n",
       "      <td>1.0</td>\n",
       "      <td>2013</td>\n",
       "      <td>1970</td>\n",
       "      <td>7.0</td>\n",
       "      <td>76242744953</td>\n",
       "      <td>2013-05-23</td>\n",
       "      <td>7</td>\n",
       "      <td>5</td>\n",
       "      <td>4</td>\n",
       "      <td>1020</td>\n",
       "      <td>428.400</td>\n",
       "      <td>4508.400</td>\n",
       "      <td>e-Shop</td>\n",
       "      <td>Books</td>\n",
       "      <td>Fiction</td>\n",
       "      <td>43</td>\n",
       "    </tr>\n",
       "  </tbody>\n",
       "</table>\n",
       "</div>"
      ],
      "text/plain": [
       "   customer_Id        DOB  Gender  Tran_year  Birth_year  city_code  \\\n",
       "0       268408 1970-02-01     0.0       2014        1970        4.0   \n",
       "1       275152 1970-01-16     0.0       2011        1970        4.0   \n",
       "2       275034 1970-01-18     1.0       2011        1970        4.0   \n",
       "3       270829 1970-01-22     1.0       2013        1970        8.0   \n",
       "4       267657 1970-01-29     1.0       2013        1970        7.0   \n",
       "\n",
       "   transaction_id  tran_date  prod_subcat_code  prod_cat_code  Qty  Rate  \\\n",
       "0     87243835584 2014-01-13                 7              5    5   187   \n",
       "1     73109425404 2011-03-25                 7              5    2   464   \n",
       "2     64777271023 2011-05-23                 7              5    2   197   \n",
       "3     87174343938 2013-09-12                 7              5    4  1141   \n",
       "4     76242744953 2013-05-23                 7              5    4  1020   \n",
       "\n",
       "       Tax  total_amt      Store_type prod_cat prod_subcat  age  \n",
       "0   98.175   1033.175        TeleShop    Books     Fiction   44  \n",
       "1   97.440   1025.440          e-Shop    Books     Fiction   41  \n",
       "2   41.370    435.370  Flagship store    Books     Fiction   41  \n",
       "3  479.220   5043.220          e-Shop    Books     Fiction   43  \n",
       "4  428.400   4508.400          e-Shop    Books     Fiction   43  "
      ]
     },
     "execution_count": 271,
     "metadata": {},
     "output_type": "execute_result"
    }
   ],
   "source": [
    "df_new.head()"
   ]
  },
  {
   "cell_type": "code",
   "execution_count": 272,
   "metadata": {},
   "outputs": [
    {
     "data": {
      "text/plain": [
       "Books               6066\n",
       "Electronics         4895\n",
       "Home and kitchen    4126\n",
       "Footwear            2996\n",
       "Clothing            2960\n",
       "Bags                1997\n",
       "Name: prod_cat, dtype: int64"
      ]
     },
     "execution_count": 272,
     "metadata": {},
     "output_type": "execute_result"
    }
   ],
   "source": [
    "df_new.prod_cat.value_counts()"
   ]
  },
  {
   "cell_type": "code",
   "execution_count": 273,
   "metadata": {},
   "outputs": [
    {
     "data": {
      "text/plain": [
       "19     338\n",
       "20     595\n",
       "21     959\n",
       "22     950\n",
       "23    1047\n",
       "24    1079\n",
       "25    1053\n",
       "26    1011\n",
       "27     976\n",
       "28     945\n",
       "29     944\n",
       "30     938\n",
       "31     994\n",
       "32    1054\n",
       "33    1062\n",
       "34     966\n",
       "35    1013\n",
       "36    1024\n",
       "37    1066\n",
       "38    1001\n",
       "39     989\n",
       "40    1000\n",
       "41     970\n",
       "42     668\n",
       "43     352\n",
       "44      46\n",
       "Name: age, dtype: int64"
      ]
     },
     "execution_count": 273,
     "metadata": {},
     "output_type": "execute_result"
    }
   ],
   "source": [
    "df_new.age.value_counts().sort_index()"
   ]
  },
  {
   "cell_type": "code",
   "execution_count": 274,
   "metadata": {},
   "outputs": [],
   "source": [
    "df_new[\"age_categeory\"] = df_new[\"age\"]"
   ]
  },
  {
   "cell_type": "code",
   "execution_count": 275,
   "metadata": {},
   "outputs": [],
   "source": [
    "df_new[\"age_categeory\"]=df_new[\"age_categeory\"].apply(lambda x: \"young aduld\" if x<=25 else \"adult\")"
   ]
  },
  {
   "cell_type": "code",
   "execution_count": null,
   "metadata": {},
   "outputs": [],
   "source": []
  },
  {
   "cell_type": "code",
   "execution_count": 276,
   "metadata": {},
   "outputs": [],
   "source": [
    "# DF=df_new.groupby(['customer_Id']).total_amt.sum()\n",
    "\n",
    "# DF2=df_new.groupby(['customer_Id']).age.mean()\n",
    "\n",
    "\n",
    "DF3=df_new.groupby(['customer_Id']).Gender.unique()"
   ]
  },
  {
   "cell_type": "code",
   "execution_count": 277,
   "metadata": {},
   "outputs": [
    {
     "data": {
      "text/plain": [
       "adult          17019\n",
       "young aduld     6021\n",
       "Name: age_categeory, dtype: int64"
      ]
     },
     "execution_count": 277,
     "metadata": {},
     "output_type": "execute_result"
    }
   ],
   "source": [
    "df_new.age_categeory.value_counts()"
   ]
  },
  {
   "cell_type": "code",
   "execution_count": 278,
   "metadata": {},
   "outputs": [
    {
     "data": {
      "text/plain": [
       "3113.89"
      ]
     },
     "execution_count": 278,
     "metadata": {},
     "output_type": "execute_result"
    }
   ],
   "source": [
    "df_new[df_new.customer_Id==266783].total_amt.sum()"
   ]
  },
  {
   "cell_type": "code",
   "execution_count": 279,
   "metadata": {},
   "outputs": [],
   "source": [
    "# df_new[\"Gold_member\"]= df[\"total_amt\"]>500\n",
    "# df_new.Gold_member.value_counts()"
   ]
  },
  {
   "cell_type": "code",
   "execution_count": 280,
   "metadata": {},
   "outputs": [],
   "source": [
    "# select attibutes:\n",
    "\n",
    "# X:age, gender,prod_subcat_code,prod_cat_code,Qty, Rate,Tax  Y:total_amt"
   ]
  },
  {
   "cell_type": "code",
   "execution_count": 281,
   "metadata": {},
   "outputs": [],
   "source": [
    "# df_new=df_new.dropna()\n",
    "# len(df_new)\n",
    "# df_new=df_new.dropna()"
   ]
  },
  {
   "cell_type": "code",
   "execution_count": 282,
   "metadata": {},
   "outputs": [
    {
     "data": {
      "text/plain": [
       "adult          17002\n",
       "young aduld     6021\n",
       "Name: age_categeory, dtype: int64"
      ]
     },
     "execution_count": 282,
     "metadata": {},
     "output_type": "execute_result"
    }
   ],
   "source": [
    "# df_new.head()\n",
    "df_new=df_new.dropna()\n",
    "df_new.age_categeory.value_counts()\n"
   ]
  },
  {
   "cell_type": "code",
   "execution_count": 283,
   "metadata": {},
   "outputs": [
    {
     "data": {
      "text/html": [
       "<div>\n",
       "<style scoped>\n",
       "    .dataframe tbody tr th:only-of-type {\n",
       "        vertical-align: middle;\n",
       "    }\n",
       "\n",
       "    .dataframe tbody tr th {\n",
       "        vertical-align: top;\n",
       "    }\n",
       "\n",
       "    .dataframe thead th {\n",
       "        text-align: right;\n",
       "    }\n",
       "</style>\n",
       "<table border=\"1\" class=\"dataframe\">\n",
       "  <thead>\n",
       "    <tr style=\"text-align: right;\">\n",
       "      <th></th>\n",
       "      <th>customer_Id</th>\n",
       "      <th>DOB</th>\n",
       "      <th>Gender</th>\n",
       "      <th>Tran_year</th>\n",
       "      <th>Birth_year</th>\n",
       "      <th>city_code</th>\n",
       "      <th>transaction_id</th>\n",
       "      <th>tran_date</th>\n",
       "      <th>prod_subcat_code</th>\n",
       "      <th>prod_cat_code</th>\n",
       "      <th>Qty</th>\n",
       "      <th>Rate</th>\n",
       "      <th>Tax</th>\n",
       "      <th>total_amt</th>\n",
       "      <th>Store_type</th>\n",
       "      <th>prod_cat</th>\n",
       "      <th>prod_subcat</th>\n",
       "      <th>age</th>\n",
       "      <th>age_categeory</th>\n",
       "    </tr>\n",
       "  </thead>\n",
       "  <tbody>\n",
       "    <tr>\n",
       "      <th>0</th>\n",
       "      <td>268408</td>\n",
       "      <td>1970-02-01</td>\n",
       "      <td>0.0</td>\n",
       "      <td>2014</td>\n",
       "      <td>1970</td>\n",
       "      <td>4.0</td>\n",
       "      <td>87243835584</td>\n",
       "      <td>2014-01-13</td>\n",
       "      <td>7</td>\n",
       "      <td>5</td>\n",
       "      <td>5</td>\n",
       "      <td>187</td>\n",
       "      <td>98.175</td>\n",
       "      <td>1033.175</td>\n",
       "      <td>TeleShop</td>\n",
       "      <td>Books</td>\n",
       "      <td>Fiction</td>\n",
       "      <td>44</td>\n",
       "      <td>adult</td>\n",
       "    </tr>\n",
       "    <tr>\n",
       "      <th>1</th>\n",
       "      <td>275152</td>\n",
       "      <td>1970-01-16</td>\n",
       "      <td>0.0</td>\n",
       "      <td>2011</td>\n",
       "      <td>1970</td>\n",
       "      <td>4.0</td>\n",
       "      <td>73109425404</td>\n",
       "      <td>2011-03-25</td>\n",
       "      <td>7</td>\n",
       "      <td>5</td>\n",
       "      <td>2</td>\n",
       "      <td>464</td>\n",
       "      <td>97.440</td>\n",
       "      <td>1025.440</td>\n",
       "      <td>e-Shop</td>\n",
       "      <td>Books</td>\n",
       "      <td>Fiction</td>\n",
       "      <td>41</td>\n",
       "      <td>adult</td>\n",
       "    </tr>\n",
       "    <tr>\n",
       "      <th>2</th>\n",
       "      <td>275034</td>\n",
       "      <td>1970-01-18</td>\n",
       "      <td>1.0</td>\n",
       "      <td>2011</td>\n",
       "      <td>1970</td>\n",
       "      <td>4.0</td>\n",
       "      <td>64777271023</td>\n",
       "      <td>2011-05-23</td>\n",
       "      <td>7</td>\n",
       "      <td>5</td>\n",
       "      <td>2</td>\n",
       "      <td>197</td>\n",
       "      <td>41.370</td>\n",
       "      <td>435.370</td>\n",
       "      <td>Flagship store</td>\n",
       "      <td>Books</td>\n",
       "      <td>Fiction</td>\n",
       "      <td>41</td>\n",
       "      <td>adult</td>\n",
       "    </tr>\n",
       "    <tr>\n",
       "      <th>3</th>\n",
       "      <td>270829</td>\n",
       "      <td>1970-01-22</td>\n",
       "      <td>1.0</td>\n",
       "      <td>2013</td>\n",
       "      <td>1970</td>\n",
       "      <td>8.0</td>\n",
       "      <td>87174343938</td>\n",
       "      <td>2013-09-12</td>\n",
       "      <td>7</td>\n",
       "      <td>5</td>\n",
       "      <td>4</td>\n",
       "      <td>1141</td>\n",
       "      <td>479.220</td>\n",
       "      <td>5043.220</td>\n",
       "      <td>e-Shop</td>\n",
       "      <td>Books</td>\n",
       "      <td>Fiction</td>\n",
       "      <td>43</td>\n",
       "      <td>adult</td>\n",
       "    </tr>\n",
       "    <tr>\n",
       "      <th>4</th>\n",
       "      <td>267657</td>\n",
       "      <td>1970-01-29</td>\n",
       "      <td>1.0</td>\n",
       "      <td>2013</td>\n",
       "      <td>1970</td>\n",
       "      <td>7.0</td>\n",
       "      <td>76242744953</td>\n",
       "      <td>2013-05-23</td>\n",
       "      <td>7</td>\n",
       "      <td>5</td>\n",
       "      <td>4</td>\n",
       "      <td>1020</td>\n",
       "      <td>428.400</td>\n",
       "      <td>4508.400</td>\n",
       "      <td>e-Shop</td>\n",
       "      <td>Books</td>\n",
       "      <td>Fiction</td>\n",
       "      <td>43</td>\n",
       "      <td>adult</td>\n",
       "    </tr>\n",
       "  </tbody>\n",
       "</table>\n",
       "</div>"
      ],
      "text/plain": [
       "   customer_Id        DOB  Gender  Tran_year  Birth_year  city_code  \\\n",
       "0       268408 1970-02-01     0.0       2014        1970        4.0   \n",
       "1       275152 1970-01-16     0.0       2011        1970        4.0   \n",
       "2       275034 1970-01-18     1.0       2011        1970        4.0   \n",
       "3       270829 1970-01-22     1.0       2013        1970        8.0   \n",
       "4       267657 1970-01-29     1.0       2013        1970        7.0   \n",
       "\n",
       "   transaction_id  tran_date  prod_subcat_code  prod_cat_code  Qty  Rate  \\\n",
       "0     87243835584 2014-01-13                 7              5    5   187   \n",
       "1     73109425404 2011-03-25                 7              5    2   464   \n",
       "2     64777271023 2011-05-23                 7              5    2   197   \n",
       "3     87174343938 2013-09-12                 7              5    4  1141   \n",
       "4     76242744953 2013-05-23                 7              5    4  1020   \n",
       "\n",
       "       Tax  total_amt      Store_type prod_cat prod_subcat  age age_categeory  \n",
       "0   98.175   1033.175        TeleShop    Books     Fiction   44         adult  \n",
       "1   97.440   1025.440          e-Shop    Books     Fiction   41         adult  \n",
       "2   41.370    435.370  Flagship store    Books     Fiction   41         adult  \n",
       "3  479.220   5043.220          e-Shop    Books     Fiction   43         adult  \n",
       "4  428.400   4508.400          e-Shop    Books     Fiction   43         adult  "
      ]
     },
     "execution_count": 283,
     "metadata": {},
     "output_type": "execute_result"
    }
   ],
   "source": [
    "df_new.head()"
   ]
  },
  {
   "cell_type": "code",
   "execution_count": 284,
   "metadata": {},
   "outputs": [],
   "source": [
    "df_new.city_code=df_new.city_code.astype(object)"
   ]
  },
  {
   "cell_type": "code",
   "execution_count": 285,
   "metadata": {},
   "outputs": [],
   "source": [
    "Y=df_new.age_categeory\n",
    "\n",
    "\n",
    "X=df_new.loc[:,[\"Gender\",\"city_code\",\"prod_subcat\",\"Store_type\"]]\n",
    "\n",
    "# X=df_new.drop(['customer_Id',\"DOB\",\"Tran_year\",\"Birth_year\",\"transaction_id\",\"tran_date\",\"prod_subcat_code\",\"prod_cat_code\",\"age\",\"age_categeory\",\"Qty\",\"Rate\",\"Tax\",\"total_amt\"],axis=1)\n"
   ]
  },
  {
   "cell_type": "code",
   "execution_count": 286,
   "metadata": {},
   "outputs": [
    {
     "data": {
      "text/plain": [
       "0    adult\n",
       "1    adult\n",
       "2    adult\n",
       "3    adult\n",
       "4    adult\n",
       "Name: age_categeory, dtype: object"
      ]
     },
     "execution_count": 286,
     "metadata": {},
     "output_type": "execute_result"
    }
   ],
   "source": [
    "Y.head()"
   ]
  },
  {
   "cell_type": "code",
   "execution_count": 287,
   "metadata": {},
   "outputs": [],
   "source": [
    "X= pd.get_dummies(X)\n",
    "Y= pd.get_dummies(Y)\n",
    "from sklearn.model_selection import train_test_split\n",
    "\n",
    "X_train, X_test, y_train, y_test = train_test_split(X, Y, test_size=0.2,random_state=4)"
   ]
  },
  {
   "cell_type": "code",
   "execution_count": 288,
   "metadata": {},
   "outputs": [],
   "source": [
    "from sklearn.tree import DecisionTreeClassifier\n",
    "\n",
    "decision_tree = DecisionTreeClassifier(random_state=4)\n",
    "\n",
    "decisiontree = decision_tree.fit(X_train,y_train)\n",
    "\n",
    "y_pred=decisiontree.predict(X_test)"
   ]
  },
  {
   "cell_type": "code",
   "execution_count": 289,
   "metadata": {},
   "outputs": [
    {
     "name": "stdout",
     "output_type": "stream",
     "text": [
      "performance of train:accuracy: 0.7323813660549463\n"
     ]
    }
   ],
   "source": [
    "print(\"performance of train:accuracy:\",decisiontree.score(X_train, y_train))"
   ]
  },
  {
   "cell_type": "code",
   "execution_count": 290,
   "metadata": {},
   "outputs": [
    {
     "name": "stdout",
     "output_type": "stream",
     "text": [
      "performance of test:accuracy: 0.705971769815418\n"
     ]
    }
   ],
   "source": [
    "print(\"performance of test:accuracy:\",decisiontree.score(X_test, y_test))"
   ]
  },
  {
   "cell_type": "code",
   "execution_count": 291,
   "metadata": {},
   "outputs": [
    {
     "name": "stdout",
     "output_type": "stream",
     "text": [
      "              precision    recall  f1-score   support\n",
      "\n",
      "           0       0.74      0.95      0.83      3382\n",
      "           1       0.34      0.04      0.07      1223\n",
      "\n",
      "   micro avg       0.73      0.71      0.72      4605\n",
      "   macro avg       0.54      0.49      0.45      4605\n",
      "weighted avg       0.63      0.71      0.63      4605\n",
      " samples avg       0.71      0.71      0.71      4605\n",
      "\n"
     ]
    },
    {
     "name": "stderr",
     "output_type": "stream",
     "text": [
      "/Users/liuhongyang/anaconda3/lib/python3.7/site-packages/sklearn/metrics/classification.py:1437: UndefinedMetricWarning:\n",
      "\n",
      "Precision and F-score are ill-defined and being set to 0.0 in samples with no predicted labels.\n",
      "\n"
     ]
    }
   ],
   "source": [
    "from sklearn.metrics import classification_report\n",
    "\n",
    "print(classification_report(y_test,y_pred))"
   ]
  },
  {
   "cell_type": "code",
   "execution_count": 293,
   "metadata": {},
   "outputs": [
    {
     "data": {
      "application/vnd.plotly.v1+json": {
       "config": {
        "plotlyServerURL": "https://plot.ly"
       },
       "data": [
        {
         "alignmentgroup": "True",
         "hoverlabel": {
          "namelength": 0
         },
         "hovertemplate": "columns=%{x}<br>importance=%{y}",
         "legendgroup": "",
         "marker": {
          "color": "#636efa"
         },
         "name": "",
         "offsetgroup": "",
         "orientation": "v",
         "showlegend": false,
         "textposition": "auto",
         "type": "bar",
         "x": [
          "city_code_2.0",
          "city_code_8.0",
          "city_code_1.0",
          "city_code_9.0",
          "prod_subcat_Women",
          "Gender",
          "prod_subcat_Bath",
          "prod_subcat_Kids",
          "prod_subcat_Academic",
          "prod_subcat_Computers",
          "prod_subcat_Tools",
          "prod_subcat_Mens",
          "city_code_3.0",
          "prod_subcat_Personal Appliances",
          "city_code_6.0",
          "prod_subcat_Fiction",
          "city_code_10.0",
          "prod_subcat_DIY",
          "prod_subcat_Cameras",
          "prod_subcat_Mobiles",
          "prod_subcat_Comics",
          "prod_subcat_Audio and video",
          "prod_subcat_Non-Fiction",
          "city_code_5.0",
          "prod_subcat_Children",
          "prod_subcat_Furnishing",
          "prod_subcat_Kitchen",
          "city_code_7.0",
          "city_code_4.0",
          "Store_type_TeleShop",
          "Store_type_Flagship store",
          "Store_type_e-Shop",
          "Store_type_MBR"
         ],
         "xaxis": "x",
         "y": [
          0.0027421645607419057,
          0.0040508192698171085,
          0.006133023899455382,
          0.010113351364558185,
          0.019135910861102737,
          0.020217078160858493,
          0.02063212491640852,
          0.021806728533482186,
          0.022507319671734242,
          0.022722907486335948,
          0.023819828017595333,
          0.024447439084108697,
          0.024641759249668584,
          0.02635122659115322,
          0.02699973352699203,
          0.027702163233765644,
          0.02788565563639964,
          0.029193913749532653,
          0.029487947015033624,
          0.02983697566965635,
          0.02994558407724717,
          0.03038800248154054,
          0.0318424561184469,
          0.03474838399948448,
          0.035347912727050255,
          0.037718746678094904,
          0.03798979352316586,
          0.03968042407864773,
          0.04981648553233095,
          0.051188286629908424,
          0.05613085801737694,
          0.0612595134527739,
          0.08351548218553152
         ],
         "yaxis": "y"
        }
       ],
       "layout": {
        "barmode": "relative",
        "height": 600,
        "legend": {
         "tracegroupgap": 0
        },
        "margin": {
         "t": 60
        },
        "template": {
         "data": {
          "bar": [
           {
            "error_x": {
             "color": "#2a3f5f"
            },
            "error_y": {
             "color": "#2a3f5f"
            },
            "marker": {
             "line": {
              "color": "#E5ECF6",
              "width": 0.5
             }
            },
            "type": "bar"
           }
          ],
          "barpolar": [
           {
            "marker": {
             "line": {
              "color": "#E5ECF6",
              "width": 0.5
             }
            },
            "type": "barpolar"
           }
          ],
          "carpet": [
           {
            "aaxis": {
             "endlinecolor": "#2a3f5f",
             "gridcolor": "white",
             "linecolor": "white",
             "minorgridcolor": "white",
             "startlinecolor": "#2a3f5f"
            },
            "baxis": {
             "endlinecolor": "#2a3f5f",
             "gridcolor": "white",
             "linecolor": "white",
             "minorgridcolor": "white",
             "startlinecolor": "#2a3f5f"
            },
            "type": "carpet"
           }
          ],
          "choropleth": [
           {
            "colorbar": {
             "outlinewidth": 0,
             "ticks": ""
            },
            "type": "choropleth"
           }
          ],
          "contour": [
           {
            "colorbar": {
             "outlinewidth": 0,
             "ticks": ""
            },
            "colorscale": [
             [
              0,
              "#0d0887"
             ],
             [
              0.1111111111111111,
              "#46039f"
             ],
             [
              0.2222222222222222,
              "#7201a8"
             ],
             [
              0.3333333333333333,
              "#9c179e"
             ],
             [
              0.4444444444444444,
              "#bd3786"
             ],
             [
              0.5555555555555556,
              "#d8576b"
             ],
             [
              0.6666666666666666,
              "#ed7953"
             ],
             [
              0.7777777777777778,
              "#fb9f3a"
             ],
             [
              0.8888888888888888,
              "#fdca26"
             ],
             [
              1,
              "#f0f921"
             ]
            ],
            "type": "contour"
           }
          ],
          "contourcarpet": [
           {
            "colorbar": {
             "outlinewidth": 0,
             "ticks": ""
            },
            "type": "contourcarpet"
           }
          ],
          "heatmap": [
           {
            "colorbar": {
             "outlinewidth": 0,
             "ticks": ""
            },
            "colorscale": [
             [
              0,
              "#0d0887"
             ],
             [
              0.1111111111111111,
              "#46039f"
             ],
             [
              0.2222222222222222,
              "#7201a8"
             ],
             [
              0.3333333333333333,
              "#9c179e"
             ],
             [
              0.4444444444444444,
              "#bd3786"
             ],
             [
              0.5555555555555556,
              "#d8576b"
             ],
             [
              0.6666666666666666,
              "#ed7953"
             ],
             [
              0.7777777777777778,
              "#fb9f3a"
             ],
             [
              0.8888888888888888,
              "#fdca26"
             ],
             [
              1,
              "#f0f921"
             ]
            ],
            "type": "heatmap"
           }
          ],
          "heatmapgl": [
           {
            "colorbar": {
             "outlinewidth": 0,
             "ticks": ""
            },
            "colorscale": [
             [
              0,
              "#0d0887"
             ],
             [
              0.1111111111111111,
              "#46039f"
             ],
             [
              0.2222222222222222,
              "#7201a8"
             ],
             [
              0.3333333333333333,
              "#9c179e"
             ],
             [
              0.4444444444444444,
              "#bd3786"
             ],
             [
              0.5555555555555556,
              "#d8576b"
             ],
             [
              0.6666666666666666,
              "#ed7953"
             ],
             [
              0.7777777777777778,
              "#fb9f3a"
             ],
             [
              0.8888888888888888,
              "#fdca26"
             ],
             [
              1,
              "#f0f921"
             ]
            ],
            "type": "heatmapgl"
           }
          ],
          "histogram": [
           {
            "marker": {
             "colorbar": {
              "outlinewidth": 0,
              "ticks": ""
             }
            },
            "type": "histogram"
           }
          ],
          "histogram2d": [
           {
            "colorbar": {
             "outlinewidth": 0,
             "ticks": ""
            },
            "colorscale": [
             [
              0,
              "#0d0887"
             ],
             [
              0.1111111111111111,
              "#46039f"
             ],
             [
              0.2222222222222222,
              "#7201a8"
             ],
             [
              0.3333333333333333,
              "#9c179e"
             ],
             [
              0.4444444444444444,
              "#bd3786"
             ],
             [
              0.5555555555555556,
              "#d8576b"
             ],
             [
              0.6666666666666666,
              "#ed7953"
             ],
             [
              0.7777777777777778,
              "#fb9f3a"
             ],
             [
              0.8888888888888888,
              "#fdca26"
             ],
             [
              1,
              "#f0f921"
             ]
            ],
            "type": "histogram2d"
           }
          ],
          "histogram2dcontour": [
           {
            "colorbar": {
             "outlinewidth": 0,
             "ticks": ""
            },
            "colorscale": [
             [
              0,
              "#0d0887"
             ],
             [
              0.1111111111111111,
              "#46039f"
             ],
             [
              0.2222222222222222,
              "#7201a8"
             ],
             [
              0.3333333333333333,
              "#9c179e"
             ],
             [
              0.4444444444444444,
              "#bd3786"
             ],
             [
              0.5555555555555556,
              "#d8576b"
             ],
             [
              0.6666666666666666,
              "#ed7953"
             ],
             [
              0.7777777777777778,
              "#fb9f3a"
             ],
             [
              0.8888888888888888,
              "#fdca26"
             ],
             [
              1,
              "#f0f921"
             ]
            ],
            "type": "histogram2dcontour"
           }
          ],
          "mesh3d": [
           {
            "colorbar": {
             "outlinewidth": 0,
             "ticks": ""
            },
            "type": "mesh3d"
           }
          ],
          "parcoords": [
           {
            "line": {
             "colorbar": {
              "outlinewidth": 0,
              "ticks": ""
             }
            },
            "type": "parcoords"
           }
          ],
          "pie": [
           {
            "automargin": true,
            "type": "pie"
           }
          ],
          "scatter": [
           {
            "marker": {
             "colorbar": {
              "outlinewidth": 0,
              "ticks": ""
             }
            },
            "type": "scatter"
           }
          ],
          "scatter3d": [
           {
            "line": {
             "colorbar": {
              "outlinewidth": 0,
              "ticks": ""
             }
            },
            "marker": {
             "colorbar": {
              "outlinewidth": 0,
              "ticks": ""
             }
            },
            "type": "scatter3d"
           }
          ],
          "scattercarpet": [
           {
            "marker": {
             "colorbar": {
              "outlinewidth": 0,
              "ticks": ""
             }
            },
            "type": "scattercarpet"
           }
          ],
          "scattergeo": [
           {
            "marker": {
             "colorbar": {
              "outlinewidth": 0,
              "ticks": ""
             }
            },
            "type": "scattergeo"
           }
          ],
          "scattergl": [
           {
            "marker": {
             "colorbar": {
              "outlinewidth": 0,
              "ticks": ""
             }
            },
            "type": "scattergl"
           }
          ],
          "scattermapbox": [
           {
            "marker": {
             "colorbar": {
              "outlinewidth": 0,
              "ticks": ""
             }
            },
            "type": "scattermapbox"
           }
          ],
          "scatterpolar": [
           {
            "marker": {
             "colorbar": {
              "outlinewidth": 0,
              "ticks": ""
             }
            },
            "type": "scatterpolar"
           }
          ],
          "scatterpolargl": [
           {
            "marker": {
             "colorbar": {
              "outlinewidth": 0,
              "ticks": ""
             }
            },
            "type": "scatterpolargl"
           }
          ],
          "scatterternary": [
           {
            "marker": {
             "colorbar": {
              "outlinewidth": 0,
              "ticks": ""
             }
            },
            "type": "scatterternary"
           }
          ],
          "surface": [
           {
            "colorbar": {
             "outlinewidth": 0,
             "ticks": ""
            },
            "colorscale": [
             [
              0,
              "#0d0887"
             ],
             [
              0.1111111111111111,
              "#46039f"
             ],
             [
              0.2222222222222222,
              "#7201a8"
             ],
             [
              0.3333333333333333,
              "#9c179e"
             ],
             [
              0.4444444444444444,
              "#bd3786"
             ],
             [
              0.5555555555555556,
              "#d8576b"
             ],
             [
              0.6666666666666666,
              "#ed7953"
             ],
             [
              0.7777777777777778,
              "#fb9f3a"
             ],
             [
              0.8888888888888888,
              "#fdca26"
             ],
             [
              1,
              "#f0f921"
             ]
            ],
            "type": "surface"
           }
          ],
          "table": [
           {
            "cells": {
             "fill": {
              "color": "#EBF0F8"
             },
             "line": {
              "color": "white"
             }
            },
            "header": {
             "fill": {
              "color": "#C8D4E3"
             },
             "line": {
              "color": "white"
             }
            },
            "type": "table"
           }
          ]
         },
         "layout": {
          "annotationdefaults": {
           "arrowcolor": "#2a3f5f",
           "arrowhead": 0,
           "arrowwidth": 1
          },
          "coloraxis": {
           "colorbar": {
            "outlinewidth": 0,
            "ticks": ""
           }
          },
          "colorscale": {
           "diverging": [
            [
             0,
             "#8e0152"
            ],
            [
             0.1,
             "#c51b7d"
            ],
            [
             0.2,
             "#de77ae"
            ],
            [
             0.3,
             "#f1b6da"
            ],
            [
             0.4,
             "#fde0ef"
            ],
            [
             0.5,
             "#f7f7f7"
            ],
            [
             0.6,
             "#e6f5d0"
            ],
            [
             0.7,
             "#b8e186"
            ],
            [
             0.8,
             "#7fbc41"
            ],
            [
             0.9,
             "#4d9221"
            ],
            [
             1,
             "#276419"
            ]
           ],
           "sequential": [
            [
             0,
             "#0d0887"
            ],
            [
             0.1111111111111111,
             "#46039f"
            ],
            [
             0.2222222222222222,
             "#7201a8"
            ],
            [
             0.3333333333333333,
             "#9c179e"
            ],
            [
             0.4444444444444444,
             "#bd3786"
            ],
            [
             0.5555555555555556,
             "#d8576b"
            ],
            [
             0.6666666666666666,
             "#ed7953"
            ],
            [
             0.7777777777777778,
             "#fb9f3a"
            ],
            [
             0.8888888888888888,
             "#fdca26"
            ],
            [
             1,
             "#f0f921"
            ]
           ],
           "sequentialminus": [
            [
             0,
             "#0d0887"
            ],
            [
             0.1111111111111111,
             "#46039f"
            ],
            [
             0.2222222222222222,
             "#7201a8"
            ],
            [
             0.3333333333333333,
             "#9c179e"
            ],
            [
             0.4444444444444444,
             "#bd3786"
            ],
            [
             0.5555555555555556,
             "#d8576b"
            ],
            [
             0.6666666666666666,
             "#ed7953"
            ],
            [
             0.7777777777777778,
             "#fb9f3a"
            ],
            [
             0.8888888888888888,
             "#fdca26"
            ],
            [
             1,
             "#f0f921"
            ]
           ]
          },
          "colorway": [
           "#636efa",
           "#EF553B",
           "#00cc96",
           "#ab63fa",
           "#FFA15A",
           "#19d3f3",
           "#FF6692",
           "#B6E880",
           "#FF97FF",
           "#FECB52"
          ],
          "font": {
           "color": "#2a3f5f"
          },
          "geo": {
           "bgcolor": "white",
           "lakecolor": "white",
           "landcolor": "#E5ECF6",
           "showlakes": true,
           "showland": true,
           "subunitcolor": "white"
          },
          "hoverlabel": {
           "align": "left"
          },
          "hovermode": "closest",
          "mapbox": {
           "style": "light"
          },
          "paper_bgcolor": "white",
          "plot_bgcolor": "#E5ECF6",
          "polar": {
           "angularaxis": {
            "gridcolor": "white",
            "linecolor": "white",
            "ticks": ""
           },
           "bgcolor": "#E5ECF6",
           "radialaxis": {
            "gridcolor": "white",
            "linecolor": "white",
            "ticks": ""
           }
          },
          "scene": {
           "xaxis": {
            "backgroundcolor": "#E5ECF6",
            "gridcolor": "white",
            "gridwidth": 2,
            "linecolor": "white",
            "showbackground": true,
            "ticks": "",
            "zerolinecolor": "white"
           },
           "yaxis": {
            "backgroundcolor": "#E5ECF6",
            "gridcolor": "white",
            "gridwidth": 2,
            "linecolor": "white",
            "showbackground": true,
            "ticks": "",
            "zerolinecolor": "white"
           },
           "zaxis": {
            "backgroundcolor": "#E5ECF6",
            "gridcolor": "white",
            "gridwidth": 2,
            "linecolor": "white",
            "showbackground": true,
            "ticks": "",
            "zerolinecolor": "white"
           }
          },
          "shapedefaults": {
           "line": {
            "color": "#2a3f5f"
           }
          },
          "ternary": {
           "aaxis": {
            "gridcolor": "white",
            "linecolor": "white",
            "ticks": ""
           },
           "baxis": {
            "gridcolor": "white",
            "linecolor": "white",
            "ticks": ""
           },
           "bgcolor": "#E5ECF6",
           "caxis": {
            "gridcolor": "white",
            "linecolor": "white",
            "ticks": ""
           }
          },
          "title": {
           "x": 0.05
          },
          "xaxis": {
           "automargin": true,
           "gridcolor": "white",
           "linecolor": "white",
           "ticks": "",
           "title": {
            "standoff": 15
           },
           "zerolinecolor": "white",
           "zerolinewidth": 2
          },
          "yaxis": {
           "automargin": true,
           "gridcolor": "white",
           "linecolor": "white",
           "ticks": "",
           "title": {
            "standoff": 15
           },
           "zerolinecolor": "white",
           "zerolinewidth": 2
          }
         }
        },
        "xaxis": {
         "anchor": "y",
         "domain": [
          0,
          1
         ],
         "title": {
          "text": "columns"
         }
        },
        "yaxis": {
         "anchor": "x",
         "domain": [
          0,
          1
         ],
         "title": {
          "text": "importance"
         }
        }
       }
      },
      "text/html": [
       "<div>\n",
       "        \n",
       "        \n",
       "            <div id=\"1013e771-c1a5-4785-99a3-bf10dd1451b9\" class=\"plotly-graph-div\" style=\"height:600px; width:100%;\"></div>\n",
       "            <script type=\"text/javascript\">\n",
       "                require([\"plotly\"], function(Plotly) {\n",
       "                    window.PLOTLYENV=window.PLOTLYENV || {};\n",
       "                    \n",
       "                if (document.getElementById(\"1013e771-c1a5-4785-99a3-bf10dd1451b9\")) {\n",
       "                    Plotly.newPlot(\n",
       "                        '1013e771-c1a5-4785-99a3-bf10dd1451b9',\n",
       "                        [{\"alignmentgroup\": \"True\", \"hoverlabel\": {\"namelength\": 0}, \"hovertemplate\": \"columns=%{x}<br>importance=%{y}\", \"legendgroup\": \"\", \"marker\": {\"color\": \"#636efa\"}, \"name\": \"\", \"offsetgroup\": \"\", \"orientation\": \"v\", \"showlegend\": false, \"textposition\": \"auto\", \"type\": \"bar\", \"x\": [\"city_code_2.0\", \"city_code_8.0\", \"city_code_1.0\", \"city_code_9.0\", \"prod_subcat_Women\", \"Gender\", \"prod_subcat_Bath\", \"prod_subcat_Kids\", \"prod_subcat_Academic\", \"prod_subcat_Computers\", \"prod_subcat_Tools\", \"prod_subcat_Mens\", \"city_code_3.0\", \"prod_subcat_Personal Appliances\", \"city_code_6.0\", \"prod_subcat_Fiction\", \"city_code_10.0\", \"prod_subcat_DIY\", \"prod_subcat_Cameras\", \"prod_subcat_Mobiles\", \"prod_subcat_Comics\", \"prod_subcat_Audio and video\", \"prod_subcat_Non-Fiction\", \"city_code_5.0\", \"prod_subcat_Children\", \"prod_subcat_Furnishing\", \"prod_subcat_Kitchen\", \"city_code_7.0\", \"city_code_4.0\", \"Store_type_TeleShop\", \"Store_type_Flagship store\", \"Store_type_e-Shop\", \"Store_type_MBR\"], \"xaxis\": \"x\", \"y\": [0.0027421645607419057, 0.0040508192698171085, 0.006133023899455382, 0.010113351364558185, 0.019135910861102737, 0.020217078160858493, 0.02063212491640852, 0.021806728533482186, 0.022507319671734242, 0.022722907486335948, 0.023819828017595333, 0.024447439084108697, 0.024641759249668584, 0.02635122659115322, 0.02699973352699203, 0.027702163233765644, 0.02788565563639964, 0.029193913749532653, 0.029487947015033624, 0.02983697566965635, 0.02994558407724717, 0.03038800248154054, 0.0318424561184469, 0.03474838399948448, 0.035347912727050255, 0.037718746678094904, 0.03798979352316586, 0.03968042407864773, 0.04981648553233095, 0.051188286629908424, 0.05613085801737694, 0.0612595134527739, 0.08351548218553152], \"yaxis\": \"y\"}],\n",
       "                        {\"barmode\": \"relative\", \"height\": 600, \"legend\": {\"tracegroupgap\": 0}, \"margin\": {\"t\": 60}, \"template\": {\"data\": {\"bar\": [{\"error_x\": {\"color\": \"#2a3f5f\"}, \"error_y\": {\"color\": \"#2a3f5f\"}, \"marker\": {\"line\": {\"color\": \"#E5ECF6\", \"width\": 0.5}}, \"type\": \"bar\"}], \"barpolar\": [{\"marker\": {\"line\": {\"color\": \"#E5ECF6\", \"width\": 0.5}}, \"type\": \"barpolar\"}], \"carpet\": [{\"aaxis\": {\"endlinecolor\": \"#2a3f5f\", \"gridcolor\": \"white\", \"linecolor\": \"white\", \"minorgridcolor\": \"white\", \"startlinecolor\": \"#2a3f5f\"}, \"baxis\": {\"endlinecolor\": \"#2a3f5f\", \"gridcolor\": \"white\", \"linecolor\": \"white\", \"minorgridcolor\": \"white\", \"startlinecolor\": \"#2a3f5f\"}, \"type\": \"carpet\"}], \"choropleth\": [{\"colorbar\": {\"outlinewidth\": 0, \"ticks\": \"\"}, \"type\": \"choropleth\"}], \"contour\": [{\"colorbar\": {\"outlinewidth\": 0, \"ticks\": \"\"}, \"colorscale\": [[0.0, \"#0d0887\"], [0.1111111111111111, \"#46039f\"], [0.2222222222222222, \"#7201a8\"], [0.3333333333333333, \"#9c179e\"], [0.4444444444444444, \"#bd3786\"], [0.5555555555555556, \"#d8576b\"], [0.6666666666666666, \"#ed7953\"], [0.7777777777777778, \"#fb9f3a\"], [0.8888888888888888, \"#fdca26\"], [1.0, \"#f0f921\"]], \"type\": \"contour\"}], \"contourcarpet\": [{\"colorbar\": {\"outlinewidth\": 0, \"ticks\": \"\"}, \"type\": \"contourcarpet\"}], \"heatmap\": [{\"colorbar\": {\"outlinewidth\": 0, \"ticks\": \"\"}, \"colorscale\": [[0.0, \"#0d0887\"], [0.1111111111111111, \"#46039f\"], [0.2222222222222222, \"#7201a8\"], [0.3333333333333333, \"#9c179e\"], [0.4444444444444444, \"#bd3786\"], [0.5555555555555556, \"#d8576b\"], [0.6666666666666666, \"#ed7953\"], [0.7777777777777778, \"#fb9f3a\"], [0.8888888888888888, \"#fdca26\"], [1.0, \"#f0f921\"]], \"type\": \"heatmap\"}], \"heatmapgl\": [{\"colorbar\": {\"outlinewidth\": 0, \"ticks\": \"\"}, \"colorscale\": [[0.0, \"#0d0887\"], [0.1111111111111111, \"#46039f\"], [0.2222222222222222, \"#7201a8\"], [0.3333333333333333, \"#9c179e\"], [0.4444444444444444, \"#bd3786\"], [0.5555555555555556, \"#d8576b\"], [0.6666666666666666, \"#ed7953\"], [0.7777777777777778, \"#fb9f3a\"], [0.8888888888888888, \"#fdca26\"], [1.0, \"#f0f921\"]], \"type\": \"heatmapgl\"}], \"histogram\": [{\"marker\": {\"colorbar\": {\"outlinewidth\": 0, \"ticks\": \"\"}}, \"type\": \"histogram\"}], \"histogram2d\": [{\"colorbar\": {\"outlinewidth\": 0, \"ticks\": \"\"}, \"colorscale\": [[0.0, \"#0d0887\"], [0.1111111111111111, \"#46039f\"], [0.2222222222222222, \"#7201a8\"], [0.3333333333333333, \"#9c179e\"], [0.4444444444444444, \"#bd3786\"], [0.5555555555555556, \"#d8576b\"], [0.6666666666666666, \"#ed7953\"], [0.7777777777777778, \"#fb9f3a\"], [0.8888888888888888, \"#fdca26\"], [1.0, \"#f0f921\"]], \"type\": \"histogram2d\"}], \"histogram2dcontour\": [{\"colorbar\": {\"outlinewidth\": 0, \"ticks\": \"\"}, \"colorscale\": [[0.0, \"#0d0887\"], [0.1111111111111111, \"#46039f\"], [0.2222222222222222, \"#7201a8\"], [0.3333333333333333, \"#9c179e\"], [0.4444444444444444, \"#bd3786\"], [0.5555555555555556, \"#d8576b\"], [0.6666666666666666, \"#ed7953\"], [0.7777777777777778, \"#fb9f3a\"], [0.8888888888888888, \"#fdca26\"], [1.0, \"#f0f921\"]], \"type\": \"histogram2dcontour\"}], \"mesh3d\": [{\"colorbar\": {\"outlinewidth\": 0, \"ticks\": \"\"}, \"type\": \"mesh3d\"}], \"parcoords\": [{\"line\": {\"colorbar\": {\"outlinewidth\": 0, \"ticks\": \"\"}}, \"type\": \"parcoords\"}], \"pie\": [{\"automargin\": true, \"type\": \"pie\"}], \"scatter\": [{\"marker\": {\"colorbar\": {\"outlinewidth\": 0, \"ticks\": \"\"}}, \"type\": \"scatter\"}], \"scatter3d\": [{\"line\": {\"colorbar\": {\"outlinewidth\": 0, \"ticks\": \"\"}}, \"marker\": {\"colorbar\": {\"outlinewidth\": 0, \"ticks\": \"\"}}, \"type\": \"scatter3d\"}], \"scattercarpet\": [{\"marker\": {\"colorbar\": {\"outlinewidth\": 0, \"ticks\": \"\"}}, \"type\": \"scattercarpet\"}], \"scattergeo\": [{\"marker\": {\"colorbar\": {\"outlinewidth\": 0, \"ticks\": \"\"}}, \"type\": \"scattergeo\"}], \"scattergl\": [{\"marker\": {\"colorbar\": {\"outlinewidth\": 0, \"ticks\": \"\"}}, \"type\": \"scattergl\"}], \"scattermapbox\": [{\"marker\": {\"colorbar\": {\"outlinewidth\": 0, \"ticks\": \"\"}}, \"type\": \"scattermapbox\"}], \"scatterpolar\": [{\"marker\": {\"colorbar\": {\"outlinewidth\": 0, \"ticks\": \"\"}}, \"type\": \"scatterpolar\"}], \"scatterpolargl\": [{\"marker\": {\"colorbar\": {\"outlinewidth\": 0, \"ticks\": \"\"}}, \"type\": \"scatterpolargl\"}], \"scatterternary\": [{\"marker\": {\"colorbar\": {\"outlinewidth\": 0, \"ticks\": \"\"}}, \"type\": \"scatterternary\"}], \"surface\": [{\"colorbar\": {\"outlinewidth\": 0, \"ticks\": \"\"}, \"colorscale\": [[0.0, \"#0d0887\"], [0.1111111111111111, \"#46039f\"], [0.2222222222222222, \"#7201a8\"], [0.3333333333333333, \"#9c179e\"], [0.4444444444444444, \"#bd3786\"], [0.5555555555555556, \"#d8576b\"], [0.6666666666666666, \"#ed7953\"], [0.7777777777777778, \"#fb9f3a\"], [0.8888888888888888, \"#fdca26\"], [1.0, \"#f0f921\"]], \"type\": \"surface\"}], \"table\": [{\"cells\": {\"fill\": {\"color\": \"#EBF0F8\"}, \"line\": {\"color\": \"white\"}}, \"header\": {\"fill\": {\"color\": \"#C8D4E3\"}, \"line\": {\"color\": \"white\"}}, \"type\": \"table\"}]}, \"layout\": {\"annotationdefaults\": {\"arrowcolor\": \"#2a3f5f\", \"arrowhead\": 0, \"arrowwidth\": 1}, \"coloraxis\": {\"colorbar\": {\"outlinewidth\": 0, \"ticks\": \"\"}}, \"colorscale\": {\"diverging\": [[0, \"#8e0152\"], [0.1, \"#c51b7d\"], [0.2, \"#de77ae\"], [0.3, \"#f1b6da\"], [0.4, \"#fde0ef\"], [0.5, \"#f7f7f7\"], [0.6, \"#e6f5d0\"], [0.7, \"#b8e186\"], [0.8, \"#7fbc41\"], [0.9, \"#4d9221\"], [1, \"#276419\"]], \"sequential\": [[0.0, \"#0d0887\"], [0.1111111111111111, \"#46039f\"], [0.2222222222222222, \"#7201a8\"], [0.3333333333333333, \"#9c179e\"], [0.4444444444444444, \"#bd3786\"], [0.5555555555555556, \"#d8576b\"], [0.6666666666666666, \"#ed7953\"], [0.7777777777777778, \"#fb9f3a\"], [0.8888888888888888, \"#fdca26\"], [1.0, \"#f0f921\"]], \"sequentialminus\": [[0.0, \"#0d0887\"], [0.1111111111111111, \"#46039f\"], [0.2222222222222222, \"#7201a8\"], [0.3333333333333333, \"#9c179e\"], [0.4444444444444444, \"#bd3786\"], [0.5555555555555556, \"#d8576b\"], [0.6666666666666666, \"#ed7953\"], [0.7777777777777778, \"#fb9f3a\"], [0.8888888888888888, \"#fdca26\"], [1.0, \"#f0f921\"]]}, \"colorway\": [\"#636efa\", \"#EF553B\", \"#00cc96\", \"#ab63fa\", \"#FFA15A\", \"#19d3f3\", \"#FF6692\", \"#B6E880\", \"#FF97FF\", \"#FECB52\"], \"font\": {\"color\": \"#2a3f5f\"}, \"geo\": {\"bgcolor\": \"white\", \"lakecolor\": \"white\", \"landcolor\": \"#E5ECF6\", \"showlakes\": true, \"showland\": true, \"subunitcolor\": \"white\"}, \"hoverlabel\": {\"align\": \"left\"}, \"hovermode\": \"closest\", \"mapbox\": {\"style\": \"light\"}, \"paper_bgcolor\": \"white\", \"plot_bgcolor\": \"#E5ECF6\", \"polar\": {\"angularaxis\": {\"gridcolor\": \"white\", \"linecolor\": \"white\", \"ticks\": \"\"}, \"bgcolor\": \"#E5ECF6\", \"radialaxis\": {\"gridcolor\": \"white\", \"linecolor\": \"white\", \"ticks\": \"\"}}, \"scene\": {\"xaxis\": {\"backgroundcolor\": \"#E5ECF6\", \"gridcolor\": \"white\", \"gridwidth\": 2, \"linecolor\": \"white\", \"showbackground\": true, \"ticks\": \"\", \"zerolinecolor\": \"white\"}, \"yaxis\": {\"backgroundcolor\": \"#E5ECF6\", \"gridcolor\": \"white\", \"gridwidth\": 2, \"linecolor\": \"white\", \"showbackground\": true, \"ticks\": \"\", \"zerolinecolor\": \"white\"}, \"zaxis\": {\"backgroundcolor\": \"#E5ECF6\", \"gridcolor\": \"white\", \"gridwidth\": 2, \"linecolor\": \"white\", \"showbackground\": true, \"ticks\": \"\", \"zerolinecolor\": \"white\"}}, \"shapedefaults\": {\"line\": {\"color\": \"#2a3f5f\"}}, \"ternary\": {\"aaxis\": {\"gridcolor\": \"white\", \"linecolor\": \"white\", \"ticks\": \"\"}, \"baxis\": {\"gridcolor\": \"white\", \"linecolor\": \"white\", \"ticks\": \"\"}, \"bgcolor\": \"#E5ECF6\", \"caxis\": {\"gridcolor\": \"white\", \"linecolor\": \"white\", \"ticks\": \"\"}}, \"title\": {\"x\": 0.05}, \"xaxis\": {\"automargin\": true, \"gridcolor\": \"white\", \"linecolor\": \"white\", \"ticks\": \"\", \"title\": {\"standoff\": 15}, \"zerolinecolor\": \"white\", \"zerolinewidth\": 2}, \"yaxis\": {\"automargin\": true, \"gridcolor\": \"white\", \"linecolor\": \"white\", \"ticks\": \"\", \"title\": {\"standoff\": 15}, \"zerolinecolor\": \"white\", \"zerolinewidth\": 2}}}, \"xaxis\": {\"anchor\": \"y\", \"domain\": [0.0, 1.0], \"title\": {\"text\": \"columns\"}}, \"yaxis\": {\"anchor\": \"x\", \"domain\": [0.0, 1.0], \"title\": {\"text\": \"importance\"}}},\n",
       "                        {\"responsive\": true}\n",
       "                    ).then(function(){\n",
       "                            \n",
       "var gd = document.getElementById('1013e771-c1a5-4785-99a3-bf10dd1451b9');\n",
       "var x = new MutationObserver(function (mutations, observer) {{\n",
       "        var display = window.getComputedStyle(gd).display;\n",
       "        if (!display || display === 'none') {{\n",
       "            console.log([gd, 'removed!']);\n",
       "            Plotly.purge(gd);\n",
       "            observer.disconnect();\n",
       "        }}\n",
       "}});\n",
       "\n",
       "// Listen for the removal of the full notebook cells\n",
       "var notebookContainer = gd.closest('#notebook-container');\n",
       "if (notebookContainer) {{\n",
       "    x.observe(notebookContainer, {childList: true});\n",
       "}}\n",
       "\n",
       "// Listen for the clearing of the current output cell\n",
       "var outputEl = gd.closest('.output');\n",
       "if (outputEl) {{\n",
       "    x.observe(outputEl, {childList: true});\n",
       "}}\n",
       "\n",
       "                        })\n",
       "                };\n",
       "                });\n",
       "            </script>\n",
       "        </div>"
      ]
     },
     "metadata": {},
     "output_type": "display_data"
    }
   ],
   "source": [
    "col_sorted_by_importance=decisiontree.feature_importances_.argsort()\n",
    "\n",
    "\n",
    "feat_imp=pd.DataFrame({\n",
    "    'columns':X.columns[col_sorted_by_importance],\n",
    "    'importance':decisiontree.feature_importances_[col_sorted_by_importance]\n",
    "})\n",
    "\n",
    "import plotly_express as px\n",
    "px.bar(feat_imp, x='columns', y='importance')"
   ]
  },
  {
   "cell_type": "code",
   "execution_count": 296,
   "metadata": {},
   "outputs": [],
   "source": [
    "\n",
    "from sklearn import tree\n",
    "import matplotlib.pyplot as plt\n",
    "\n",
    "X_train, X_test, y_train, y_test = train_test_split(X, Y, test_size=0.01,random_state=3)\n",
    "# decisiontree = decision_tree.fit(X_train,y_train)\n",
    "\n",
    "\n",
    "decisiontree2 = decision_tree.fit(X_test,y_test)\n"
   ]
  },
  {
   "cell_type": "code",
   "execution_count": 297,
   "metadata": {},
   "outputs": [
    {
     "data": {
      "text/plain": [
       "[Text(2584.240834709666, 533.8928571428571, 'X[1] <= 0.5\\nentropy = 0.397\\nsamples = 231\\nvalue = [[63, 168]\\n[168, 63]]'),\n",
       " Text(2440.5679002955494, 514.4785714285714, 'X[12] <= 0.5\\nentropy = 0.42\\nsamples = 207\\nvalue = [[62, 145]\\n[145, 62]]'),\n",
       " Text(2246.351377781641, 495.06428571428575, 'X[27] <= 0.5\\nentropy = 0.412\\nsamples = 200\\nvalue = [[58, 142]\\n[142, 58]]'),\n",
       " Text(2013.1339099443671, 475.65000000000003, 'X[29] <= 0.5\\nentropy = 0.421\\nsamples = 189\\nvalue = [[57, 132]\\n[132, 57]]'),\n",
       " Text(1639.8283205841446, 456.2357142857143, 'X[10] <= 0.5\\nentropy = 0.399\\nsamples = 149\\nvalue = [[41, 108]\\n[108, 41]]'),\n",
       " Text(1479.1559457579972, 436.8214285714286, 'X[20] <= 0.5\\nentropy = 0.373\\nsamples = 125\\nvalue = [[31, 94]\\n[94, 31]]'),\n",
       " Text(1448.1128303198886, 417.40714285714284, 'X[23] <= 0.5\\nentropy = 0.39\\nsamples = 117\\nvalue = [[31, 86]\\n[86, 31]]'),\n",
       " Text(1313.0267732962448, 397.99285714285713, 'X[2] <= 0.5\\nentropy = 0.37\\nsamples = 98\\nvalue = [[24, 74]\\n[74, 24]]'),\n",
       " Text(1198.0702364394992, 378.5785714285714, 'X[16] <= 0.5\\nentropy = 0.392\\nsamples = 86\\nvalue = [[23, 63]\\n[63, 23]]'),\n",
       " Text(1061.2865090403338, 359.1642857142857, 'X[3] <= 0.5\\nentropy = 0.375\\nsamples = 80\\nvalue = [[20, 60]\\n[60, 20]]'),\n",
       " Text(942.9346314325452, 339.75, 'X[6] <= 0.5\\nentropy = 0.348\\nsamples = 67\\nvalue = [[15, 52]\\n[52, 15]]'),\n",
       " Text(880.8484005563282, 320.3357142857143, 'X[26] <= 0.5\\nentropy = 0.371\\nsamples = 57\\nvalue = [[14, 43]\\n[43, 14]]'),\n",
       " Text(849.8052851182197, 300.9214285714286, 'X[14] <= 0.5\\nentropy = 0.393\\nsamples = 52\\nvalue = [[14, 38]\\n[38, 14]]'),\n",
       " Text(818.7621696801112, 281.50714285714287, 'X[30] <= 0.5\\nentropy = 0.403\\nsamples = 50\\nvalue = [[14, 36]\\n[36, 14]]'),\n",
       " Text(706.230876216968, 262.09285714285716, 'X[21] <= 0.5\\nentropy = 0.426\\nsamples = 39\\nvalue = [[12, 27]\\n[27, 12]]'),\n",
       " Text(675.1877607788595, 242.67857142857144, 'X[8] <= 0.5\\nentropy = 0.444\\nsamples = 36\\nvalue = [[12, 24]\\n[24, 12]]'),\n",
       " Text(543.2545201668985, 223.26428571428573, 'X[13] <= 0.5\\nentropy = 0.43\\nsamples = 32\\nvalue = [[10, 22]\\n[22, 10]]'),\n",
       " Text(512.21140472879, 203.85000000000002, 'X[9] <= 0.5\\nentropy = 0.452\\nsamples = 29\\nvalue = [[10, 19]\\n[19, 10]]'),\n",
       " Text(403.56050069541027, 184.4357142857143, 'X[18] <= 0.5\\nentropy = 0.469\\nsamples = 24\\nvalue = [[9, 15]\\n[15, 9]]'),\n",
       " Text(341.4742698191933, 165.0214285714286, 'X[31] <= 0.5\\nentropy = 0.455\\nsamples = 20\\nvalue = [[7, 13]\\n[13, 7]]'),\n",
       " Text(310.4311543810848, 145.6071428571429, 'X[4] <= 0.5\\nentropy = 0.401\\nsamples = 18\\nvalue = [[5, 13]\\n[13, 5]]'),\n",
       " Text(279.3880389429763, 126.19285714285718, 'X[15] <= 0.5\\nentropy = 0.444\\nsamples = 15\\nvalue = [[5, 10]\\n[10, 5]]'),\n",
       " Text(248.34492350486786, 106.77857142857147, 'X[28] <= 0.5\\nentropy = 0.459\\nsamples = 14\\nvalue = [[5, 9]\\n[9, 5]]'),\n",
       " Text(186.2586926286509, 87.36428571428576, 'X[0] <= 0.5\\nentropy = 0.444\\nsamples = 9\\nvalue = [[3, 6]\\n[6, 3]]'),\n",
       " Text(155.2155771905424, 67.94999999999999, 'X[17] <= 0.5\\nentropy = 0.5\\nsamples = 6\\nvalue = [[3, 3]\\n[3, 3]]'),\n",
       " Text(124.17246175243393, 48.53571428571428, 'X[7] <= 0.5\\nentropy = 0.48\\nsamples = 5\\nvalue = [[2, 3]\\n[3, 2]]'),\n",
       " Text(62.086230876216966, 29.121428571428623, 'X[19] <= 0.5\\nentropy = 0.5\\nsamples = 2\\nvalue = [[1, 1]\\n[1, 1]]'),\n",
       " Text(31.043115438108483, 9.707142857142912, 'entropy = 0.0\\nsamples = 1\\nvalue = [[0, 1]\\n[1, 0]]'),\n",
       " Text(93.12934631432545, 9.707142857142912, 'entropy = 0.0\\nsamples = 1\\nvalue = [[1, 0]\\n[0, 1]]'),\n",
       " Text(186.2586926286509, 29.121428571428623, 'X[19] <= 0.5\\nentropy = 0.444\\nsamples = 3\\nvalue = [[1, 2]\\n[2, 1]]'),\n",
       " Text(155.2155771905424, 9.707142857142912, 'entropy = 0.5\\nsamples = 2\\nvalue = [[1, 1]\\n[1, 1]]'),\n",
       " Text(217.30180806675938, 9.707142857142912, 'entropy = 0.0\\nsamples = 1\\nvalue = [[0, 1]\\n[1, 0]]'),\n",
       " Text(186.2586926286509, 48.53571428571428, 'entropy = 0.0\\nsamples = 1\\nvalue = [[1, 0]\\n[0, 1]]'),\n",
       " Text(217.30180806675938, 67.94999999999999, 'entropy = 0.0\\nsamples = 3\\nvalue = [[0, 3]\\n[3, 0]]'),\n",
       " Text(310.4311543810848, 87.36428571428576, 'X[0] <= 0.5\\nentropy = 0.48\\nsamples = 5\\nvalue = [[2, 3]\\n[3, 2]]'),\n",
       " Text(279.3880389429763, 67.94999999999999, 'entropy = 0.0\\nsamples = 2\\nvalue = [[0, 2]\\n[2, 0]]'),\n",
       " Text(341.4742698191933, 67.94999999999999, 'X[7] <= 0.5\\nentropy = 0.444\\nsamples = 3\\nvalue = [[2, 1]\\n[1, 2]]'),\n",
       " Text(310.4311543810848, 48.53571428571428, 'entropy = 0.5\\nsamples = 2\\nvalue = [[1, 1]\\n[1, 1]]'),\n",
       " Text(372.5173852573018, 48.53571428571428, 'entropy = 0.0\\nsamples = 1\\nvalue = [[1, 0]\\n[0, 1]]'),\n",
       " Text(310.4311543810848, 106.77857142857147, 'entropy = 0.0\\nsamples = 1\\nvalue = [[0, 1]\\n[1, 0]]'),\n",
       " Text(341.4742698191933, 126.19285714285718, 'entropy = 0.0\\nsamples = 3\\nvalue = [[0, 3]\\n[3, 0]]'),\n",
       " Text(372.5173852573018, 145.6071428571429, 'entropy = 0.0\\nsamples = 2\\nvalue = [[2, 0]\\n[0, 2]]'),\n",
       " Text(465.64673157162724, 165.0214285714286, 'X[31] <= 0.5\\nentropy = 0.5\\nsamples = 4\\nvalue = [[2, 2]\\n[2, 2]]'),\n",
       " Text(434.60361613351876, 145.6071428571429, 'entropy = 0.0\\nsamples = 2\\nvalue = [[2, 0]\\n[0, 2]]'),\n",
       " Text(496.68984700973573, 145.6071428571429, 'entropy = 0.0\\nsamples = 2\\nvalue = [[0, 2]\\n[2, 0]]'),\n",
       " Text(620.8623087621696, 184.4357142857143, 'X[0] <= 0.5\\nentropy = 0.32\\nsamples = 5\\nvalue = [[1, 4]\\n[4, 1]]'),\n",
       " Text(589.8191933240612, 165.0214285714286, 'X[28] <= 0.5\\nentropy = 0.5\\nsamples = 2\\nvalue = [[1, 1]\\n[1, 1]]'),\n",
       " Text(558.7760778859526, 145.6071428571429, 'entropy = 0.0\\nsamples = 1\\nvalue = [[0, 1]\\n[1, 0]]'),\n",
       " Text(620.8623087621696, 145.6071428571429, 'entropy = 0.0\\nsamples = 1\\nvalue = [[1, 0]\\n[0, 1]]'),\n",
       " Text(651.9054242002782, 165.0214285714286, 'entropy = 0.0\\nsamples = 3\\nvalue = [[0, 3]\\n[3, 0]]'),\n",
       " Text(574.2976356050069, 203.85000000000002, 'entropy = 0.0\\nsamples = 3\\nvalue = [[0, 3]\\n[3, 0]]'),\n",
       " Text(807.1210013908205, 223.26428571428573, 'X[22] <= 0.5\\nentropy = 0.5\\nsamples = 4\\nvalue = [[2, 2]\\n[2, 2]]'),\n",
       " Text(776.0778859527121, 203.85000000000002, 'X[0] <= 0.5\\nentropy = 0.444\\nsamples = 3\\nvalue = [[2, 1]\\n[1, 2]]'),\n",
       " Text(745.0347705146036, 184.4357142857143, 'X[13] <= 0.5\\nentropy = 0.5\\nsamples = 2\\nvalue = [[1, 1]\\n[1, 1]]'),\n",
       " Text(713.9916550764951, 165.0214285714286, 'entropy = 0.0\\nsamples = 1\\nvalue = [[1, 0]\\n[0, 1]]'),\n",
       " Text(776.0778859527121, 165.0214285714286, 'entropy = 0.0\\nsamples = 1\\nvalue = [[0, 1]\\n[1, 0]]'),\n",
       " Text(807.1210013908205, 184.4357142857143, 'entropy = 0.0\\nsamples = 1\\nvalue = [[1, 0]\\n[0, 1]]'),\n",
       " Text(838.1641168289291, 203.85000000000002, 'entropy = 0.0\\nsamples = 1\\nvalue = [[0, 1]\\n[1, 0]]'),\n",
       " Text(737.2739916550764, 242.67857142857144, 'entropy = 0.0\\nsamples = 3\\nvalue = [[0, 3]\\n[3, 0]]'),\n",
       " Text(931.2934631432545, 262.09285714285716, 'X[13] <= 0.5\\nentropy = 0.298\\nsamples = 11\\nvalue = [[2, 9]\\n[9, 2]]'),\n",
       " Text(900.250347705146, 242.67857142857144, 'X[4] <= 0.5\\nentropy = 0.18\\nsamples = 10\\nvalue = [[1, 9]\\n[9, 1]]'),\n",
       " Text(869.2072322670375, 223.26428571428573, 'entropy = 0.0\\nsamples = 7\\nvalue = [[0, 7]\\n[7, 0]]'),\n",
       " Text(931.2934631432545, 223.26428571428573, 'X[0] <= 0.5\\nentropy = 0.444\\nsamples = 3\\nvalue = [[1, 2]\\n[2, 1]]'),\n",
       " Text(900.250347705146, 203.85000000000002, 'entropy = 0.0\\nsamples = 2\\nvalue = [[0, 2]\\n[2, 0]]'),\n",
       " Text(962.336578581363, 203.85000000000002, 'entropy = 0.0\\nsamples = 1\\nvalue = [[1, 0]\\n[0, 1]]'),\n",
       " Text(962.336578581363, 242.67857142857144, 'entropy = 0.0\\nsamples = 1\\nvalue = [[1, 0]\\n[0, 1]]'),\n",
       " Text(880.8484005563282, 281.50714285714287, 'entropy = 0.0\\nsamples = 2\\nvalue = [[0, 2]\\n[2, 0]]'),\n",
       " Text(911.8915159944366, 300.9214285714286, 'entropy = 0.0\\nsamples = 5\\nvalue = [[0, 5]\\n[5, 0]]'),\n",
       " Text(1005.0208623087622, 320.3357142857143, 'X[26] <= 0.5\\nentropy = 0.18\\nsamples = 10\\nvalue = [[1, 9]\\n[9, 1]]'),\n",
       " Text(973.9777468706536, 300.9214285714286, 'entropy = 0.0\\nsamples = 9\\nvalue = [[0, 9]\\n[9, 0]]'),\n",
       " Text(1036.0639777468707, 300.9214285714286, 'entropy = 0.0\\nsamples = 1\\nvalue = [[1, 0]\\n[0, 1]]'),\n",
       " Text(1179.6383866481224, 339.75, 'X[32] <= 0.5\\nentropy = 0.473\\nsamples = 13\\nvalue = [[5, 8]\\n[8, 5]]'),\n",
       " Text(1148.5952712100138, 320.3357142857143, 'X[21] <= 0.5\\nentropy = 0.494\\nsamples = 9\\nvalue = [[5, 4]\\n[4, 5]]'),\n",
       " Text(1117.5521557719053, 300.9214285714286, 'X[22] <= 0.5\\nentropy = 0.469\\nsamples = 8\\nvalue = [[5, 3]\\n[3, 5]]'),\n",
       " Text(1086.509040333797, 281.50714285714287, 'X[13] <= 0.5\\nentropy = 0.408\\nsamples = 7\\nvalue = [[5, 2]\\n[2, 5]]'),\n",
       " Text(1055.4659248956884, 262.09285714285716, 'X[17] <= 0.5\\nentropy = 0.278\\nsamples = 6\\nvalue = [[5, 1]\\n[1, 5]]'),\n",
       " Text(1024.42280945758, 242.67857142857144, 'entropy = 0.0\\nsamples = 4\\nvalue = [[4, 0]\\n[0, 4]]'),\n",
       " Text(1086.509040333797, 242.67857142857144, 'X[0] <= 0.5\\nentropy = 0.5\\nsamples = 2\\nvalue = [[1, 1]\\n[1, 1]]'),\n",
       " Text(1055.4659248956884, 223.26428571428573, 'entropy = 0.0\\nsamples = 1\\nvalue = [[1, 0]\\n[0, 1]]'),\n",
       " Text(1117.5521557719053, 223.26428571428573, 'entropy = 0.0\\nsamples = 1\\nvalue = [[0, 1]\\n[1, 0]]'),\n",
       " Text(1117.5521557719053, 262.09285714285716, 'entropy = 0.0\\nsamples = 1\\nvalue = [[0, 1]\\n[1, 0]]'),\n",
       " Text(1148.5952712100138, 281.50714285714287, 'entropy = 0.0\\nsamples = 1\\nvalue = [[0, 1]\\n[1, 0]]'),\n",
       " Text(1179.6383866481224, 300.9214285714286, 'entropy = 0.0\\nsamples = 1\\nvalue = [[0, 1]\\n[1, 0]]'),\n",
       " Text(1210.681502086231, 320.3357142857143, 'entropy = 0.0\\nsamples = 4\\nvalue = [[0, 4]\\n[4, 0]]'),\n",
       " Text(1334.8539638386649, 359.1642857142857, 'X[4] <= 0.5\\nentropy = 0.5\\nsamples = 6\\nvalue = [[3, 3]\\n[3, 3]]'),\n",
       " Text(1303.8108484005563, 339.75, 'X[5] <= 0.5\\nentropy = 0.375\\nsamples = 4\\nvalue = [[3, 1]\\n[1, 3]]'),\n",
       " Text(1272.7677329624478, 320.3357142857143, 'entropy = 0.0\\nsamples = 2\\nvalue = [[2, 0]\\n[0, 2]]'),\n",
       " Text(1334.8539638386649, 320.3357142857143, 'X[32] <= 0.5\\nentropy = 0.5\\nsamples = 2\\nvalue = [[1, 1]\\n[1, 1]]'),\n",
       " Text(1303.8108484005563, 300.9214285714286, 'entropy = 0.0\\nsamples = 1\\nvalue = [[1, 0]\\n[0, 1]]'),\n",
       " Text(1365.8970792767732, 300.9214285714286, 'entropy = 0.0\\nsamples = 1\\nvalue = [[0, 1]\\n[1, 0]]'),\n",
       " Text(1365.8970792767732, 339.75, 'entropy = 0.0\\nsamples = 2\\nvalue = [[0, 2]\\n[2, 0]]'),\n",
       " Text(1427.9833101529903, 378.5785714285714, 'X[30] <= 0.5\\nentropy = 0.153\\nsamples = 12\\nvalue = [[1, 11]\\n[11, 1]]'),\n",
       " Text(1396.9401947148817, 359.1642857142857, 'entropy = 0.0\\nsamples = 11\\nvalue = [[0, 11]\\n[11, 0]]'),\n",
       " Text(1459.0264255910988, 359.1642857142857, 'entropy = 0.0\\nsamples = 1\\nvalue = [[1, 0]\\n[0, 1]]'),\n",
       " Text(1583.1988873435325, 397.99285714285713, 'X[2] <= 0.5\\nentropy = 0.465\\nsamples = 19\\nvalue = [[7, 12]\\n[12, 7]]'),\n",
       " Text(1552.1557719054242, 378.5785714285714, 'X[31] <= 0.5\\nentropy = 0.415\\nsamples = 17\\nvalue = [[5, 12]\\n[12, 5]]'),\n",
       " Text(1521.1126564673157, 359.1642857142857, 'X[8] <= 0.5\\nentropy = 0.486\\nsamples = 12\\nvalue = [[5, 7]\\n[7, 5]]'),\n",
       " Text(1490.0695410292071, 339.75, 'X[0] <= 0.5\\nentropy = 0.463\\nsamples = 11\\nvalue = [[4, 7]\\n[7, 4]]'),\n",
       " Text(1459.0264255910988, 320.3357142857143, 'entropy = 0.0\\nsamples = 3\\nvalue = [[0, 3]\\n[3, 0]]'),\n",
       " Text(1521.1126564673157, 320.3357142857143, 'X[32] <= 0.5\\nentropy = 0.5\\nsamples = 8\\nvalue = [[4, 4]\\n[4, 4]]'),\n",
       " Text(1490.0695410292071, 300.9214285714286, 'entropy = 0.0\\nsamples = 1\\nvalue = [[1, 0]\\n[0, 1]]'),\n",
       " Text(1552.1557719054242, 300.9214285714286, 'X[4] <= 0.5\\nentropy = 0.49\\nsamples = 7\\nvalue = [[3, 4]\\n[4, 3]]'),\n",
       " Text(1521.1126564673157, 281.50714285714287, 'X[5] <= 0.5\\nentropy = 0.48\\nsamples = 5\\nvalue = [[3, 2]\\n[2, 3]]'),\n",
       " Text(1490.0695410292071, 262.09285714285716, 'X[9] <= 0.5\\nentropy = 0.5\\nsamples = 4\\nvalue = [[2, 2]\\n[2, 2]]'),\n",
       " Text(1459.0264255910988, 242.67857142857144, 'entropy = 0.5\\nsamples = 2\\nvalue = [[1, 1]\\n[1, 1]]'),\n",
       " Text(1521.1126564673157, 242.67857142857144, 'entropy = 0.5\\nsamples = 2\\nvalue = [[1, 1]\\n[1, 1]]'),\n",
       " Text(1552.1557719054242, 262.09285714285716, 'entropy = 0.0\\nsamples = 1\\nvalue = [[1, 0]\\n[0, 1]]'),\n",
       " Text(1583.1988873435325, 281.50714285714287, 'entropy = 0.0\\nsamples = 2\\nvalue = [[0, 2]\\n[2, 0]]'),\n",
       " Text(1552.1557719054242, 339.75, 'entropy = 0.0\\nsamples = 1\\nvalue = [[1, 0]\\n[0, 1]]'),\n",
       " Text(1583.1988873435325, 359.1642857142857, 'entropy = 0.0\\nsamples = 5\\nvalue = [[0, 5]\\n[5, 0]]'),\n",
       " Text(1614.242002781641, 378.5785714285714, 'entropy = 0.0\\nsamples = 2\\nvalue = [[2, 0]\\n[0, 2]]'),\n",
       " Text(1510.1990611961057, 417.40714285714284, 'entropy = 0.0\\nsamples = 8\\nvalue = [[0, 8]\\n[8, 0]]'),\n",
       " Text(1800.500695410292, 436.8214285714286, 'X[22] <= 0.5\\nentropy = 0.486\\nsamples = 24\\nvalue = [[10, 14]\\n[14, 10]]'),\n",
       " Text(1769.4575799721836, 417.40714285714284, 'X[23] <= 0.5\\nentropy = 0.5\\nsamples = 20\\nvalue = [[10, 10]\\n[10, 10]]'),\n",
       " Text(1738.414464534075, 397.99285714285713, 'X[26] <= 0.5\\nentropy = 0.494\\nsamples = 18\\nvalue = [[10, 8]\\n[8, 10]]'),\n",
       " Text(1707.3713490959665, 378.5785714285714, 'X[28] <= 0.5\\nentropy = 0.469\\nsamples = 16\\nvalue = [[10, 6]\\n[6, 10]]'),\n",
       " Text(1645.2851182197496, 359.1642857142857, 'X[13] <= 0.5\\nentropy = 0.32\\nsamples = 10\\nvalue = [[8, 2]\\n[2, 8]]'),\n",
       " Text(1614.242002781641, 339.75, 'X[21] <= 0.5\\nentropy = 0.198\\nsamples = 9\\nvalue = [[8, 1]\\n[1, 8]]'),\n",
       " Text(1583.1988873435325, 320.3357142857143, 'entropy = 0.0\\nsamples = 6\\nvalue = [[6, 0]\\n[0, 6]]'),\n",
       " Text(1645.2851182197496, 320.3357142857143, 'X[31] <= 0.5\\nentropy = 0.444\\nsamples = 3\\nvalue = [[2, 1]\\n[1, 2]]'),\n",
       " Text(1614.242002781641, 300.9214285714286, 'entropy = 0.0\\nsamples = 2\\nvalue = [[2, 0]\\n[0, 2]]'),\n",
       " Text(1676.3282336578582, 300.9214285714286, 'entropy = 0.0\\nsamples = 1\\nvalue = [[0, 1]\\n[1, 0]]'),\n",
       " Text(1676.3282336578582, 339.75, 'entropy = 0.0\\nsamples = 1\\nvalue = [[0, 1]\\n[1, 0]]'),\n",
       " Text(1769.4575799721836, 359.1642857142857, 'X[32] <= 0.5\\nentropy = 0.444\\nsamples = 6\\nvalue = [[2, 4]\\n[4, 2]]'),\n",
       " Text(1738.414464534075, 339.75, 'entropy = 0.0\\nsamples = 3\\nvalue = [[0, 3]\\n[3, 0]]'),\n",
       " Text(1800.500695410292, 339.75, 'X[0] <= 0.5\\nentropy = 0.444\\nsamples = 3\\nvalue = [[2, 1]\\n[1, 2]]'),\n",
       " Text(1769.4575799721836, 320.3357142857143, 'entropy = 0.0\\nsamples = 1\\nvalue = [[1, 0]\\n[0, 1]]'),\n",
       " Text(1831.5438108484004, 320.3357142857143, 'entropy = 0.5\\nsamples = 2\\nvalue = [[1, 1]\\n[1, 1]]'),\n",
       " Text(1769.4575799721836, 378.5785714285714, 'entropy = 0.0\\nsamples = 2\\nvalue = [[0, 2]\\n[2, 0]]'),\n",
       " Text(1800.500695410292, 397.99285714285713, 'entropy = 0.0\\nsamples = 2\\nvalue = [[0, 2]\\n[2, 0]]'),\n",
       " Text(1831.5438108484004, 417.40714285714284, 'entropy = 0.0\\nsamples = 4\\nvalue = [[0, 4]\\n[4, 0]]'),\n",
       " Text(2386.43949930459, 456.2357142857143, 'X[2] <= 0.5\\nentropy = 0.48\\nsamples = 40\\nvalue = [[16, 24]\\n[24, 16]]'),\n",
       " Text(2355.3963838664813, 436.8214285714286, 'X[8] <= 0.5\\nentropy = 0.444\\nsamples = 36\\nvalue = [[12, 24]\\n[24, 12]]'),\n",
       " Text(2293.310152990264, 417.40714285714284, 'X[16] <= 0.5\\nentropy = 0.404\\nsamples = 32\\nvalue = [[9, 23]\\n[23, 9]]'),\n",
       " Text(2262.2670375521557, 397.99285714285713, 'X[25] <= 0.5\\nentropy = 0.383\\nsamples = 31\\nvalue = [[8, 23]\\n[23, 8]]'),\n",
       " Text(2165.2573018080666, 378.5785714285714, 'X[17] <= 0.5\\nentropy = 0.337\\nsamples = 28\\nvalue = [[6, 22]\\n[22, 6]]'),\n",
       " Text(2064.367176634214, 359.1642857142857, 'X[9] <= 0.5\\nentropy = 0.269\\nsamples = 25\\nvalue = [[4, 21]\\n[21, 4]]'),\n",
       " Text(1955.7162726008344, 339.75, 'X[22] <= 0.5\\nentropy = 0.172\\nsamples = 21\\nvalue = [[2, 19]\\n[19, 2]]'),\n",
       " Text(1893.6300417246175, 320.3357142857143, 'X[23] <= 0.5\\nentropy = 0.1\\nsamples = 19\\nvalue = [[1, 18]\\n[18, 1]]'),\n",
       " Text(1862.586926286509, 300.9214285714286, 'entropy = 0.0\\nsamples = 16\\nvalue = [[0, 16]\\n[16, 0]]'),\n",
       " Text(1924.673157162726, 300.9214285714286, 'X[5] <= 0.5\\nentropy = 0.444\\nsamples = 3\\nvalue = [[1, 2]\\n[2, 1]]'),\n",
       " Text(1893.6300417246175, 281.50714285714287, 'X[0] <= 0.5\\nentropy = 0.5\\nsamples = 2\\nvalue = [[1, 1]\\n[1, 1]]'),\n",
       " Text(1862.586926286509, 262.09285714285716, 'entropy = 0.0\\nsamples = 1\\nvalue = [[1, 0]\\n[0, 1]]'),\n",
       " Text(1924.673157162726, 262.09285714285716, 'entropy = 0.0\\nsamples = 1\\nvalue = [[0, 1]\\n[1, 0]]'),\n",
       " Text(1955.7162726008344, 281.50714285714287, 'entropy = 0.0\\nsamples = 1\\nvalue = [[0, 1]\\n[1, 0]]'),\n",
       " Text(2017.8025034770515, 320.3357142857143, 'X[3] <= 0.5\\nentropy = 0.5\\nsamples = 2\\nvalue = [[1, 1]\\n[1, 1]]'),\n",
       " Text(1986.759388038943, 300.9214285714286, 'entropy = 0.0\\nsamples = 1\\nvalue = [[0, 1]\\n[1, 0]]'),\n",
       " Text(2048.84561891516, 300.9214285714286, 'entropy = 0.0\\nsamples = 1\\nvalue = [[1, 0]\\n[0, 1]]'),\n",
       " Text(2173.018080667594, 339.75, 'X[15] <= 0.5\\nentropy = 0.5\\nsamples = 4\\nvalue = [[2, 2]\\n[2, 2]]'),\n",
       " Text(2141.9749652294854, 320.3357142857143, 'X[28] <= 0.5\\nentropy = 0.444\\nsamples = 3\\nvalue = [[2, 1]\\n[1, 2]]'),\n",
       " Text(2110.931849791377, 300.9214285714286, 'entropy = 0.0\\nsamples = 1\\nvalue = [[1, 0]\\n[0, 1]]'),\n",
       " Text(2173.018080667594, 300.9214285714286, 'entropy = 0.5\\nsamples = 2\\nvalue = [[1, 1]\\n[1, 1]]'),\n",
       " Text(2204.0611961057025, 320.3357142857143, 'entropy = 0.0\\nsamples = 1\\nvalue = [[0, 1]\\n[1, 0]]'),\n",
       " Text(2266.147426981919, 359.1642857142857, 'X[3] <= 0.5\\nentropy = 0.444\\nsamples = 3\\nvalue = [[2, 1]\\n[1, 2]]'),\n",
       " Text(2235.1043115438106, 339.75, 'entropy = 0.0\\nsamples = 2\\nvalue = [[2, 0]\\n[0, 2]]'),\n",
       " Text(2297.1905424200277, 339.75, 'entropy = 0.0\\nsamples = 1\\nvalue = [[0, 1]\\n[1, 0]]'),\n",
       " Text(2359.2767732962448, 378.5785714285714, 'X[9] <= 0.5\\nentropy = 0.444\\nsamples = 3\\nvalue = [[2, 1]\\n[1, 2]]'),\n",
       " Text(2328.233657858136, 359.1642857142857, 'entropy = 0.0\\nsamples = 2\\nvalue = [[2, 0]\\n[0, 2]]'),\n",
       " Text(2390.3198887343533, 359.1642857142857, 'entropy = 0.0\\nsamples = 1\\nvalue = [[0, 1]\\n[1, 0]]'),\n",
       " Text(2324.3532684283728, 397.99285714285713, 'entropy = 0.0\\nsamples = 1\\nvalue = [[1, 0]\\n[0, 1]]'),\n",
       " Text(2417.482614742698, 417.40714285714284, 'X[22] <= 0.5\\nentropy = 0.375\\nsamples = 4\\nvalue = [[3, 1]\\n[1, 3]]'),\n",
       " Text(2386.43949930459, 397.99285714285713, 'entropy = 0.0\\nsamples = 2\\nvalue = [[2, 0]\\n[0, 2]]'),\n",
       " Text(2448.5257301808065, 397.99285714285713, 'entropy = 0.5\\nsamples = 2\\nvalue = [[1, 1]\\n[1, 1]]'),\n",
       " Text(2417.482614742698, 436.8214285714286, 'entropy = 0.0\\nsamples = 4\\nvalue = [[4, 0]\\n[0, 4]]'),\n",
       " Text(2479.568845618915, 475.65000000000003, 'X[8] <= 0.5\\nentropy = 0.165\\nsamples = 11\\nvalue = [[1, 10]\\n[10, 1]]'),\n",
       " Text(2448.5257301808065, 456.2357142857143, 'entropy = 0.0\\nsamples = 10\\nvalue = [[0, 10]\\n[10, 0]]'),\n",
       " Text(2510.6119610570236, 456.2357142857143, 'entropy = 0.0\\nsamples = 1\\nvalue = [[1, 0]\\n[0, 1]]'),\n",
       " Text(2634.7844228094573, 495.06428571428575, 'X[32] <= 0.5\\nentropy = 0.49\\nsamples = 7\\nvalue = [[4, 3]\\n[3, 4]]'),\n",
       " Text(2603.741307371349, 475.65000000000003, 'X[10] <= 0.5\\nentropy = 0.375\\nsamples = 4\\nvalue = [[1, 3]\\n[3, 1]]'),\n",
       " Text(2572.6981919332407, 456.2357142857143, 'entropy = 0.0\\nsamples = 3\\nvalue = [[0, 3]\\n[3, 0]]'),\n",
       " Text(2634.7844228094573, 456.2357142857143, 'entropy = 0.0\\nsamples = 1\\nvalue = [[1, 0]\\n[0, 1]]'),\n",
       " Text(2665.827538247566, 475.65000000000003, 'entropy = 0.0\\nsamples = 3\\nvalue = [[3, 0]\\n[0, 3]]'),\n",
       " Text(2727.913769123783, 514.4785714285714, 'X[15] <= 0.5\\nentropy = 0.08\\nsamples = 24\\nvalue = [[1, 23]\\n[23, 1]]'),\n",
       " Text(2696.8706536856744, 495.06428571428575, 'entropy = 0.0\\nsamples = 23\\nvalue = [[0, 23]\\n[23, 0]]'),\n",
       " Text(2758.9568845618915, 495.06428571428575, 'entropy = 0.0\\nsamples = 1\\nvalue = [[1, 0]\\n[0, 1]]')]"
      ]
     },
     "execution_count": 297,
     "metadata": {},
     "output_type": "execute_result"
    },
    {
     "data": {
      "image/png": "[encoded data removed]",
      "text/plain": [
       "<Figure size 3600x720 with 1 Axes>"
      ]
     },
     "metadata": {
      "needs_background": "light"
     },
     "output_type": "display_data"
    }
   ],
   "source": [
    "plt.figure(figsize=(50,10))\n",
    "tree.plot_tree(decisiontree2)"
   ]
  },
  {
   "cell_type": "code",
   "execution_count": 218,
   "metadata": {},
   "outputs": [],
   "source": [
    "df_new= pd.get_dummies(df_new)\n",
    "X=[\"Gender\",\"age\",\"prod_cat\"]\n",
    "median = df_new.total_amt.mean()"
   ]
  },
  {
   "cell_type": "code",
   "execution_count": null,
   "metadata": {},
   "outputs": [],
   "source": [
    "df_new.prod_subcat.value_counts()"
   ]
  },
  {
   "cell_type": "code",
   "execution_count": null,
   "metadata": {},
   "outputs": [],
   "source": [
    "df_new.duplicated(\"customer_Id\").sum()"
   ]
  },
  {
   "cell_type": "code",
   "execution_count": null,
   "metadata": {},
   "outputs": [],
   "source": [
    "df_new[\"Customer_membership\"]=df_new[\"total_amt\"]\n",
    "\n",
    "\n",
    "df_new[\"Customer_membership\"]=df_new[\"Customer_membership\"].apply(lambda x:\"Yes\" if x>median else \"No\")"
   ]
  },
  {
   "cell_type": "code",
   "execution_count": null,
   "metadata": {},
   "outputs": [],
   "source": [
    "df_new.head()"
   ]
  },
  {
   "cell_type": "markdown",
   "metadata": {},
   "source": [
    "4. You are required to write code to  find frequent itemsets using the above dataset (Question 1). In order to achieve the task, you are going to cover the following steps:\n",
    "    - Importing required libraries\n",
    "    - Creating a list from dataset (Question 1)\n",
    "    - Convert list to dataframe with boolean values\n",
    "    - Find frequently occurring itemsets using Apriori Algorithm\n",
    "    - Find frequently occurring itemsets using F-P Growth\n",
    "    - Mine the Association Rules\n"
   ]
  },
  {
   "cell_type": "code",
   "execution_count": null,
   "metadata": {},
   "outputs": [],
   "source": [
    "import pandas as pd\n",
    "import numpy as np\n",
    "from pandas import DataFrame\n",
    "from mlxtend.frequent_patterns import apriori, association_rules\n",
    "# pd.options.display.width=200\n",
    "# pd.set_option('precision',4)\n",
    "import matplotlib.pyplot as plt\n",
    "%matplotlib inline\n",
    "\n",
    "n_users=df_new.customer_Id.unique().shape[0]\n",
    "\n",
    "n_items=df_new.prod_cat_code.unique().shape[0]\n",
    "\n",
    "print(n_users)\n",
    "\n",
    "print(n_items)"
   ]
  },
  {
   "cell_type": "code",
   "execution_count": null,
   "metadata": {},
   "outputs": [],
   "source": [
    "df_new.head()"
   ]
  },
  {
   "cell_type": "code",
   "execution_count": null,
   "metadata": {},
   "outputs": [],
   "source": [
    "df_test=df_new[[\"customer_Id\",\"prod_cat\"]]"
   ]
  },
  {
   "cell_type": "code",
   "execution_count": null,
   "metadata": {},
   "outputs": [],
   "source": [
    "df_test=df_test.drop_duplicates([\"customer_Id\",\"prod_cat\"])\n",
    "df_test.duplicated([\"customer_Id\",\"prod_cat\"]).sum()"
   ]
  },
  {
   "cell_type": "code",
   "execution_count": null,
   "metadata": {},
   "outputs": [],
   "source": [
    "\n"
   ]
  },
  {
   "cell_type": "code",
   "execution_count": null,
   "metadata": {},
   "outputs": [],
   "source": [
    "relationship=(df_test.groupby(['customer_Id','prod_cat']).size().unstack().reset_index().fillna(0).set_index('customer_Id')) #unstack()数据行转列\n",
    "\n",
    "\n",
    "relationship.iloc[0:10,:]\n"
   ]
  },
  {
   "cell_type": "code",
   "execution_count": null,
   "metadata": {},
   "outputs": [],
   "source": [
    "relationship.iloc[0]"
   ]
  },
  {
   "cell_type": "code",
   "execution_count": null,
   "metadata": {},
   "outputs": [],
   "source": [
    "frequent=apriori(relationship,min_support=0.05,use_colnames=True)\n",
    "\n",
    "# the datasets with the 10 highest support meritcs\n",
    "frequent.sort_values(by='support',ascending=False).head(10)"
   ]
  },
  {
   "cell_type": "code",
   "execution_count": null,
   "metadata": {},
   "outputs": [],
   "source": [
    "rules=association_rules(frequent,metric='lift',min_threshold=0.8)\n",
    "rules.head(10)"
   ]
  },
  {
   "cell_type": "code",
   "execution_count": null,
   "metadata": {},
   "outputs": [],
   "source": [
    "data=DataFrame(rules)\n",
    "R_result=data[(data['lift']>=1)&(data['confidence']>=0.05)&(data['antecedents']!=frozenset({'CD'}))&(data['consequents']!=frozenset({'CD'}))]\n",
    "R_result.sort_values(by=['lift'],axis=0,ascending=False)"
   ]
  },
  {
   "cell_type": "code",
   "execution_count": null,
   "metadata": {},
   "outputs": [],
   "source": [
    "ax = sns.boxplot(x=\"prod_subcat\", y=\"Rate\",\n",
    "                 data=df_new, palette=\"Set3\")"
   ]
  },
  {
   "cell_type": "code",
   "execution_count": null,
   "metadata": {},
   "outputs": [],
   "source": [
    "sns.regplot(x=df.loc[0:10000,'Qty'],y=df.loc[0:10000,'total_amt'])"
   ]
  },
  {
   "cell_type": "code",
   "execution_count": null,
   "metadata": {},
   "outputs": [],
   "source": [
    "df.groupby(\"customer_Id\").mean().total_amt"
   ]
  },
  {
   "cell_type": "code",
   "execution_count": null,
   "metadata": {},
   "outputs": [],
   "source": [
    "df.info()"
   ]
  },
  {
   "cell_type": "code",
   "execution_count": null,
   "metadata": {},
   "outputs": [],
   "source": [
    "import numpy as np\n",
    "import seaborn as sns\n",
    "from matplotlib import pyplot as plt\n",
    "import matplotlib.style as style\n",
    "from datetime import timedelta\n",
    "import datetime as dt\n",
    "import time\n",
    "import os"
   ]
  },
  {
   "cell_type": "code",
   "execution_count": null,
   "metadata": {},
   "outputs": [],
   "source": [
    "df.columns"
   ]
  },
  {
   "cell_type": "code",
   "execution_count": null,
   "metadata": {},
   "outputs": [],
   "source": [
    "ax = sns.boxplot(x=\"prod_subcat_code\", y=\"Qty\",\n",
    "                 data=transaction, palette=\"Set3\")"
   ]
  },
  {
   "cell_type": "code",
   "execution_count": null,
   "metadata": {},
   "outputs": [],
   "source": [
    "ax = sns.boxplot(x=\"Store_type\", y=\"\",\n",
    "                 data=transaction, palette=\"Set3\")"
   ]
  },
  {
   "cell_type": "code",
   "execution_count": null,
   "metadata": {},
   "outputs": [],
   "source": [
    "customer.head()"
   ]
  },
  {
   "cell_type": "code",
   "execution_count": null,
   "metadata": {},
   "outputs": [],
   "source": [
    "# calculate the customer's age when they buy stuff\n",
    "\n",
    "\n",
    "transactions['tran_date'] = pd.to_datetime(transactions['tran_date'], errors='coerce')\n",
    "\n",
    "\n",
    "customer['DOB'] = pd.to_datetime(customer['DOB'], errors='coerce')\n"
   ]
  },
  {
   "cell_type": "code",
   "execution_count": null,
   "metadata": {},
   "outputs": [],
   "source": [
    "len(df[df.total_amt<0])"
   ]
  },
  {
   "cell_type": "code",
   "execution_count": null,
   "metadata": {},
   "outputs": [],
   "source": [
    "len(df.total_amt)"
   ]
  },
  {
   "cell_type": "code",
   "execution_count": null,
   "metadata": {},
   "outputs": [],
   "source": [
    "df.Qty.value_counts()"
   ]
  },
  {
   "cell_type": "code",
   "execution_count": null,
   "metadata": {},
   "outputs": [],
   "source": [
    "produce.head()"
   ]
  },
  {
   "cell_type": "code",
   "execution_count": null,
   "metadata": {},
   "outputs": [],
   "source": [
    "produce.prod_subcat.value_counts()"
   ]
  },
  {
   "cell_type": "code",
   "execution_count": null,
   "metadata": {},
   "outputs": [],
   "source": [
    "produce.prod_cat.value_counts()"
   ]
  },
  {
   "cell_type": "markdown",
   "metadata": {},
   "source": [
    "5. You are required to write code to implement either time-series clustering or density-based clustering model using the above dataset (Question 1). If you select density-based clustering approach to achieve the task, you are going to cover the following steps:\n",
    "    - Importing required libraries\n",
    "    - Load the dataset (Question 1)  into a DataFrame object\n",
    "    - Visualize the data, use only two of these attributes at the time\n",
    "    - You may need to normalise the attribute if necessary\n",
    "    - Show positive correlation between attributes if necessary\n",
    "    - Construct a density-based clustering model and extract cluster labels and outliers to plot your results. \n"
   ]
  },
  {
   "cell_type": "code",
   "execution_count": 312,
   "metadata": {},
   "outputs": [
    {
     "name": "stdout",
     "output_type": "stream",
     "text": [
      "Cluster membership\n",
      "3    6123\n",
      "1    5956\n",
      "2    5014\n",
      "4    3040\n",
      "0    2907\n",
      "Name: ClusterID, dtype: int64\n"
     ]
    }
   ],
   "source": [
    "clustering_data = df[[\"Qty\",\"\",\"\"]]\n",
    "clustering_data=clustering_data.dropna()\n",
    "clustering_data= pd.get_dummies(clustering_data)\n",
    "\n",
    "from sklearn.cluster import KMeans\n",
    "\n",
    "\n",
    "kmeans = KMeans(n_clusters=5, random_state=0).fit(clustering_data)\n",
    "kmeans.labels_\n",
    "# add ClusterId\n",
    "clustering_data[\"ClusterID\"] = kmeans.predict(clustering_data)\n",
    "\n",
    "print(\"Cluster membership\")\n",
    "print(clustering_data['ClusterID'].value_counts())"
   ]
  },
  {
   "cell_type": "code",
   "execution_count": 313,
   "metadata": {},
   "outputs": [
    {
     "data": {
      "image/png": "[encoded data removed]",
      "text/plain": [
       "<Figure size 540x540 with 12 Axes>"
      ]
     },
     "metadata": {
      "needs_background": "light"
     },
     "output_type": "display_data"
    }
   ],
   "source": [
    "import seaborn as sns, numpy as np\n",
    "ax = sns.pairplot(clustering_data)"
   ]
  },
  {
   "cell_type": "code",
   "execution_count": null,
   "metadata": {},
   "outputs": [],
   "source": []
  }
 ],
 "metadata": {
  "kernelspec": {
   "display_name": "Python 3",
   "language": "python",
   "name": "python3"
  },
  "language_info": {
   "codemirror_mode": {
    "name": "ipython",
    "version": 3
   },
   "file_extension": ".py",
   "mimetype": "text/x-python",
   "name": "python",
   "nbconvert_exporter": "python",
   "pygments_lexer": "ipython3",
   "version": "3.7.3"
  }
 },
 "nbformat": 4,
 "nbformat_minor": 2
}
