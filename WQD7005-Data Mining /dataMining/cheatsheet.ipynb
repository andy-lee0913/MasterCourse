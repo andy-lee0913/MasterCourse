{
 "cells": [
  {
   "cell_type": "code",
   "execution_count": 106,
   "metadata": {},
   "outputs": [],
   "source": [
    "import pandas as pd\n",
    "import numpy as np\n",
    "import matplotlib.pyplot as plt"
   ]
  },
  {
   "cell_type": "code",
   "execution_count": null,
   "metadata": {},
   "outputs": [],
   "source": [
    "df = pd.read_csv(\"property data.csv\")"
   ]
  },
  {
   "cell_type": "code",
   "execution_count": 8,
   "metadata": {},
   "outputs": [
    {
     "data": {
      "text/plain": [
       "0      3\n",
       "1      3\n",
       "2    NaN\n",
       "3      1\n",
       "4      3\n",
       "5    NaN\n",
       "6      2\n",
       "7     --\n",
       "8     na\n",
       "Name: NUM_BEDROOMS, dtype: object"
      ]
     },
     "execution_count": 8,
     "metadata": {},
     "output_type": "execute_result"
    }
   ],
   "source": [
    "df[\"NUM_BEDROOMS\"]"
   ]
  },
  {
   "cell_type": "code",
   "execution_count": 11,
   "metadata": {},
   "outputs": [
    {
     "data": {
      "text/plain": [
       "0    False\n",
       "1    False\n",
       "2     True\n",
       "3    False\n",
       "4    False\n",
       "5     True\n",
       "6    False\n",
       "7    False\n",
       "8    False\n",
       "Name: NUM_BEDROOMS, dtype: bool"
      ]
     },
     "execution_count": 11,
     "metadata": {},
     "output_type": "execute_result"
    }
   ],
   "source": [
    "df[\"NUM_BEDROOMS\"].isnull()"
   ]
  },
  {
   "cell_type": "code",
   "execution_count": 33,
   "metadata": {},
   "outputs": [],
   "source": [
    "#list of missing values\n",
    "missing_values = [\"n/a\", \"na\", \"--\"]\n",
    "df = pd.read_csv(\"property data.csv\", na_values = missing_values)"
   ]
  },
  {
   "cell_type": "code",
   "execution_count": 16,
   "metadata": {},
   "outputs": [],
   "source": [
    "#modify the error\n",
    "cnt = 0 \n",
    "for row in df[\"OWN_OCCUPIED\"]:\n",
    "    try:\n",
    "        int(row)\n",
    "        df.loc[cnt, \"OWN_OCCUPIED\"] = np.nan\n",
    "    except ValueError:\n",
    "        pass\n",
    "    cnt += 1         "
   ]
  },
  {
   "cell_type": "code",
   "execution_count": 23,
   "metadata": {},
   "outputs": [
    {
     "data": {
      "text/plain": [
       "ST_NUM          2\n",
       "ST_NAME         0\n",
       "OWN_OCCUPIED    1\n",
       "NUM_BEDROOMS    4\n",
       "dtype: int64"
      ]
     },
     "execution_count": 23,
     "metadata": {},
     "output_type": "execute_result"
    }
   ],
   "source": [
    "#sum of missing values\n",
    "df.isnull().sum()"
   ]
  },
  {
   "cell_type": "code",
   "execution_count": 24,
   "metadata": {},
   "outputs": [
    {
     "data": {
      "text/plain": [
       "True"
      ]
     },
     "execution_count": 24,
     "metadata": {},
     "output_type": "execute_result"
    }
   ],
   "source": [
    "#is there any missing values?\n",
    "df.isnull().values.any()"
   ]
  },
  {
   "cell_type": "code",
   "execution_count": 26,
   "metadata": {},
   "outputs": [
    {
     "data": {
      "text/plain": [
       "7"
      ]
     },
     "execution_count": 26,
     "metadata": {},
     "output_type": "execute_result"
    }
   ],
   "source": [
    "#the total of missing values\n",
    "df.isnull().sum().sum()"
   ]
  },
  {
   "cell_type": "code",
   "execution_count": 29,
   "metadata": {},
   "outputs": [],
   "source": [
    "#replace missing values with specific value\n",
    "df[\"ST_NUM\"].fillna(125, inplace = True)"
   ]
  },
  {
   "cell_type": "code",
   "execution_count": 35,
   "metadata": {},
   "outputs": [
    {
     "data": {
      "text/plain": [
       "0    3.0\n",
       "1    3.0\n",
       "2    2.4\n",
       "3    1.0\n",
       "4    3.0\n",
       "5    2.4\n",
       "6    2.0\n",
       "7    2.4\n",
       "8    2.4\n",
       "Name: NUM_BEDROOMS, dtype: float64"
      ]
     },
     "execution_count": 35,
     "metadata": {},
     "output_type": "execute_result"
    }
   ],
   "source": [
    "#replace missing values with median/mean\n",
    "median = df[\"NUM_BEDROOMS\"].median()\n",
    "df[\"NUM_BEDROOMS\"].fillna(median, inplace = True)\n",
    "df[\"NUM_BEDROOMS\"]"
   ]
  },
  {
   "cell_type": "code",
   "execution_count": 88,
   "metadata": {},
   "outputs": [
    {
     "data": {
      "image/png": "[encoded data removed]",
      "text/plain": [
       "<Figure size 432x288 with 1 Axes>"
      ]
     },
     "metadata": {
      "needs_background": "light"
     },
     "output_type": "display_data"
    }
   ],
   "source": [
    "#detect outliers in dataset\n",
    "data = {'values': [1, 2, 3, 50, 50, 50, 50, 50, 50, 50, 50, 50, 50, 50, 50, 50, 50, 50, 50, 50, 50, 50, 90, 80]}\n",
    "\n",
    "df = pd.DataFrame(data, columns = ['values'])\n",
    "#show the histgram\n",
    "plt.hist(df.values)\n",
    "plt.show()\n",
    "\n",
    "#set the lower and upper bound\n",
    "lower_bound = 0.1\n",
    "upper_bound = 0.95\n",
    "res = df[\"values\"].quantile([lower_bound, upper_bound])\n",
    "res\n",
    "\n",
    "#mark the outliers\n",
    "true_index = (res.loc[lower_bound] < df.values) & (df.values < res.loc[upper_bound])\n",
    "false_index = ~true_index\n",
    "false_index\n",
    "df.values[true_index]\n",
    "\n",
    "#replace the outliers with median\n",
    "mid = np.median(df.values[true_index])\n",
    "df[false_index] = mid"
   ]
  },
  {
   "cell_type": "code",
   "execution_count": 151,
   "metadata": {},
   "outputs": [
    {
     "name": "stdout",
     "output_type": "stream",
     "text": [
      "<class 'pandas.core.frame.DataFrame'>\n",
      "RangeIndex: 24 entries, 0 to 23\n",
      "Data columns (total 1 columns):\n",
      "values    24 non-null int64\n",
      "dtypes: int64(1)\n",
      "memory usage: 320.0 bytes\n"
     ]
    }
   ],
   "source": [
    "df.head()\n",
    "df.shape\n",
    "#create the dataset to be binned\n",
    "data = {'values': [1, 2, 3, 50, 50, 11, 12, 22, 23, 52, 41, 61, 72, 87, 91, 92, 98, 63, 54, 65, 23, 87, 75, 84]}\n",
    "df = pd.DataFrame(data, columns = ['values'])\n",
    "#look at the data info \n",
    "df.info()\n",
    "#describe the data, 精确到小数点后两位\n",
    "df.describe().round(2)\n",
    "#look at the structure of dataframe\n",
    "df.shape\n",
    "#eyeball the rating count series\n",
    "#df.rating_count\n",
    "#set the bins ranges\n",
    "bins = [0, 10, 20, 30, 40, 50, 60, 70, 80, 90, 100]\n",
    "# start to bin\n",
    "df.values.shape\n",
    "df[\"age_group\"] = pd.cut(df[\"values\"], bins = [0, 10, 20, 30, 40, 50, 60, 70, 80, 90, 100], labels = [\"0-10\", \"10-20\", \"20-30\", \"30-40\", \"40-50\", \"50-60\", \"60-70\", \"70-80\", \"80-90\", \"90-100\"])"
   ]
  },
  {
   "cell_type": "code",
   "execution_count": 143,
   "metadata": {},
   "outputs": [],
   "source": [
    "#normalization \n",
    "def normalization(old_value, old_min, old_max, new_min, new_max):\n",
    "    new_value = ( (old_value - old_min) / (old_max - old_min) ) * (new_max - new_min) + new_min\n",
    "    return new_value\n",
    "\n",
    "normalization(10000, -16000, 16000, 0, 100)"
   ]
  },
  {
   "cell_type": "code",
   "execution_count": 153,
   "metadata": {},
   "outputs": [],
   "source": [
    "#dimentionality reduction\n",
    "df = df.drop([\"age_group\"], axis = 1)  "
   ]
  }
 ],
 "metadata": {
  "kernelspec": {
   "display_name": "Python 3",
   "language": "python",
   "name": "python3"
  },
  "language_info": {
   "codemirror_mode": {
    "name": "ipython",
    "version": 3
   },
   "file_extension": ".py",
   "mimetype": "text/x-python",
   "name": "python",
   "nbconvert_exporter": "python",
   "pygments_lexer": "ipython3",
   "version": "3.7.3"
  }
 },
 "nbformat": 4,
 "nbformat_minor": 4
}
