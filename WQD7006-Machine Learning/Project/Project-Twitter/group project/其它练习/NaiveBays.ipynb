{
 "cells": [
  {
   "cell_type": "markdown",
   "metadata": {},
   "source": [
    "# Load Tweets"
   ]
  },
  {
   "cell_type": "code",
   "execution_count": 16,
   "metadata": {},
   "outputs": [],
   "source": [
    "import pandas as pd\n",
    "df = pd.read_csv(\"label_tweets_v2.csv\")\n",
    "df=df.rename(columns={\"Unnamed: 0\":\"index\"})"
   ]
  },
  {
   "cell_type": "code",
   "execution_count": 17,
   "metadata": {},
   "outputs": [
    {
     "data": {
      "text/html": [
       "<div>\n",
       "<style scoped>\n",
       "    .dataframe tbody tr th:only-of-type {\n",
       "        vertical-align: middle;\n",
       "    }\n",
       "\n",
       "    .dataframe tbody tr th {\n",
       "        vertical-align: top;\n",
       "    }\n",
       "\n",
       "    .dataframe thead th {\n",
       "        text-align: right;\n",
       "    }\n",
       "</style>\n",
       "<table border=\"1\" class=\"dataframe\">\n",
       "  <thead>\n",
       "    <tr style=\"text-align: right;\">\n",
       "      <th></th>\n",
       "      <th>index</th>\n",
       "      <th>score</th>\n",
       "      <th>label</th>\n",
       "      <th>text</th>\n",
       "      <th>date</th>\n",
       "      <th>username</th>\n",
       "      <th>hashtags</th>\n",
       "    </tr>\n",
       "  </thead>\n",
       "  <tbody>\n",
       "    <tr>\n",
       "      <th>0</th>\n",
       "      <td>0</td>\n",
       "      <td>-0.0258</td>\n",
       "      <td>0.0</td>\n",
       "      <td>yes you can get burnout stress migraines even ...</td>\n",
       "      <td>4/29/2020 23:59</td>\n",
       "      <td>maria_emlano</td>\n",
       "      <td>#WFH</td>\n",
       "    </tr>\n",
       "    <tr>\n",
       "      <th>1</th>\n",
       "      <td>1</td>\n",
       "      <td>0.0000</td>\n",
       "      <td>NaN</td>\n",
       "      <td>it s am so i should probably change from my pj...</td>\n",
       "      <td>4/29/2020 23:59</td>\n",
       "      <td>DrHelen_Mac</td>\n",
       "      <td>#IsolationLife #WFH</td>\n",
       "    </tr>\n",
       "    <tr>\n",
       "      <th>2</th>\n",
       "      <td>2</td>\n",
       "      <td>0.1779</td>\n",
       "      <td>1.0</td>\n",
       "      <td>icymi an rsa customer and discuss how the incr...</td>\n",
       "      <td>4/29/2020 23:59</td>\n",
       "      <td>RSAsecurity</td>\n",
       "      <td>#ICYMI #WFH #security #DynamicWorkforceRisk</td>\n",
       "    </tr>\n",
       "    <tr>\n",
       "      <th>3</th>\n",
       "      <td>3</td>\n",
       "      <td>0.5719</td>\n",
       "      <td>1.0</td>\n",
       "      <td>my shift has ended hurray for the long weekend...</td>\n",
       "      <td>4/29/2020 23:59</td>\n",
       "      <td>iam_aikenlei</td>\n",
       "      <td>#wfh #longweekend #ecqpic</td>\n",
       "    </tr>\n",
       "    <tr>\n",
       "      <th>4</th>\n",
       "      <td>4</td>\n",
       "      <td>0.9349</td>\n",
       "      <td>1.0</td>\n",
       "      <td>who can share the best hr policy for wfh in my...</td>\n",
       "      <td>4/29/2020 23:59</td>\n",
       "      <td>subh10</td>\n",
       "      <td>#WFH</td>\n",
       "    </tr>\n",
       "  </tbody>\n",
       "</table>\n",
       "</div>"
      ],
      "text/plain": [
       "   index   score  label                                               text  \\\n",
       "0      0 -0.0258    0.0  yes you can get burnout stress migraines even ...   \n",
       "1      1  0.0000    NaN  it s am so i should probably change from my pj...   \n",
       "2      2  0.1779    1.0  icymi an rsa customer and discuss how the incr...   \n",
       "3      3  0.5719    1.0  my shift has ended hurray for the long weekend...   \n",
       "4      4  0.9349    1.0  who can share the best hr policy for wfh in my...   \n",
       "\n",
       "              date      username                                     hashtags  \n",
       "0  4/29/2020 23:59  maria_emlano                                         #WFH  \n",
       "1  4/29/2020 23:59   DrHelen_Mac                          #IsolationLife #WFH  \n",
       "2  4/29/2020 23:59   RSAsecurity  #ICYMI #WFH #security #DynamicWorkforceRisk  \n",
       "3  4/29/2020 23:59  iam_aikenlei                    #wfh #longweekend #ecqpic  \n",
       "4  4/29/2020 23:59        subh10                                         #WFH  "
      ]
     },
     "execution_count": 17,
     "metadata": {},
     "output_type": "execute_result"
    }
   ],
   "source": [
    "# locad the data \n",
    "df.head()"
   ]
  },
  {
   "cell_type": "markdown",
   "metadata": {},
   "source": [
    "# We will process the five parts\n",
    "\n",
    "### 1.Text Analytics and NLP\n",
    "\n",
    "### 2.Compare Text Analytics, NLP and Text Mining\n",
    " - Text Analysis Operations using NLTK\n",
    " - Tokenization\n",
    " - Stopwords\n",
    " - Lexicon Normalization such as Stemming and Lemmatization\n",
    " - POS Tagging\n",
    "\n",
    "### 3.Sentiment Analysis\n",
    "\n",
    "### 4.Text Classification\n",
    "\n",
    "### 5.Performing Sentiment Analysis using Text Classification\n"
   ]
  },
  {
   "cell_type": "code",
   "execution_count": 30,
   "metadata": {},
   "outputs": [],
   "source": [
    "#Loading NLTK\n",
    "import nltk\n",
    "from nltk.tokenize import sent_tokenize\n",
    "#nltk.download('punkt')"
   ]
  },
  {
   "cell_type": "markdown",
   "metadata": {},
   "source": [
    "sentence tokenization"
   ]
  },
  {
   "cell_type": "code",
   "execution_count": 36,
   "metadata": {},
   "outputs": [],
   "source": [
    "text=\"Hello Mr. Smith, how are you doing today? The weather is great, and city is awesome.The sky is pinkish-blue. You shouldn't eat cardboard\"\n"
   ]
  },
  {
   "cell_type": "code",
   "execution_count": 54,
   "metadata": {},
   "outputs": [
    {
     "name": "stdout",
     "output_type": "stream",
     "text": [
      "['Hello Mr. Smith, how are you doing today?', 'The weather is great, and city is awesome.The sky is pinkish-blue.', \"You shouldn't eat cardboard\"]\n"
     ]
    }
   ],
   "source": [
    "tokenized_text=sent_tokenize(text)\n",
    "print(tokenized_text)"
   ]
  },
  {
   "cell_type": "markdown",
   "metadata": {},
   "source": [
    "work tokenization"
   ]
  },
  {
   "cell_type": "code",
   "execution_count": 59,
   "metadata": {},
   "outputs": [
    {
     "name": "stdout",
     "output_type": "stream",
     "text": [
      "['Hello', 'Mr.', 'Smith', ',', 'how', 'are', 'you', 'doing', 'today', '?', 'The', 'weather', 'is', 'great', ',', 'and', 'city', 'is', 'awesome.The', 'sky', 'is', 'pinkish-blue', '.', 'You', 'should', \"n't\", 'eat', 'cardboard']\n"
     ]
    }
   ],
   "source": [
    "from nltk.tokenize import word_tokenize\n",
    "tokenized_word=word_tokenize(text)\n",
    "print(tokenized_word)"
   ]
  },
  {
   "cell_type": "markdown",
   "metadata": {},
   "source": [
    "Frequency Distribution"
   ]
  },
  {
   "cell_type": "code",
   "execution_count": 39,
   "metadata": {},
   "outputs": [
    {
     "name": "stdout",
     "output_type": "stream",
     "text": [
      "<FreqDist with 25 samples and 28 outcomes>\n"
     ]
    }
   ],
   "source": [
    "from nltk.probability import FreqDist\n",
    "fdist = FreqDist(tokenized_word)\n",
    "print(fdist)"
   ]
  },
  {
   "cell_type": "code",
   "execution_count": 40,
   "metadata": {},
   "outputs": [
    {
     "data": {
      "text/plain": [
       "[('is', 3), (',', 2)]"
      ]
     },
     "execution_count": 40,
     "metadata": {},
     "output_type": "execute_result"
    }
   ],
   "source": [
    "fdist.most_common(2)"
   ]
  },
  {
   "cell_type": "code",
   "execution_count": 42,
   "metadata": {},
   "outputs": [
    {
     "data": {
      "image/png": "[encoded data removed]",
      "text/plain": [
       "<Figure size 432x288 with 1 Axes>"
      ]
     },
     "metadata": {
      "needs_background": "light"
     },
     "output_type": "display_data"
    }
   ],
   "source": [
    "# Frequency Distribution Plot\n",
    "import matplotlib.pyplot as plt\n",
    "%matplotlib inline\n",
    "fdist.plot(30,cumulative=False)\n",
    "plt.show()"
   ]
  },
  {
   "cell_type": "markdown",
   "metadata": {},
   "source": [
    "Stopwords"
   ]
  },
  {
   "cell_type": "code",
   "execution_count": 49,
   "metadata": {
    "scrolled": true
   },
   "outputs": [
    {
     "name": "stdout",
     "output_type": "stream",
     "text": [
      "{'those', 'will', 'wasn', 'm', 'isn', 'has', 'yourselves', \"won't\", 'were', 'which', 'yours', \"wouldn't\", 'doesn', 'these', 'had', 'me', 'down', 'didn', 'why', 'aren', 'wouldn', 'there', \"shan't\", 'both', 'being', 'having', \"it's\", \"that'll\", 'did', 'than', 'mightn', \"shouldn't\", 'no', \"haven't\", 'here', 't', 'can', 'ours', 'you', \"didn't\", 'and', 'your', 'because', 'the', \"couldn't\", \"isn't\", 'above', \"doesn't\", \"you're\", 'am', 'up', 'theirs', 'by', \"needn't\", 'be', 'most', 'in', 'during', 'hasn', 'again', 'an', 'mustn', 'with', \"hadn't\", 'before', 'further', 'if', 'our', 'or', 'as', 'ma', 'under', 'them', \"hasn't\", 'ain', 'that', 'was', 'very', 'more', 'what', 'against', 's', 'have', 'such', \"aren't\", 'on', 'through', 'are', 'when', 'out', 'once', 'needn', 'y', 'it', 'himself', 'shouldn', 'after', 'who', 'off', 'only', 'i', 'haven', 'do', 'her', 'its', 'itself', \"you'd\", 'whom', 'does', 'to', \"mustn't\", 'own', 'we', 'they', 'been', 'just', 'herself', \"should've\", 'same', 'couldn', 'myself', 'until', 'too', \"you'll\", \"mightn't\", 'nor', 'o', 'each', 'now', 'between', 'is', \"wasn't\", 'some', 'a', 'him', 'weren', 'not', 'other', \"don't\", 'she', 'shan', 'doing', 'where', 'his', 'd', 'below', 'at', 'll', 'any', 'don', 'hadn', 'how', 'won', 're', 'about', 'then', 'all', 'themselves', 'but', 'for', 'few', 'their', 'this', \"you've\", 'of', \"weren't\", 'ourselves', 'he', 'so', 've', 'my', \"she's\", 'yourself', 'hers', 'from', 'should', 'over', 'into', 'while'}\n"
     ]
    }
   ],
   "source": [
    "#nltk.download('stopwords')\n",
    "from nltk.corpus import stopwords\n",
    "stop_words=set(stopwords.words(\"english\"))\n",
    "print(stop_words)"
   ]
  },
  {
   "cell_type": "code",
   "execution_count": 63,
   "metadata": {},
   "outputs": [
    {
     "name": "stdout",
     "output_type": "stream",
     "text": [
      "Tokenized Sentence: ['Hello', 'Mr.', 'Smith', ',', 'how', 'are', 'you', 'doing', 'today', '?', 'The', 'weather', 'is', 'great', ',', 'and', 'city', 'is', 'awesome.The', 'sky', 'is', 'pinkish-blue', '.', 'You', 'should', \"n't\", 'eat', 'cardboard']\n",
      "----\n",
      "Filterd Sentence: ['Hello', 'Mr.', 'Smith', ',', 'today', '?', 'The', 'weather', 'great', ',', 'city', 'awesome.The', 'sky', 'pinkish-blue', '.', 'You', \"n't\", 'eat', 'cardboard']\n"
     ]
    }
   ],
   "source": [
    "#removing stopwords\n",
    "tokenized_sent = tokenized_word\n",
    "\n",
    "filtered_sent=[]\n",
    "for w in tokenized_sent:\n",
    "    if w not in stop_words:\n",
    "        filtered_sent.append(w)\n",
    "\n",
    "\n",
    "print(\"Tokenized Sentence:\",tokenized_sent)\n",
    "print(\"----\")\n",
    "print(\"Filterd Sentence:\",filtered_sent)"
   ]
  },
  {
   "cell_type": "markdown",
   "metadata": {},
   "source": [
    "Stemming"
   ]
  },
  {
   "cell_type": "code",
   "execution_count": 65,
   "metadata": {},
   "outputs": [
    {
     "name": "stdout",
     "output_type": "stream",
     "text": [
      "Filtered Sentence: ['Hello', 'Mr.', 'Smith', ',', 'today', '?', 'The', 'weather', 'great', ',', 'city', 'awesome.The', 'sky', 'pinkish-blue', '.', 'You', \"n't\", 'eat', 'cardboard']\n",
      "----\n",
      "Stemmed Sentence: ['hello', 'mr.', 'smith', ',', 'today', '?', 'the', 'weather', 'great', ',', 'citi', 'awesome.th', 'sky', 'pinkish-blu', '.', 'you', \"n't\", 'eat', 'cardboard']\n"
     ]
    }
   ],
   "source": [
    "from nltk.stem import PorterStemmer\n",
    "from nltk.tokenize import sent_tokenize, word_tokenize\n",
    "ps = PorterStemmer()\n",
    "\n",
    "stemmed_words=[]\n",
    "for w in filtered_sent:\n",
    "    stemmed_words.append(ps.stem(w))\n",
    "    \n",
    "print(\"Filtered Sentence:\",filtered_sent)\n",
    "\n",
    "print(\"----\")\n",
    "\n",
    "print(\"Stemmed Sentence:\",stemmed_words)"
   ]
  },
  {
   "cell_type": "markdown",
   "metadata": {},
   "source": [
    "Lemmatization"
   ]
  },
  {
   "cell_type": "code",
   "execution_count": 68,
   "metadata": {},
   "outputs": [
    {
     "name": "stdout",
     "output_type": "stream",
     "text": [
      "Lemmatized Word: fly\n",
      "Stemmed Word: fli\n"
     ]
    }
   ],
   "source": [
    "#Lexicon Normalization\n",
    "#performing stemming and Lemmatization\n",
    "#nltk.download('wordnet')\n",
    "from nltk.stem.wordnet import WordNetLemmatizer\n",
    "lem = WordNetLemmatizer()\n",
    "\n",
    "from nltk.stem.porter import PorterStemmer\n",
    "stem = PorterStemmer()\n",
    "\n",
    "word = \"flying\"\n",
    "print(\"Lemmatized Word:\",lem.lemmatize(word,\"v\"))\n",
    "print(\"Stemmed Word:\",stem.stem(word))"
   ]
  },
  {
   "cell_type": "markdown",
   "metadata": {},
   "source": [
    "### Text Classification\n",
    "\n",
    "![](https://tva1.sinaimg.cn/large/007S8ZIlgy1gff1cvpokrj30uw0gc0wb.jpg)"
   ]
  },
  {
   "cell_type": "code",
   "execution_count": 71,
   "metadata": {},
   "outputs": [
    {
     "name": "stdout",
     "output_type": "stream",
     "text": [
      "<class 'pandas.core.frame.DataFrame'>\n",
      "RangeIndex: 115000 entries, 0 to 114999\n",
      "Data columns (total 7 columns):\n",
      "index       115000 non-null int64\n",
      "score       115000 non-null float64\n",
      "label       79355 non-null float64\n",
      "text        115000 non-null object\n",
      "date        115000 non-null object\n",
      "username    115000 non-null object\n",
      "hashtags    115000 non-null object\n",
      "dtypes: float64(2), int64(1), object(4)\n",
      "memory usage: 6.1+ MB\n"
     ]
    }
   ],
   "source": [
    "# Import pandas\n",
    "import pandas as pd\n",
    "df.info()\n"
   ]
  },
  {
   "cell_type": "code",
   "execution_count": 72,
   "metadata": {},
   "outputs": [
    {
     "data": {
      "text/html": [
       "<div>\n",
       "<style scoped>\n",
       "    .dataframe tbody tr th:only-of-type {\n",
       "        vertical-align: middle;\n",
       "    }\n",
       "\n",
       "    .dataframe tbody tr th {\n",
       "        vertical-align: top;\n",
       "    }\n",
       "\n",
       "    .dataframe thead th {\n",
       "        text-align: right;\n",
       "    }\n",
       "</style>\n",
       "<table border=\"1\" class=\"dataframe\">\n",
       "  <thead>\n",
       "    <tr style=\"text-align: right;\">\n",
       "      <th></th>\n",
       "      <th>index</th>\n",
       "      <th>score</th>\n",
       "      <th>label</th>\n",
       "      <th>text</th>\n",
       "      <th>date</th>\n",
       "      <th>username</th>\n",
       "      <th>hashtags</th>\n",
       "    </tr>\n",
       "  </thead>\n",
       "  <tbody>\n",
       "    <tr>\n",
       "      <th>0</th>\n",
       "      <td>0</td>\n",
       "      <td>-0.0258</td>\n",
       "      <td>0.0</td>\n",
       "      <td>yes you can get burnout stress migraines even ...</td>\n",
       "      <td>4/29/2020 23:59</td>\n",
       "      <td>maria_emlano</td>\n",
       "      <td>#WFH</td>\n",
       "    </tr>\n",
       "    <tr>\n",
       "      <th>1</th>\n",
       "      <td>1</td>\n",
       "      <td>0.0000</td>\n",
       "      <td>NaN</td>\n",
       "      <td>it s am so i should probably change from my pj...</td>\n",
       "      <td>4/29/2020 23:59</td>\n",
       "      <td>DrHelen_Mac</td>\n",
       "      <td>#IsolationLife #WFH</td>\n",
       "    </tr>\n",
       "    <tr>\n",
       "      <th>2</th>\n",
       "      <td>2</td>\n",
       "      <td>0.1779</td>\n",
       "      <td>1.0</td>\n",
       "      <td>icymi an rsa customer and discuss how the incr...</td>\n",
       "      <td>4/29/2020 23:59</td>\n",
       "      <td>RSAsecurity</td>\n",
       "      <td>#ICYMI #WFH #security #DynamicWorkforceRisk</td>\n",
       "    </tr>\n",
       "    <tr>\n",
       "      <th>3</th>\n",
       "      <td>3</td>\n",
       "      <td>0.5719</td>\n",
       "      <td>1.0</td>\n",
       "      <td>my shift has ended hurray for the long weekend...</td>\n",
       "      <td>4/29/2020 23:59</td>\n",
       "      <td>iam_aikenlei</td>\n",
       "      <td>#wfh #longweekend #ecqpic</td>\n",
       "    </tr>\n",
       "    <tr>\n",
       "      <th>4</th>\n",
       "      <td>4</td>\n",
       "      <td>0.9349</td>\n",
       "      <td>1.0</td>\n",
       "      <td>who can share the best hr policy for wfh in my...</td>\n",
       "      <td>4/29/2020 23:59</td>\n",
       "      <td>subh10</td>\n",
       "      <td>#WFH</td>\n",
       "    </tr>\n",
       "  </tbody>\n",
       "</table>\n",
       "</div>"
      ],
      "text/plain": [
       "   index   score  label                                               text  \\\n",
       "0      0 -0.0258    0.0  yes you can get burnout stress migraines even ...   \n",
       "1      1  0.0000    NaN  it s am so i should probably change from my pj...   \n",
       "2      2  0.1779    1.0  icymi an rsa customer and discuss how the incr...   \n",
       "3      3  0.5719    1.0  my shift has ended hurray for the long weekend...   \n",
       "4      4  0.9349    1.0  who can share the best hr policy for wfh in my...   \n",
       "\n",
       "              date      username                                     hashtags  \n",
       "0  4/29/2020 23:59  maria_emlano                                         #WFH  \n",
       "1  4/29/2020 23:59   DrHelen_Mac                          #IsolationLife #WFH  \n",
       "2  4/29/2020 23:59   RSAsecurity  #ICYMI #WFH #security #DynamicWorkforceRisk  \n",
       "3  4/29/2020 23:59  iam_aikenlei                    #wfh #longweekend #ecqpic  \n",
       "4  4/29/2020 23:59        subh10                                         #WFH  "
      ]
     },
     "execution_count": 72,
     "metadata": {},
     "output_type": "execute_result"
    }
   ],
   "source": [
    "df.head()"
   ]
  },
  {
   "cell_type": "code",
   "execution_count": 100,
   "metadata": {},
   "outputs": [
    {
     "data": {
      "text/plain": [
       "index       0\n",
       "score       0\n",
       "label       0\n",
       "text        0\n",
       "date        0\n",
       "username    0\n",
       "hashtags    0\n",
       "dtype: int64"
      ]
     },
     "execution_count": 100,
     "metadata": {},
     "output_type": "execute_result"
    }
   ],
   "source": [
    "#remove null value\n",
    "\n",
    "df=df.dropna()\n",
    "df.isnull().sum()"
   ]
  },
  {
   "cell_type": "code",
   "execution_count": 101,
   "metadata": {},
   "outputs": [
    {
     "data": {
      "text/plain": [
       "1.0    64838\n",
       "0.0    14517\n",
       "Name: label, dtype: int64"
      ]
     },
     "execution_count": 101,
     "metadata": {},
     "output_type": "execute_result"
    }
   ],
   "source": [
    "df.label.value_counts()"
   ]
  },
  {
   "cell_type": "code",
   "execution_count": 102,
   "metadata": {},
   "outputs": [
    {
     "data": {
      "image/png": "[encoded data removed]",
      "text/plain": [
       "<Figure size 432x288 with 1 Axes>"
      ]
     },
     "metadata": {
      "needs_background": "light"
     },
     "output_type": "display_data"
    }
   ],
   "source": [
    "Sentiment_count=df.groupby('label').count()\n",
    "\n",
    "\n",
    "\n",
    "plt.bar(Sentiment_count.index.values, Sentiment_count[\"text\"])\n",
    "\n",
    "\n",
    "plt.xlabel('Review Sentiments')\n",
    "\n",
    "plt.ylabel('Number of Review')\n",
    "\n",
    "\n",
    "plt.show()"
   ]
  },
  {
   "cell_type": "markdown",
   "metadata": {},
   "source": [
    "### Feature Generation using Bag of Words"
   ]
  },
  {
   "cell_type": "code",
   "execution_count": 103,
   "metadata": {},
   "outputs": [],
   "source": [
    "from sklearn.feature_extraction.text import CountVectorizer\n",
    "from nltk.tokenize import RegexpTokenizer\n",
    "\n",
    "#tokenizer to remove unwanted elements from out data like symbols and numbers\n",
    "\n",
    "token = RegexpTokenizer(r'[a-zA-Z0-9]+')\n",
    "cv = CountVectorizer(lowercase=True,stop_words='english',ngram_range = (1,1),tokenizer = token.tokenize)\n",
    "text_counts= cv.fit_transform(df['text'])"
   ]
  },
  {
   "cell_type": "markdown",
   "metadata": {},
   "source": [
    "### Split train and test set"
   ]
  },
  {
   "cell_type": "code",
   "execution_count": 116,
   "metadata": {},
   "outputs": [],
   "source": [
    "from sklearn.model_selection import train_test_split\n",
    "X_train, X_test, y_train, y_test = train_test_split(\n",
    "    text_counts, df['label'], test_size=0.3, random_state=1)"
   ]
  },
  {
   "cell_type": "markdown",
   "metadata": {},
   "source": [
    "### Model Building and Evaluation"
   ]
  },
  {
   "cell_type": "code",
   "execution_count": 117,
   "metadata": {},
   "outputs": [
    {
     "name": "stdout",
     "output_type": "stream",
     "text": [
      "MultinomialNB Accuracy: 0.8401730583441844\n"
     ]
    }
   ],
   "source": [
    "from sklearn.naive_bayes import MultinomialNB\n",
    "#Import scikit-learn metrics module for accuracy calculation\n",
    "from sklearn import metrics\n",
    "# Model Generation Using Multinomial Naive Bayes\n",
    "clf = MultinomialNB().fit(X_train, y_train)\n",
    "\n",
    "predicted= clf.predict(X_test)\n",
    "\n",
    "print(\"MultinomialNB Accuracy:\",metrics.accuracy_score(y_test, predicted))"
   ]
  },
  {
   "cell_type": "code",
   "execution_count": 118,
   "metadata": {},
   "outputs": [
    {
     "name": "stdout",
     "output_type": "stream",
     "text": [
      "              precision    recall  f1-score   support\n",
      "\n",
      "         0.0       0.66      0.29      0.40      4435\n",
      "         1.0       0.86      0.97      0.91     19372\n",
      "\n",
      "    accuracy                           0.84     23807\n",
      "   macro avg       0.76      0.63      0.66     23807\n",
      "weighted avg       0.82      0.84      0.81     23807\n",
      "\n"
     ]
    }
   ],
   "source": [
    "y_pred = clf.predict(X_test)\n",
    "print((y_test, y_pred))"
   ]
  },
  {
   "cell_type": "code",
   "execution_count": 119,
   "metadata": {},
   "outputs": [],
   "source": [
    "acc = metrics.accuracy_score(y_test, predicted)\n",
    "pre = metrics.precision_score(y_test, predicted)\n",
    "rec = metrics.recall_score(y_test, predicted)\n",
    "f1 =metrics.f1_score(y_test, predicted)"
   ]
  },
  {
   "cell_type": "code",
   "execution_count": 124,
   "metadata": {},
   "outputs": [
    {
     "data": {
      "image/png": "[encoded data removed]",
      "text/plain": [
       "<Figure size 640x480 with 1 Axes>"
      ]
     },
     "metadata": {},
     "output_type": "display_data"
    }
   ],
   "source": [
    "import matplotlib.pyplot as plt; plt.rcdefaults()\n",
    "import numpy as np\n",
    "import matplotlib.pyplot as plt\n",
    "\n",
    "\n",
    "objects = (\"accuracy\",\"precision\",\"recall\",\"f1-score\")\n",
    "y_pos = np.arange(len(objects))\n",
    "performance = [acc,pre,rec,f1]\n",
    "\n",
    "plt.bar(y_pos, performance, align='center', alpha=0.5)\n",
    "plt.xticks(y_pos, objects)\n",
    "plt.ylabel('value')\n",
    "plt.title('preformacne report')\n",
    "\n",
    "plt.show()"
   ]
  },
  {
   "cell_type": "markdown",
   "metadata": {},
   "source": [
    "### Feature Generation using TF-IDF"
   ]
  },
  {
   "cell_type": "code",
   "execution_count": 106,
   "metadata": {},
   "outputs": [],
   "source": [
    "from sklearn.feature_extraction.text import TfidfVectorizer\n",
    "tf=TfidfVectorizer()\n",
    "text_tf= tf.fit_transform(df['text'])"
   ]
  },
  {
   "cell_type": "markdown",
   "metadata": {},
   "source": [
    "##### Split train and test set (TF-IDF)"
   ]
  },
  {
   "cell_type": "code",
   "execution_count": 108,
   "metadata": {},
   "outputs": [],
   "source": [
    "from sklearn.model_selection import train_test_split\n",
    "X_train, X_test, y_train, y_test = train_test_split(\n",
    "    text_tf, df['label'], test_size=0.3, random_state=123)"
   ]
  },
  {
   "cell_type": "markdown",
   "metadata": {},
   "source": [
    "##### Model Building and Evaluation (TF-IDF)"
   ]
  },
  {
   "cell_type": "code",
   "execution_count": 109,
   "metadata": {},
   "outputs": [
    {
     "name": "stdout",
     "output_type": "stream",
     "text": [
      "MultinomialNB Accuracy: 0.8189608098458436\n"
     ]
    }
   ],
   "source": [
    "from sklearn.naive_bayes import MultinomialNB\n",
    "from sklearn import metrics\n",
    "# Model Generation Using Multinomial Naive Bayes\n",
    "clf = MultinomialNB().fit(X_train, y_train)\n",
    "predicted= clf.predict(X_test)\n",
    "print(\"MultinomialNB Accuracy:\",metrics.accuracy_score(y_test, predicted))"
   ]
  },
  {
   "cell_type": "code",
   "execution_count": 111,
   "metadata": {},
   "outputs": [
    {
     "name": "stdout",
     "output_type": "stream",
     "text": [
      "Train accuracy: 0.8252142291351624 , Test accuracy: 0.8189608098458436\n"
     ]
    }
   ],
   "source": [
    "from sklearn.metrics import classification_report, accuracy_score\n",
    "\n",
    "print(\"Train accuracy:\", clf.score(X_train, y_train), \", Test accuracy:\", clf.score(X_test, y_test))\n"
   ]
  },
  {
   "cell_type": "code",
   "execution_count": 113,
   "metadata": {},
   "outputs": [
    {
     "name": "stdout",
     "output_type": "stream",
     "text": [
      "              precision    recall  f1-score   support\n",
      "\n",
      "         0.0       0.78      0.02      0.04      4382\n",
      "         1.0       0.82      1.00      0.90     19425\n",
      "\n",
      "    accuracy                           0.82     23807\n",
      "   macro avg       0.80      0.51      0.47     23807\n",
      "weighted avg       0.81      0.82      0.74     23807\n",
      "\n"
     ]
    }
   ],
   "source": [
    "y_pred = clf.predict(X_test)\n",
    "print(classification_report(y_test, y_pred))"
   ]
  },
  {
   "cell_type": "code",
   "execution_count": null,
   "metadata": {},
   "outputs": [],
   "source": [
    "acc = metrics.accuracy_score(y_test, predicted)\n",
    "pre = metrics.precision_score(y_test, predicted)\n",
    "rec = metrics.recall_score(y_test, predicted)\n",
    "f1 =metrics.f1_score(y_test, predicted)"
   ]
  },
  {
   "cell_type": "code",
   "execution_count": 125,
   "metadata": {},
   "outputs": [
    {
     "data": {
      "image/png": "[encoded data removed]",
      "text/plain": [
       "<Figure size 640x480 with 1 Axes>"
      ]
     },
     "metadata": {},
     "output_type": "display_data"
    }
   ],
   "source": [
    "import matplotlib.pyplot as plt; plt.rcdefaults()\n",
    "import numpy as np\n",
    "import matplotlib.pyplot as plt\n",
    "\n",
    "\n",
    "objects = (\"accuracy\",\"precision\",\"recall\",\"f1-score\")\n",
    "y_pos = np.arange(len(objects))\n",
    "performance = [acc,pre,rec,f1]\n",
    "\n",
    "plt.bar(y_pos, performance, align='center', alpha=0.5)\n",
    "plt.xticks(y_pos, objects)\n",
    "plt.ylabel('value')\n",
    "plt.title('preformacne report')\n",
    "\n",
    "plt.show()"
   ]
  },
  {
   "cell_type": "markdown",
   "metadata": {},
   "source": [
    "##### Conclusion"
   ]
  },
  {
   "cell_type": "markdown",
   "metadata": {},
   "source": [
    "In this procedure, we conduct sentiment analysis and text classification using scikit-learn"
   ]
  }
 ],
 "metadata": {
  "kernelspec": {
   "display_name": "Python 3",
   "language": "python",
   "name": "python3"
  },
  "language_info": {
   "codemirror_mode": {
    "name": "ipython",
    "version": 3
   },
   "file_extension": ".py",
   "mimetype": "text/x-python",
   "name": "python",
   "nbconvert_exporter": "python",
   "pygments_lexer": "ipython3",
   "version": "3.7.3"
  }
 },
 "nbformat": 4,
 "nbformat_minor": 2
}
