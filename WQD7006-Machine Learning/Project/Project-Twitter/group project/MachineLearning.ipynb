{
 "cells": [
  {
   "cell_type": "markdown",
   "metadata": {},
   "source": [
    "# Machine Learning\n",
    "\n",
    "\n",
    "#### Purpose\n",
    "\n",
    "In this tutorial, we will extract features from Cleaned Tweets dataset.\n",
    "\n",
    "To analyze a preprocessed data, it needs to be converted into features.\n",
    "\n",
    "Depending upon the usage, text features can be constructed using assorted techniques – Bag-of-Words, TF-IDF"
   ]
  },
  {
   "cell_type": "markdown",
   "metadata": {},
   "source": [
    "### Load Tweets"
   ]
  },
  {
   "cell_type": "code",
   "execution_count": 1,
   "metadata": {},
   "outputs": [
    {
     "data": {
      "text/html": [
       "<div>\n",
       "<style scoped>\n",
       "    .dataframe tbody tr th:only-of-type {\n",
       "        vertical-align: middle;\n",
       "    }\n",
       "\n",
       "    .dataframe tbody tr th {\n",
       "        vertical-align: top;\n",
       "    }\n",
       "\n",
       "    .dataframe thead th {\n",
       "        text-align: right;\n",
       "    }\n",
       "</style>\n",
       "<table border=\"1\" class=\"dataframe\">\n",
       "  <thead>\n",
       "    <tr style=\"text-align: right;\">\n",
       "      <th></th>\n",
       "      <th>index</th>\n",
       "      <th>score</th>\n",
       "      <th>label</th>\n",
       "      <th>text</th>\n",
       "      <th>date</th>\n",
       "      <th>username</th>\n",
       "      <th>hashtags</th>\n",
       "    </tr>\n",
       "  </thead>\n",
       "  <tbody>\n",
       "    <tr>\n",
       "      <th>0</th>\n",
       "      <td>0</td>\n",
       "      <td>-0.0258</td>\n",
       "      <td>0.0</td>\n",
       "      <td>yes you can get burnout stress migraines even ...</td>\n",
       "      <td>4/29/2020 23:59</td>\n",
       "      <td>maria_emlano</td>\n",
       "      <td>#WFH</td>\n",
       "    </tr>\n",
       "    <tr>\n",
       "      <th>1</th>\n",
       "      <td>1</td>\n",
       "      <td>0.0000</td>\n",
       "      <td>NaN</td>\n",
       "      <td>it s am so i should probably change from my pj...</td>\n",
       "      <td>4/29/2020 23:59</td>\n",
       "      <td>DrHelen_Mac</td>\n",
       "      <td>#IsolationLife #WFH</td>\n",
       "    </tr>\n",
       "    <tr>\n",
       "      <th>2</th>\n",
       "      <td>2</td>\n",
       "      <td>0.1779</td>\n",
       "      <td>1.0</td>\n",
       "      <td>icymi an rsa customer and discuss how the incr...</td>\n",
       "      <td>4/29/2020 23:59</td>\n",
       "      <td>RSAsecurity</td>\n",
       "      <td>#ICYMI #WFH #security #DynamicWorkforceRisk</td>\n",
       "    </tr>\n",
       "    <tr>\n",
       "      <th>3</th>\n",
       "      <td>3</td>\n",
       "      <td>0.5719</td>\n",
       "      <td>1.0</td>\n",
       "      <td>my shift has ended hurray for the long weekend...</td>\n",
       "      <td>4/29/2020 23:59</td>\n",
       "      <td>iam_aikenlei</td>\n",
       "      <td>#wfh #longweekend #ecqpic</td>\n",
       "    </tr>\n",
       "    <tr>\n",
       "      <th>4</th>\n",
       "      <td>4</td>\n",
       "      <td>0.9349</td>\n",
       "      <td>1.0</td>\n",
       "      <td>who can share the best hr policy for wfh in my...</td>\n",
       "      <td>4/29/2020 23:59</td>\n",
       "      <td>subh10</td>\n",
       "      <td>#WFH</td>\n",
       "    </tr>\n",
       "  </tbody>\n",
       "</table>\n",
       "</div>"
      ],
      "text/plain": [
       "   index   score  label                                               text  \\\n",
       "0      0 -0.0258    0.0  yes you can get burnout stress migraines even ...   \n",
       "1      1  0.0000    NaN  it s am so i should probably change from my pj...   \n",
       "2      2  0.1779    1.0  icymi an rsa customer and discuss how the incr...   \n",
       "3      3  0.5719    1.0  my shift has ended hurray for the long weekend...   \n",
       "4      4  0.9349    1.0  who can share the best hr policy for wfh in my...   \n",
       "\n",
       "              date      username                                     hashtags  \n",
       "0  4/29/2020 23:59  maria_emlano                                         #WFH  \n",
       "1  4/29/2020 23:59   DrHelen_Mac                          #IsolationLife #WFH  \n",
       "2  4/29/2020 23:59   RSAsecurity  #ICYMI #WFH #security #DynamicWorkforceRisk  \n",
       "3  4/29/2020 23:59  iam_aikenlei                    #wfh #longweekend #ecqpic  \n",
       "4  4/29/2020 23:59        subh10                                         #WFH  "
      ]
     },
     "execution_count": 1,
     "metadata": {},
     "output_type": "execute_result"
    }
   ],
   "source": [
    "#Import Libraries\n",
    "import re\n",
    "import pandas as pd\n",
    "import numpy as np\n",
    "import matplotlib.pyplot as plt\n",
    "import seaborn as sns\n",
    "import string\n",
    "import nltk\n",
    "import warnings\n",
    "\n",
    "warnings.filterwarnings(\"ignore\", category=DeprecationWarning)\n",
    "%matplotlib inline\n",
    "\n",
    "\n",
    "df = pd.read_csv(\"label_tweets_v2.csv\")\n",
    "df=df.rename(columns={\"Unnamed: 0\":\"index\"})\n",
    "\n",
    "# locad the data \n",
    "df.head()"
   ]
  },
  {
   "cell_type": "code",
   "execution_count": 2,
   "metadata": {},
   "outputs": [
    {
     "data": {
      "text/plain": [
       "index       0\n",
       "score       0\n",
       "label       0\n",
       "text        0\n",
       "date        0\n",
       "username    0\n",
       "hashtags    0\n",
       "dtype: int64"
      ]
     },
     "execution_count": 2,
     "metadata": {},
     "output_type": "execute_result"
    }
   ],
   "source": [
    "# remove null value\n",
    "df=df.dropna()\n",
    "df.isnull().sum()"
   ]
  },
  {
   "cell_type": "code",
   "execution_count": 3,
   "metadata": {},
   "outputs": [
    {
     "data": {
      "text/plain": [
       "1.0    64838\n",
       "0.0    14517\n",
       "Name: label, dtype: int64"
      ]
     },
     "execution_count": 3,
     "metadata": {},
     "output_type": "execute_result"
    }
   ],
   "source": [
    "df.label.value_counts()"
   ]
  },
  {
   "cell_type": "markdown",
   "metadata": {},
   "source": [
    "### Bag-of-Words"
   ]
  },
  {
   "cell_type": "code",
   "execution_count": 4,
   "metadata": {},
   "outputs": [],
   "source": [
    "from sklearn.feature_extraction.text import CountVectorizer\n",
    "bow_vectorizer = CountVectorizer(max_df=0.90, min_df=2, max_features=1000, stop_words='english')\n",
    "# bag-of-words feature matrix\n",
    "bagOfWord = bow_vectorizer.fit_transform(df['text'])"
   ]
  },
  {
   "cell_type": "code",
   "execution_count": 5,
   "metadata": {},
   "outputs": [],
   "source": [
    "# traing data & target data\n",
    "X= bagOfWord\n",
    "y= df['label']"
   ]
  },
  {
   "cell_type": "code",
   "execution_count": 6,
   "metadata": {},
   "outputs": [],
   "source": [
    "from sklearn.model_selection import train_test_split\n",
    "\n",
    "# splitting data into training and validation set\n",
    "X_train, X_test, y_train, y_test = train_test_split(X, y, random_state=4, test_size=0.3)"
   ]
  },
  {
   "cell_type": "markdown",
   "metadata": {},
   "source": [
    "##### Naive Bayes "
   ]
  },
  {
   "cell_type": "markdown",
   "metadata": {},
   "source": [
    "- Naive Bayes"
   ]
  },
  {
   "cell_type": "code",
   "execution_count": 7,
   "metadata": {},
   "outputs": [
    {
     "data": {
      "text/plain": [
       "MultinomialNB(alpha=1.0, class_prior=None, fit_prior=True)"
      ]
     },
     "execution_count": 7,
     "metadata": {},
     "output_type": "execute_result"
    }
   ],
   "source": [
    "from sklearn.naive_bayes import MultinomialNB\n",
    "\n",
    "\n",
    "naiveBayes = MultinomialNB()\n",
    "\n",
    "\n",
    "# training the model\n",
    "naiveBayes.fit(X_train,y_train) \n"
   ]
  },
  {
   "cell_type": "markdown",
   "metadata": {},
   "source": [
    "- Naive Bayes Performance"
   ]
  },
  {
   "cell_type": "code",
   "execution_count": 8,
   "metadata": {},
   "outputs": [
    {
     "name": "stdout",
     "output_type": "stream",
     "text": [
      "              precision    recall  f1-score   support\n",
      "\n",
      "         0.0       0.60      0.46      0.52      4291\n",
      "         1.0       0.89      0.93      0.91     19516\n",
      "\n",
      "    accuracy                           0.85     23807\n",
      "   macro avg       0.74      0.69      0.71     23807\n",
      "weighted avg       0.83      0.85      0.84     23807\n",
      "\n"
     ]
    }
   ],
   "source": [
    "from sklearn.metrics import classification_report, accuracy_score\n",
    "from sklearn import metrics\n",
    "# predicting on the validation set\n",
    "predicted= naiveBayes.predict(X_test)\n",
    "\n",
    "print(classification_report(y_test, predicted))"
   ]
  },
  {
   "cell_type": "code",
   "execution_count": 9,
   "metadata": {},
   "outputs": [],
   "source": [
    "accuracy = metrics.accuracy_score(y_test, predicted)\n",
    "precision = metrics.precision_score(y_test, predicted)\n",
    "recall = metrics.recall_score(y_test, predicted)\n",
    "f1_score=metrics.f1_score(y_test, predicted)"
   ]
  },
  {
   "cell_type": "code",
   "execution_count": 10,
   "metadata": {},
   "outputs": [
    {
     "data": {
      "image/png": "[encoded data removed]",
      "text/plain": [
       "<Figure size 640x480 with 1 Axes>"
      ]
     },
     "metadata": {},
     "output_type": "display_data"
    }
   ],
   "source": [
    "import matplotlib.pyplot as plt; plt.rcdefaults()\n",
    "import numpy as np\n",
    "import matplotlib.pyplot as plt\n",
    "\n",
    "\n",
    "objects = (\"accuracy\",\"precision\",\"recall\",\"f1-score\")\n",
    "y_pos = np.arange(len(objects))\n",
    "performance1 = [accuracy,precision,recall,f1_score]\n",
    "\n",
    "plt.bar(y_pos, performance1, align='center', alpha=0.5)\n",
    "plt.xticks(y_pos, objects)\n",
    "plt.ylabel('value')\n",
    "plt.title('preformacne report')\n",
    "\n",
    "plt.show()\n"
   ]
  },
  {
   "cell_type": "markdown",
   "metadata": {},
   "source": [
    "##### LogisticRegression"
   ]
  },
  {
   "cell_type": "markdown",
   "metadata": {},
   "source": [
    "- LogisticRegression"
   ]
  },
  {
   "cell_type": "code",
   "execution_count": 11,
   "metadata": {},
   "outputs": [
    {
     "name": "stderr",
     "output_type": "stream",
     "text": [
      "/Users/liuhongyang/anaconda3/lib/python3.7/site-packages/sklearn/linear_model/logistic.py:432: FutureWarning: Default solver will be changed to 'lbfgs' in 0.22. Specify a solver to silence this warning.\n",
      "  FutureWarning)\n"
     ]
    },
    {
     "data": {
      "text/plain": [
       "LogisticRegression(C=1.0, class_weight=None, dual=False, fit_intercept=True,\n",
       "                   intercept_scaling=1, l1_ratio=None, max_iter=100,\n",
       "                   multi_class='warn', n_jobs=None, penalty='l2',\n",
       "                   random_state=None, solver='warn', tol=0.0001, verbose=0,\n",
       "                   warm_start=False)"
      ]
     },
     "execution_count": 11,
     "metadata": {},
     "output_type": "execute_result"
    }
   ],
   "source": [
    "# import libraries\n",
    "from sklearn.linear_model import LogisticRegression\n",
    "\n",
    "logisticRegression = LogisticRegression()\n",
    "\n",
    "# training the model\n",
    "logisticRegression.fit(X_train,y_train) "
   ]
  },
  {
   "cell_type": "markdown",
   "metadata": {},
   "source": [
    "- LogisticRegression performance"
   ]
  },
  {
   "cell_type": "code",
   "execution_count": 12,
   "metadata": {},
   "outputs": [
    {
     "name": "stdout",
     "output_type": "stream",
     "text": [
      "              precision    recall  f1-score   support\n",
      "\n",
      "         0.0       0.73      0.47      0.57      4291\n",
      "         1.0       0.89      0.96      0.93     19516\n",
      "\n",
      "    accuracy                           0.87     23807\n",
      "   macro avg       0.81      0.71      0.75     23807\n",
      "weighted avg       0.86      0.87      0.86     23807\n",
      "\n"
     ]
    }
   ],
   "source": [
    "from sklearn.metrics import classification_report, accuracy_score\n",
    "from sklearn import metrics\n",
    "# predicting on the validation set\n",
    "\n",
    "predicted= logisticRegression.predict(X_test)\n",
    "\n",
    "print(classification_report(y_test, predicted))"
   ]
  },
  {
   "cell_type": "code",
   "execution_count": 13,
   "metadata": {},
   "outputs": [],
   "source": [
    "accuracy = metrics.accuracy_score(y_test, predicted)\n",
    "precision = metrics.precision_score(y_test, predicted)\n",
    "recall = metrics.recall_score(y_test, predicted)\n",
    "f1_score=metrics.f1_score(y_test, predicted)"
   ]
  },
  {
   "cell_type": "code",
   "execution_count": 14,
   "metadata": {},
   "outputs": [
    {
     "data": {
      "image/png": "[encoded data removed]",
      "text/plain": [
       "<Figure size 640x480 with 1 Axes>"
      ]
     },
     "metadata": {},
     "output_type": "display_data"
    }
   ],
   "source": [
    "import matplotlib.pyplot as plt; plt.rcdefaults()\n",
    "import numpy as np\n",
    "import matplotlib.pyplot as plt\n",
    "\n",
    "\n",
    "objects = (\"accuracy\",\"precision\",\"recall\",\"f1-score\")\n",
    "y_pos = np.arange(len(objects))\n",
    "performance2 = [accuracy,precision,recall,f1_score]\n",
    "\n",
    "plt.bar(y_pos, performance2, align='center', alpha=0.5)\n",
    "plt.xticks(y_pos, objects)\n",
    "plt.ylabel('value')\n",
    "plt.title('preformacne report')\n",
    "\n",
    "plt.show()"
   ]
  },
  {
   "cell_type": "markdown",
   "metadata": {},
   "source": [
    "##### Decision Tree"
   ]
  },
  {
   "cell_type": "markdown",
   "metadata": {},
   "source": [
    "- Decision Tree"
   ]
  },
  {
   "cell_type": "code",
   "execution_count": 15,
   "metadata": {},
   "outputs": [
    {
     "data": {
      "text/plain": [
       "DecisionTreeClassifier(class_weight=None, criterion='gini', max_depth=None,\n",
       "                       max_features=None, max_leaf_nodes=None,\n",
       "                       min_impurity_decrease=0.0, min_impurity_split=None,\n",
       "                       min_samples_leaf=1, min_samples_split=2,\n",
       "                       min_weight_fraction_leaf=0.0, presort=False,\n",
       "                       random_state=None, splitter='best')"
      ]
     },
     "execution_count": 15,
     "metadata": {},
     "output_type": "execute_result"
    }
   ],
   "source": [
    "# import libraries\n",
    "from sklearn import tree\n",
    "\n",
    "decisiontree = tree.DecisionTreeClassifier()\n",
    "\n",
    "# training the model\n",
    "decisiontree.fit(X_train,y_train) "
   ]
  },
  {
   "cell_type": "markdown",
   "metadata": {},
   "source": [
    "- DecisionTree performance"
   ]
  },
  {
   "cell_type": "code",
   "execution_count": 16,
   "metadata": {},
   "outputs": [
    {
     "name": "stdout",
     "output_type": "stream",
     "text": [
      "              precision    recall  f1-score   support\n",
      "\n",
      "         0.0       0.46      0.54      0.50      4291\n",
      "         1.0       0.89      0.86      0.88     19516\n",
      "\n",
      "    accuracy                           0.80     23807\n",
      "   macro avg       0.68      0.70      0.69     23807\n",
      "weighted avg       0.82      0.80      0.81     23807\n",
      "\n"
     ]
    }
   ],
   "source": [
    "from sklearn.metrics import classification_report, accuracy_score\n",
    "from sklearn import metrics\n",
    "\n",
    "# predicting on the validation set\n",
    "predicted= decisiontree.predict(X_test)\n",
    "\n",
    "print(classification_report(y_test, predicted))"
   ]
  },
  {
   "cell_type": "code",
   "execution_count": 17,
   "metadata": {},
   "outputs": [],
   "source": [
    "accuracy = metrics.accuracy_score(y_test, predicted)\n",
    "precision = metrics.precision_score(y_test, predicted)\n",
    "recall = metrics.recall_score(y_test, predicted)\n",
    "f1_score=metrics.f1_score(y_test, predicted)"
   ]
  },
  {
   "cell_type": "code",
   "execution_count": 18,
   "metadata": {},
   "outputs": [
    {
     "data": {
      "image/png": "[encoded data removed]",
      "text/plain": [
       "<Figure size 640x480 with 1 Axes>"
      ]
     },
     "metadata": {},
     "output_type": "display_data"
    }
   ],
   "source": [
    "import matplotlib.pyplot as plt; plt.rcdefaults()\n",
    "import numpy as np\n",
    "import matplotlib.pyplot as plt\n",
    "\n",
    "\n",
    "objects = (\"accuracy\",\"precision\",\"recall\",\"f1-score\")\n",
    "y_pos = np.arange(len(objects))\n",
    "performance3 = [accuracy,precision,recall,f1_score]\n",
    "\n",
    "plt.bar(y_pos, performance3, align='center', alpha=0.5)\n",
    "plt.xticks(y_pos, objects)\n",
    "plt.ylabel('value')\n",
    "plt.title('preformacne report')\n",
    "\n",
    "plt.show()"
   ]
  },
  {
   "cell_type": "markdown",
   "metadata": {},
   "source": [
    "##### Summary\n",
    "\n",
    "Performance for Naive Bayes, Logistic Regress and Decision Tree using Bag-of-Words"
   ]
  },
  {
   "cell_type": "code",
   "execution_count": 19,
   "metadata": {},
   "outputs": [
    {
     "data": {
      "image/png": "[encoded data removed]",
      "text/plain": [
       "<Figure size 640x480 with 1 Axes>"
      ]
     },
     "metadata": {},
     "output_type": "display_data"
    }
   ],
   "source": [
    "import numpy as np\n",
    "import matplotlib.pyplot as plt\n",
    "\n",
    "# data to plot\n",
    "n_groups = 4\n",
    "\n",
    "\n",
    "# create plot\n",
    "fig, ax = plt.subplots()\n",
    "index = np.arange(n_groups)\n",
    "bar_width = 0.25\n",
    "opacity = 0.95\n",
    "\n",
    "rects1 = plt.bar(index, performance1, bar_width,\n",
    "alpha=opacity,\n",
    "color='b',\n",
    "label='Naive Bayes')\n",
    "\n",
    "rects2 = plt.bar(index + bar_width,performance2, bar_width,\n",
    "alpha=opacity,\n",
    "color='g',\n",
    "label='LogisticRegression')\n",
    "\n",
    "\n",
    "rects3 = plt.bar(index + bar_width+ bar_width, performance3, bar_width,\n",
    "alpha=opacity,\n",
    "color='r',\n",
    "label='Decision Tree')\n",
    "\n",
    "\n",
    "\n",
    "plt.xlabel('Measurements')\n",
    "plt.ylabel('Scores')\n",
    "plt.title('Bag-of-Words: Metrics by Algorithms')\n",
    "\n",
    "\n",
    "plt.xticks(index + bar_width, ('Accuracy', 'Precision', 'Recall', 'F1-Score'))\n",
    "plt.legend()\n",
    "\n",
    "plt.tight_layout()\n",
    "plt.show()"
   ]
  },
  {
   "cell_type": "markdown",
   "metadata": {},
   "source": [
    "### TF-IDF Features"
   ]
  },
  {
   "cell_type": "code",
   "execution_count": 20,
   "metadata": {},
   "outputs": [],
   "source": [
    "from sklearn.feature_extraction.text import TfidfVectorizer\n",
    "tfidf_vectorizer = TfidfVectorizer(max_df=0.90, min_df=2, max_features=1000, stop_words='english')\n",
    "# TF-IDF feature matrix\n",
    "tfIdf = tfidf_vectorizer.fit_transform(df['text'])\n"
   ]
  },
  {
   "cell_type": "code",
   "execution_count": 21,
   "metadata": {},
   "outputs": [],
   "source": [
    "# traing data & target data\n",
    "X= tfIdf\n",
    "y= df['label']"
   ]
  },
  {
   "cell_type": "code",
   "execution_count": 22,
   "metadata": {},
   "outputs": [],
   "source": [
    "from sklearn.model_selection import train_test_split\n",
    "\n",
    "# splitting data into training and validation set\n",
    "X_train, X_test, y_train, y_test = train_test_split(X, y, random_state=4, test_size=0.3)"
   ]
  },
  {
   "cell_type": "markdown",
   "metadata": {},
   "source": [
    "##### Naive Bayes "
   ]
  },
  {
   "cell_type": "markdown",
   "metadata": {},
   "source": [
    "- Naive Bayes"
   ]
  },
  {
   "cell_type": "code",
   "execution_count": 23,
   "metadata": {},
   "outputs": [
    {
     "data": {
      "text/plain": [
       "MultinomialNB(alpha=1.0, class_prior=None, fit_prior=True)"
      ]
     },
     "execution_count": 23,
     "metadata": {},
     "output_type": "execute_result"
    }
   ],
   "source": [
    "from sklearn.naive_bayes import MultinomialNB\n",
    "\n",
    "\n",
    "naiveBayes = MultinomialNB()\n",
    "\n",
    "\n",
    "# training the model\n",
    "naiveBayes.fit(X_train,y_train) \n"
   ]
  },
  {
   "cell_type": "code",
   "execution_count": 24,
   "metadata": {},
   "outputs": [],
   "source": [
    "from sklearn.model_selection import train_test_split\n",
    "\n",
    "# splitting data into training and validation set\n",
    "X_train, X_test, y_train, y_test = train_test_split(X, y, random_state=4, test_size=0.3)"
   ]
  },
  {
   "cell_type": "markdown",
   "metadata": {},
   "source": [
    "- Naive Bayes Performance"
   ]
  },
  {
   "cell_type": "code",
   "execution_count": 25,
   "metadata": {},
   "outputs": [
    {
     "name": "stdout",
     "output_type": "stream",
     "text": [
      "              precision    recall  f1-score   support\n",
      "\n",
      "         0.0       0.87      0.09      0.16      4291\n",
      "         1.0       0.83      1.00      0.91     19516\n",
      "\n",
      "    accuracy                           0.83     23807\n",
      "   macro avg       0.85      0.54      0.54     23807\n",
      "weighted avg       0.84      0.83      0.77     23807\n",
      "\n"
     ]
    }
   ],
   "source": [
    "from sklearn.metrics import classification_report, accuracy_score\n",
    "from sklearn import metrics\n",
    "# predicting on the validation set\n",
    "predicted= naiveBayes.predict(X_test)\n",
    "\n",
    "print(classification_report(y_test, predicted))"
   ]
  },
  {
   "cell_type": "code",
   "execution_count": 26,
   "metadata": {},
   "outputs": [],
   "source": [
    "accuracy = metrics.accuracy_score(y_test, predicted)\n",
    "precision = metrics.precision_score(y_test, predicted)\n",
    "recall = metrics.recall_score(y_test, predicted)\n",
    "f1_score=metrics.f1_score(y_test, predicted)"
   ]
  },
  {
   "cell_type": "code",
   "execution_count": 27,
   "metadata": {},
   "outputs": [
    {
     "data": {
      "image/png": "[encoded data removed]",
      "text/plain": [
       "<Figure size 640x480 with 1 Axes>"
      ]
     },
     "metadata": {},
     "output_type": "display_data"
    }
   ],
   "source": [
    "import matplotlib.pyplot as plt; plt.rcdefaults()\n",
    "import numpy as np\n",
    "import matplotlib.pyplot as plt\n",
    "\n",
    "\n",
    "objects = (\"accuracy\",\"precision\",\"recall\",\"f1-score\")\n",
    "y_pos = np.arange(len(objects))\n",
    "performance1 = [accuracy,precision,recall,f1_score]\n",
    "\n",
    "plt.bar(y_pos, performance1, align='center', alpha=0.5)\n",
    "plt.xticks(y_pos, objects)\n",
    "plt.ylabel('value')\n",
    "plt.title('preformacne report')\n",
    "\n",
    "plt.show()"
   ]
  },
  {
   "cell_type": "markdown",
   "metadata": {},
   "source": [
    "##### LogisticRegression"
   ]
  },
  {
   "cell_type": "markdown",
   "metadata": {},
   "source": [
    "- LogisticRegression"
   ]
  },
  {
   "cell_type": "code",
   "execution_count": 28,
   "metadata": {},
   "outputs": [
    {
     "name": "stderr",
     "output_type": "stream",
     "text": [
      "/Users/liuhongyang/anaconda3/lib/python3.7/site-packages/sklearn/linear_model/logistic.py:432: FutureWarning: Default solver will be changed to 'lbfgs' in 0.22. Specify a solver to silence this warning.\n",
      "  FutureWarning)\n"
     ]
    },
    {
     "data": {
      "text/plain": [
       "LogisticRegression(C=1.0, class_weight=None, dual=False, fit_intercept=True,\n",
       "                   intercept_scaling=1, l1_ratio=None, max_iter=100,\n",
       "                   multi_class='warn', n_jobs=None, penalty='l2',\n",
       "                   random_state=None, solver='warn', tol=0.0001, verbose=0,\n",
       "                   warm_start=False)"
      ]
     },
     "execution_count": 28,
     "metadata": {},
     "output_type": "execute_result"
    }
   ],
   "source": [
    "# import libraries\n",
    "from sklearn.linear_model import LogisticRegression\n",
    "\n",
    "logisticRegression = LogisticRegression()\n",
    "\n",
    "# training the model\n",
    "logisticRegression.fit(X_train,y_train) "
   ]
  },
  {
   "cell_type": "markdown",
   "metadata": {},
   "source": [
    "- LogisticRegression performance"
   ]
  },
  {
   "cell_type": "code",
   "execution_count": 29,
   "metadata": {},
   "outputs": [
    {
     "name": "stdout",
     "output_type": "stream",
     "text": [
      "              precision    recall  f1-score   support\n",
      "\n",
      "         0.0       0.75      0.40      0.52      4291\n",
      "         1.0       0.88      0.97      0.92     19516\n",
      "\n",
      "    accuracy                           0.87     23807\n",
      "   macro avg       0.81      0.68      0.72     23807\n",
      "weighted avg       0.86      0.87      0.85     23807\n",
      "\n"
     ]
    }
   ],
   "source": [
    "from sklearn.metrics import classification_report, accuracy_score\n",
    "from sklearn import metrics\n",
    "# predicting on the validation set\n",
    "\n",
    "predicted= logisticRegression.predict(X_test)\n",
    "\n",
    "print(classification_report(y_test, predicted))"
   ]
  },
  {
   "cell_type": "code",
   "execution_count": 30,
   "metadata": {},
   "outputs": [],
   "source": [
    "accuracy = metrics.accuracy_score(y_test, predicted)\n",
    "precision = metrics.precision_score(y_test, predicted)\n",
    "recall = metrics.recall_score(y_test, predicted)\n",
    "f1_score=metrics.f1_score(y_test, predicted)"
   ]
  },
  {
   "cell_type": "code",
   "execution_count": 31,
   "metadata": {},
   "outputs": [
    {
     "data": {
      "image/png": "[encoded data removed]",
      "text/plain": [
       "<Figure size 640x480 with 1 Axes>"
      ]
     },
     "metadata": {},
     "output_type": "display_data"
    }
   ],
   "source": [
    "import matplotlib.pyplot as plt; plt.rcdefaults()\n",
    "import numpy as np\n",
    "import matplotlib.pyplot as plt\n",
    "\n",
    "\n",
    "objects = (\"accuracy\",\"precision\",\"recall\",\"f1-score\")\n",
    "y_pos = np.arange(len(objects))\n",
    "performance2 = [accuracy,precision,recall,f1_score]\n",
    "\n",
    "plt.bar(y_pos, performance2, align='center', alpha=0.5)\n",
    "plt.xticks(y_pos, objects)\n",
    "plt.ylabel('value')\n",
    "plt.title('preformacne report')\n",
    "\n",
    "plt.show()"
   ]
  },
  {
   "cell_type": "markdown",
   "metadata": {},
   "source": [
    "##### Decision Tree"
   ]
  },
  {
   "cell_type": "markdown",
   "metadata": {},
   "source": [
    "- Decision Tree"
   ]
  },
  {
   "cell_type": "code",
   "execution_count": 32,
   "metadata": {},
   "outputs": [
    {
     "data": {
      "text/plain": [
       "DecisionTreeClassifier(class_weight=None, criterion='gini', max_depth=None,\n",
       "                       max_features=None, max_leaf_nodes=None,\n",
       "                       min_impurity_decrease=0.0, min_impurity_split=None,\n",
       "                       min_samples_leaf=1, min_samples_split=2,\n",
       "                       min_weight_fraction_leaf=0.0, presort=False,\n",
       "                       random_state=None, splitter='best')"
      ]
     },
     "execution_count": 32,
     "metadata": {},
     "output_type": "execute_result"
    }
   ],
   "source": [
    "# import libraries\n",
    "from sklearn import tree\n",
    "\n",
    "decisiontree = tree.DecisionTreeClassifier()\n",
    "\n",
    "# training the model\n",
    "decisiontree.fit(X_train,y_train) "
   ]
  },
  {
   "cell_type": "markdown",
   "metadata": {},
   "source": [
    "- DecisionTree performance"
   ]
  },
  {
   "cell_type": "code",
   "execution_count": 33,
   "metadata": {},
   "outputs": [
    {
     "name": "stdout",
     "output_type": "stream",
     "text": [
      "              precision    recall  f1-score   support\n",
      "\n",
      "         0.0       0.48      0.47      0.47      4291\n",
      "         1.0       0.88      0.89      0.89     19516\n",
      "\n",
      "    accuracy                           0.81     23807\n",
      "   macro avg       0.68      0.68      0.68     23807\n",
      "weighted avg       0.81      0.81      0.81     23807\n",
      "\n"
     ]
    }
   ],
   "source": [
    "from sklearn.metrics import classification_report, accuracy_score\n",
    "from sklearn import metrics\n",
    "\n",
    "# predicting on the validation set\n",
    "predicted= decisiontree.predict(X_test)\n",
    "\n",
    "print(classification_report(y_test, predicted))"
   ]
  },
  {
   "cell_type": "code",
   "execution_count": 34,
   "metadata": {},
   "outputs": [],
   "source": [
    "accuracy = metrics.accuracy_score(y_test, predicted)\n",
    "precision = metrics.precision_score(y_test, predicted)\n",
    "recall = metrics.recall_score(y_test, predicted)\n",
    "f1_score=metrics.f1_score(y_test, predicted)"
   ]
  },
  {
   "cell_type": "code",
   "execution_count": 35,
   "metadata": {},
   "outputs": [
    {
     "data": {
      "image/png": "[encoded data removed]",
      "text/plain": [
       "<Figure size 640x480 with 1 Axes>"
      ]
     },
     "metadata": {},
     "output_type": "display_data"
    }
   ],
   "source": [
    "import matplotlib.pyplot as plt; plt.rcdefaults()\n",
    "import numpy as np\n",
    "import matplotlib.pyplot as plt\n",
    "\n",
    "\n",
    "objects = (\"accuracy\",\"precision\",\"recall\",\"f1-score\")\n",
    "y_pos = np.arange(len(objects))\n",
    "performance3 = [accuracy,precision,recall,f1_score]\n",
    "\n",
    "plt.bar(y_pos, performance3, align='center', alpha=0.5)\n",
    "plt.xticks(y_pos, objects)\n",
    "plt.ylabel('value')\n",
    "plt.title('preformacne report')\n",
    "\n",
    "plt.show()"
   ]
  },
  {
   "cell_type": "markdown",
   "metadata": {},
   "source": [
    "##### Summary\n",
    "\n",
    "Performance for Naive Bayes, Logistic Regress and Decision Tree using TF-IDF Features"
   ]
  },
  {
   "cell_type": "code",
   "execution_count": 36,
   "metadata": {},
   "outputs": [
    {
     "data": {
      "image/png": "[encoded data removed]",
      "text/plain": [
       "<Figure size 640x480 with 1 Axes>"
      ]
     },
     "metadata": {},
     "output_type": "display_data"
    }
   ],
   "source": [
    "import numpy as np\n",
    "import matplotlib.pyplot as plt\n",
    "\n",
    "# data to plot\n",
    "n_groups = 4\n",
    "\n",
    "\n",
    "# create plot\n",
    "fig, ax = plt.subplots()\n",
    "index = np.arange(n_groups)\n",
    "bar_width = 0.25\n",
    "opacity = 0.95\n",
    "\n",
    "rects1 = plt.bar(index, performance1, bar_width,\n",
    "alpha=opacity,\n",
    "color='b',\n",
    "label='Naive Bayes')\n",
    "\n",
    "rects2 = plt.bar(index + bar_width,performance2, bar_width,\n",
    "alpha=opacity,\n",
    "color='g',\n",
    "label='LogisticRegression')\n",
    "\n",
    "\n",
    "rects3 = plt.bar(index + bar_width+ bar_width, performance3, bar_width,\n",
    "alpha=opacity,\n",
    "color='r',\n",
    "label='Decision Tree')\n",
    "\n",
    "\n",
    "\n",
    "plt.xlabel('Measurements')\n",
    "plt.ylabel('Scores')\n",
    "plt.title('TF-IDF Features: Metrics by Algorithms')\n",
    "\n",
    "\n",
    "plt.xticks(index + bar_width, ('Accuracy', 'Precision', 'Recall', 'F1-Score'))\n",
    "plt.legend()\n",
    "\n",
    "plt.tight_layout()\n",
    "plt.show()"
   ]
  },
  {
   "cell_type": "markdown",
   "metadata": {},
   "source": [
    "### Overall Summary"
   ]
  },
  {
   "cell_type": "markdown",
   "metadata": {},
   "source": [
    "In this tutorial, we use two different techniques: Bag-of-Words, TF-IDF to construct features and three different machine learning algorithms to train the data and four different metrics to evaluate the algorithm performance.\n",
    "\n",
    "In the Bag-of-Words techniques:\n",
    "\n",
    "- The Logistic regression has better performance for classifying the text data \n",
    "\n",
    "\n",
    "In the TF-IDF  techniques:\n",
    "\n",
    "- The Naive bayes has better performance in recall rate while the LogisticRegression algorithm still has better performance in their another three metrics."
   ]
  },
  {
   "cell_type": "code",
   "execution_count": null,
   "metadata": {},
   "outputs": [],
   "source": []
  }
 ],
 "metadata": {
  "kernelspec": {
   "display_name": "Python 3",
   "language": "python",
   "name": "python3"
  },
  "language_info": {
   "codemirror_mode": {
    "name": "ipython",
    "version": 3
   },
   "file_extension": ".py",
   "mimetype": "text/x-python",
   "name": "python",
   "nbconvert_exporter": "python",
   "pygments_lexer": "ipython3",
   "version": "3.7.3"
  }
 },
 "nbformat": 4,
 "nbformat_minor": 2
}
